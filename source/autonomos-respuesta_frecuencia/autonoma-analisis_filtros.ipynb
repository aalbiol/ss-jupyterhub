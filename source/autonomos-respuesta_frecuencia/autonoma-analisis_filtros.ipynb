{
 "cells": [
  {
   "cell_type": "markdown",
   "id": "usual-monitor",
   "metadata": {
    "nbgrader": {
     "grade": false,
     "grade_id": "cell-5bbdd348b0a1b5a3",
     "locked": true,
     "schema_version": 3,
     "solution": false,
     "task": false
    }
   },
   "source": [
    "# Análisis de filtros\n",
    "\n",
    "En este cuaderno, se le proporciona una función que implementa un filtro digital (sistema LTI), es decir se le proporcionan las muestras de la señal de entrada y devuelve las muetras de la señal de salida.\n",
    "\n",
    "Usando el procedimiento visto en la práctica de ir introduciendo sinusoides y comparar la amplitud de entrada con la de la salida, tiene que determinar el módulo de la respuesta en frecuencia del sistema dado.\n",
    "\n",
    "\n"
   ]
  },
  {
   "cell_type": "code",
   "execution_count": 3,
   "id": "breathing-tonight",
   "metadata": {
    "nbgrader": {
     "grade": false,
     "grade_id": "cell-8644b9b062ee9de2",
     "locked": true,
     "schema_version": 3,
     "solution": false,
     "task": false
    }
   },
   "outputs": [],
   "source": [
    "%matplotlib inline\n",
    "import numpy as np\n",
    "\n",
    "import matplotlib\n",
    "import matplotlib.pyplot as plt\n",
    "from scipy import signal\n",
    "\n",
    "#Hacer que las figuras por defecto salgan más grandes\n",
    "matplotlib.rcParams['figure.figsize'] = (10.0, 5.0)\n",
    "\n",
    "\n",
    "import math\n",
    "import cmath\n",
    "\n",
    "import warnings\n",
    "warnings.filterwarnings('ignore')\n"
   ]
  },
  {
   "cell_type": "markdown",
   "id": "8ddf4692",
   "metadata": {
    "nbgrader": {
     "grade": false,
     "grade_id": "cell-65e0f3e341e980f0",
     "locked": true,
     "schema_version": 3,
     "solution": false,
     "task": false
    }
   },
   "source": [
    "# Definición del sistema del que se quiere medir la respuesta en frecuencia"
   ]
  },
  {
   "cell_type": "code",
   "execution_count": 22,
   "id": "1707d568",
   "metadata": {
    "nbgrader": {
     "grade": false,
     "grade_id": "cell-df71f0d697226320",
     "locked": true,
     "schema_version": 3,
     "solution": false,
     "task": false
    }
   },
   "outputs": [],
   "source": [
    "def sistema1(x):\n",
    "    h1=np.ones(7)/7\n",
    "    h2=np.ones(3)/3\n",
    "    y=np.convolve(x,h1,'same')\n",
    "    y=np.convolve(y,h2,'same')\n",
    "    return y\n",
    "\n",
    "def sistema2(x):\n",
    "    h1=np.ones(7)/7\n",
    "    h2=np.ones(7)/7\n",
    "    h2[::2] *= -1.0\n",
    "    y1=np.convolve(x,h1,'same')\n",
    "    y2=np.convolve(x,h2,'same')\n",
    "    return y1+y2\n",
    "    "
   ]
  },
  {
   "cell_type": "markdown",
   "id": "bb664665",
   "metadata": {
    "nbgrader": {
     "grade": false,
     "grade_id": "cell-fa108d838f394184",
     "locked": true,
     "schema_version": 3,
     "solution": false,
     "task": false
    }
   },
   "source": [
    "## Función que calcula la respuesta en frecuencia a una cierta frecuencia\n",
    "\n",
    "Programe una función que reciba como argumentos:\n",
    "* Un sistema\n",
    "* Una frecuencia\n",
    "y devuelva la ganancia en amplitud del sistema a esa frecuencia\n",
    "\n",
    "La función debe \n",
    "* generar internamente un coseno suficientemente largo (100000 muestras) de la frecuencia dada.\n",
    "* introducir la sinusoide en el sistema\n",
    "* Determinar la amplitud de la sinusoide de salida\n",
    "* Determinar el cociente entre la amplitud de salida y la de entrada\n",
    "\n",
    "**IMPORTANTE: Probablemente deba distibuir el caso de que la frecuencia sea cero del resto**\n"
   ]
  },
  {
   "cell_type": "code",
   "execution_count": 23,
   "id": "4eb36452",
   "metadata": {
    "nbgrader": {
     "grade": false,
     "grade_id": "cell-3adb7f90cb98767e",
     "locked": false,
     "schema_version": 3,
     "solution": true,
     "task": false
    }
   },
   "outputs": [],
   "source": [
    "def respuesta_1_frecuencia(sistema,frec):\n",
    "    '''\n",
    "    Calcula la ganancia en amplitud del sistema a la frecuencia frec\n",
    "    '''\n",
    "    n=np.arange(100000)\n",
    "    ### BEGIN SOLUTION\n",
    "    x=np.cos(2*np.pi*frec*n)\n",
    "    y=sistema(x)\n",
    "\n",
    "    Py=np.mean(y**2)\n",
    "    if frec !=0:\n",
    "        G= math.sqrt(2*Py)\n",
    "    else:\n",
    "        G=np.mean(y)\n",
    "    \n",
    "    ### END SOLUTION\n",
    "    return G\n",
    "\n"
   ]
  },
  {
   "cell_type": "code",
   "execution_count": 27,
   "id": "5e101220",
   "metadata": {
    "nbgrader": {
     "grade": true,
     "grade_id": "cell-1a5cc920ea223e74",
     "locked": true,
     "points": 3,
     "schema_version": 3,
     "solution": false,
     "task": false
    }
   },
   "outputs": [
    {
     "name": "stdout",
     "output_type": "stream",
     "text": [
      "Ganancia a la frec=0.1 ---> 0.32638186329022\n",
      "Ganancia a la frec=0.2 ---> 0.12466595727882274\n",
      "Ganancia a la frec=0.0 ---> 0.9999790476190474\n",
      "Ganancia a la frec=0.0 ---> 0.9999790476190474\n",
      "Ganancia a la frec=0.0 ---> 0.8571314285714289\n",
      "Ganancia a la frec=0.25 ---> 0.2857085713714274\n"
     ]
    }
   ],
   "source": [
    "### BEGIN TESTS\n",
    "frec1=0.1\n",
    "H01=respuesta_1_frecuencia(sistema1,frec1)\n",
    "print(f'Ganancia a la frec={frec1} ---> {H01}')\n",
    "assert abs(H01-0.326381) < 1e-3, \"No ha calculado bien la respuesta en frecuencia\"\n",
    "\n",
    "frec2=0.2\n",
    "H02=respuesta_1_frecuencia(sistema1,frec2)\n",
    "print(f'Ganancia a la frec={frec2} ---> {H02}')\n",
    "assert abs(H02-0.124665) < 1e-3,  \"No ha calculado bien la respuesta en frecuencia\"\n",
    "\n",
    "frec3=0.\n",
    "H03=respuesta_1_frecuencia(sistema1,frec3)\n",
    "print(f'Ganancia a la frec={frec3} ---> {H03}')\n",
    "assert abs(H03-1.0) < 1e-3,  \"No ha calculado bien la respuesta en frecuencia para la frecuencia CERO\"\n",
    "### END TESTS\n",
    "\n",
    "### BEGIN HIDDEN TESTS\n",
    "\n",
    "frec2=0.\n",
    "H02=respuesta_1_frecuencia(sistema1,frec2)\n",
    "print(f'Ganancia a la frec={frec2} ---> {H02}')\n",
    "assert abs(H02-1.0) < 1e-3,  \"No ha calculado bien la respuesta en frecuencia\"\n",
    "\n",
    "frec2=0.\n",
    "H02=respuesta_1_frecuencia(sistema2,frec2)\n",
    "print(f'Ganancia a la frec={frec2} ---> {H02}')\n",
    "assert abs(H02-0.85713) < 1e-3,  \"No ha calculado bien la respuesta en frecuencia\"\n",
    "\n",
    "frec2=0.25\n",
    "H02=respuesta_1_frecuencia(sistema2,frec2)\n",
    "print(f'Ganancia a la frec={frec2} ---> {H02}')\n",
    "assert abs(H02-0.28570857)< 1e-3, \"No ha calculado bien la respuesta en frecuencia\"\n",
    "### END HIDDEN TESTS"
   ]
  },
  {
   "cell_type": "markdown",
   "id": "96815c3f-6571-4964-8a73-5d01a901d831",
   "metadata": {
    "nbgrader": {
     "grade": false,
     "grade_id": "cell-66baa24542e12024",
     "locked": true,
     "schema_version": 3,
     "solution": false,
     "task": false
    }
   },
   "source": [
    "# Programar una función que calcule la respuesta en frecuencia en un conjunto de frecuencias\n",
    "\n",
    "Llamando a la función anterior programe una función que reciba como entrada:\n",
    "\n",
    "* Un sistema\n",
    "* Un vector de frecuencias (array de numpy)\n",
    "\n",
    "y devuelva **un array de numpy** con los valores de la ganancia en amplitud para cada una de las frecuencias"
   ]
  },
  {
   "cell_type": "code",
   "execution_count": 30,
   "id": "a61ae405-94be-4715-a820-398f441768e4",
   "metadata": {
    "nbgrader": {
     "grade": false,
     "grade_id": "cell-5a47c57896fd61c6",
     "locked": false,
     "schema_version": 3,
     "solution": true,
     "task": false
    }
   },
   "outputs": [],
   "source": [
    "def respuesta_en_frecuencia(sistema,frecuencias):\n",
    "    H=[]\n",
    "    ### BEGIN SOLUTION\n",
    "    for f in frecuencias:\n",
    "        H.append(respuesta_1_frecuencia(sistema,f))\n",
    "    ### END SOLUTION\n",
    "    H= np.array(H)\n",
    "    return H"
   ]
  },
  {
   "cell_type": "code",
   "execution_count": 48,
   "id": "9b0f143f-962a-49d5-b7c7-f8fa293f571f",
   "metadata": {
    "nbgrader": {
     "grade": true,
     "grade_id": "cell-43add249e8bb54ce",
     "locked": true,
     "points": 2,
     "schema_version": 3,
     "solution": false,
     "task": false
    }
   },
   "outputs": [
    {
     "data": {
      "image/png": "[encoded data removed]",
      "text/plain": [
       "<Figure size 1000x500 with 1 Axes>"
      ]
     },
     "metadata": {},
     "output_type": "display_data"
    },
    {
     "data": {
      "image/png": "[encoded data removed]",
      "text/plain": [
       "<Figure size 1000x500 with 1 Axes>"
      ]
     },
     "metadata": {},
     "output_type": "display_data"
    }
   ],
   "source": [
    "### BEGIN TESTS\n",
    "frecs=np.linspace(0,0.45,500)\n",
    "H=respuesta_en_frecuencia(sistema1,frecs)\n",
    "\n",
    "assert isinstance(H,np.ndarray), \"Su función debe devolver un array de numpy\"\n",
    "assert len(H) == len(frecs), \"La cantidad de elementos del array de salida debe coincidir con la cantidad de frecs\"\n",
    "assert abs(np.sum(H) - 103.7560) < 0.1, \"Los valores devueltos no son correctos\"\n",
    "\n",
    "_=plt.plot(frecs,H)\n",
    "_=plt.grid()\n",
    "_=plt.title('Sistema 1:Respuesta en amplitud (f)')\n",
    "_=plt.xlabel('f')\n",
    "\n",
    "_=plt.figure()\n",
    "frecs=np.linspace(0,0.45,500)\n",
    "H=respuesta_en_frecuencia(sistema2,frecs)\n",
    "_=plt.plot(frecs,H)\n",
    "_=plt.grid()\n",
    "_=plt.title('Sistema 2: Respuesta en amplitud (f)')\n",
    "_=plt.xlabel('f')\n",
    "\n",
    "\n",
    "\n",
    "### END TESTS\n",
    "\n",
    "### BEGIN HIDDEN TESTS\n",
    "# HH=-H[::-1]\n",
    "# np.save('data',HH)\n",
    "frecs=np.linspace(0,0.45,500)\n",
    "H=respuesta_en_frecuencia(sistema2,frecs)\n",
    "HH=np.load('data.npy')\n",
    "HH=-HH[::-1]\n",
    "assert len(H)==len(HH)\n",
    "dif=np.max(np.abs(H-HH)) \n",
    "assert dif < 1e-3\n",
    "### END HIDDEN TESTS"
   ]
  },
  {
   "cell_type": "markdown",
   "id": "4a2b137d-1c46-4a8c-8386-c8598f39a21a",
   "metadata": {
    "nbgrader": {
     "grade": false,
     "grade_id": "cell-c9c4fb9974527570",
     "locked": true,
     "schema_version": 3,
     "solution": false,
     "task": false
    }
   },
   "source": [
    "La primera gráfica de la celda anterior debe ser como:\n",
    "\n",
    "![sistema1](images/sistema1.png \"Respuesta en frecuencia sistema 1\")"
   ]
  }
 ],
 "metadata": {
  "kernelspec": {
   "display_name": "Python 3 (ipykernel)",
   "language": "python",
   "name": "python3"
  },
  "language_info": {
   "codemirror_mode": {
    "name": "ipython",
    "version": 3
   },
   "file_extension": ".py",
   "mimetype": "text/x-python",
   "name": "python",
   "nbconvert_exporter": "python",
   "pygments_lexer": "ipython3",
   "version": "3.12.7"
  },
  "toc": {
   "base_numbering": 1,
   "nav_menu": {},
   "number_sections": true,
   "sideBar": true,
   "skip_h1_title": false,
   "title_cell": "Table of Contents",
   "title_sidebar": "Contents",
   "toc_cell": false,
   "toc_position": {},
   "toc_section_display": true,
   "toc_window_display": false
  },
  "varInspector": {
   "cols": {
    "lenName": 16,
    "lenType": 16,
    "lenVar": 40
   },
   "kernels_config": {
    "python": {
     "delete_cmd_postfix": "",
     "delete_cmd_prefix": "del ",
     "library": "var_list.py",
     "varRefreshCmd": "print(var_dic_list())"
    },
    "r": {
     "delete_cmd_postfix": ") ",
     "delete_cmd_prefix": "rm(",
     "library": "var_list.r",
     "varRefreshCmd": "cat(var_dic_list()) "
    }
   },
   "types_to_exclude": [
    "module",
    "function",
    "builtin_function_or_method",
    "instance",
    "_Feature"
   ],
   "window_display": false
  }
 },
 "nbformat": 4,
 "nbformat_minor": 5
}
