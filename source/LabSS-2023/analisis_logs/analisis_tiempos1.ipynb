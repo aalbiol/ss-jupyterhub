{
 "cells": [
  {
   "cell_type": "code",
   "execution_count": 1,
   "id": "a604d010-968c-4572-8027-78ed700038f7",
   "metadata": {},
   "outputs": [],
   "source": [
    "%load_ext autoreload\n",
    "%autoreload 2\n",
    "import pandas as pd\n",
    "import numpy as np\n",
    "import matplotlib.pyplot as plt\n",
    "from datetime import datetime\n",
    "import loganalisis\n",
    "from glob import glob"
   ]
  },
  {
   "cell_type": "code",
   "execution_count": 2,
   "id": "4dc4f30a-2495-46d4-92b7-b5d94d104960",
   "metadata": {},
   "outputs": [],
   "source": [
    "ficheros=glob(\"/srv/log/users/*.log\")"
   ]
  },
  {
   "cell_type": "code",
   "execution_count": 3,
   "id": "03eb7d0e-b618-42c8-b989-b35050993363",
   "metadata": {},
   "outputs": [
    {
     "name": "stdout",
     "output_type": "stream",
     "text": [
      "mvilpra #############################################\n",
      "dmillyu #############################################\n",
      "dnuesal #############################################\n",
      "cmolcas #############################################\n",
      "alanbas #############################################\n",
      "nchudic #############################################\n",
      "vmonrib #############################################\n",
      "nllosor #############################################\n",
      "jmgomalm #############################################\n",
      "xpallop #############################################\n",
      "ztraagu #############################################\n",
      "maamogam #############################################\n",
      "tstevla #############################################\n",
      "vatorcha #############################################\n",
      "clinche #############################################\n",
      "psegmon #############################################\n",
      "pvilagu #############################################\n",
      "jvolmalb #############################################\n",
      "ccosmir #############################################\n",
      "clase #############################################\n",
      "mblamar #############################################\n",
      "fcargra #############################################\n",
      "mcebsie #############################################\n",
      "cclabot #############################################\n",
      "agomrui1 #############################################\n",
      "amaresp2 #############################################\n",
      "nterala #############################################\n",
      "pmasdel #############################################\n",
      "varonsan #############################################\n",
      "mcarber #############################################\n",
      "mfordom #############################################\n",
      "profesor #############################################\n",
      "pmiqmol #############################################\n",
      "lkwiatk #############################################\n",
      "oanda #############################################\n",
      "gchiort #############################################\n",
      "jsertob #############################################\n",
      "mastoica #############################################\n",
      "grammol #############################################\n",
      "allovil2 #############################################\n",
      "dtavgra #############################################\n",
      "jllotor #############################################\n"
     ]
    }
   ],
   "source": [
    "tiempos={}\n",
    "\n",
    "for f in ficheros:\n",
    "    user=f.split(\"/\")[-1]\n",
    "    user=user.split(\".\")[0]\n",
    "    print(user,\"#############################################\")\n",
    "    res=loganalisis.resumen(f)\n",
    "    tiempos[user]={}\n",
    "    for k,v in res.items():\n",
    "        #print(k, ' : ')\n",
    "        #print(v)\n",
    "        tiempos[user][k]=v['min_totales']\n",
    "        #print(\"==========================\")"
   ]
  },
  {
   "cell_type": "code",
   "execution_count": 4,
   "id": "e590d1f8-7115-49f6-b4af-c541dc0da70c",
   "metadata": {},
   "outputs": [],
   "source": [
    "tiempos_df=pd.DataFrame(tiempos).T"
   ]
  },
  {
   "cell_type": "code",
   "execution_count": 5,
   "id": "7bacd829-2383-41b2-814f-89c3c074a29d",
   "metadata": {},
   "outputs": [],
   "source": [
    "tiempos_df=tiempos_df.sort_index()\n",
    "tiempos_df=tiempos_df[sorted(tiempos_df)]"
   ]
  },
  {
   "cell_type": "code",
   "execution_count": 6,
   "id": "d71e9216-83bf-4baa-bb67-85f4b96fb0f8",
   "metadata": {},
   "outputs": [
    {
     "data": {
      "text/plain": [
       "Index(['01-Basic Params', '01-read_and_info', '02-Analisis Bloques',\n",
       "       '02-slicing', '03-Promedios Deslizantes', '03-juntando',\n",
       "       '03b-Receptor Digital', '04-operaciones_matem',\n",
       "       '05-Seleccionando elementos', 'transmisor_digital'],\n",
       "      dtype='object')"
      ]
     },
     "execution_count": 6,
     "metadata": {},
     "output_type": "execute_result"
    }
   ],
   "source": [
    "tiempos_df.columns"
   ]
  },
  {
   "cell_type": "code",
   "execution_count": 7,
   "id": "816e1bd0-900e-4c02-b17a-4b267a6eb91e",
   "metadata": {},
   "outputs": [],
   "source": [
    "tiempos_ordenados=tiempos_df.loc[:,['01-read_and_info','02-slicing','03-juntando', '04-operaciones_matem','05-Seleccionando elementos','01-Basic Params','02-Analisis Bloques','03-Promedios Deslizantes']]"
   ]
  },
  {
   "cell_type": "code",
   "execution_count": 8,
   "id": "29b6bc30-7a1b-40b4-8ef3-2ca03d15d279",
   "metadata": {},
   "outputs": [
    {
     "data": {
      "text/html": [
       "<div>\n",
       "<style scoped>\n",
       "    .dataframe tbody tr th:only-of-type {\n",
       "        vertical-align: middle;\n",
       "    }\n",
       "\n",
       "    .dataframe tbody tr th {\n",
       "        vertical-align: top;\n",
       "    }\n",
       "\n",
       "    .dataframe thead th {\n",
       "        text-align: right;\n",
       "    }\n",
       "</style>\n",
       "<table border=\"1\" class=\"dataframe\">\n",
       "  <thead>\n",
       "    <tr style=\"text-align: right;\">\n",
       "      <th></th>\n",
       "      <th>01-read_and_info</th>\n",
       "      <th>02-slicing</th>\n",
       "      <th>03-juntando</th>\n",
       "      <th>04-operaciones_matem</th>\n",
       "      <th>05-Seleccionando elementos</th>\n",
       "      <th>01-Basic Params</th>\n",
       "      <th>02-Analisis Bloques</th>\n",
       "      <th>03-Promedios Deslizantes</th>\n",
       "    </tr>\n",
       "  </thead>\n",
       "  <tbody>\n",
       "    <tr>\n",
       "      <th>agomrui1</th>\n",
       "      <td>65.0</td>\n",
       "      <td>134.0</td>\n",
       "      <td>100.0</td>\n",
       "      <td>52.0</td>\n",
       "      <td>31.0</td>\n",
       "      <td>65.0</td>\n",
       "      <td>162.0</td>\n",
       "      <td>NaN</td>\n",
       "    </tr>\n",
       "    <tr>\n",
       "      <th>alanbas</th>\n",
       "      <td>43.0</td>\n",
       "      <td>116.0</td>\n",
       "      <td>45.0</td>\n",
       "      <td>55.0</td>\n",
       "      <td>29.0</td>\n",
       "      <td>21.0</td>\n",
       "      <td>79.0</td>\n",
       "      <td>NaN</td>\n",
       "    </tr>\n",
       "    <tr>\n",
       "      <th>allovil2</th>\n",
       "      <td>87.0</td>\n",
       "      <td>NaN</td>\n",
       "      <td>NaN</td>\n",
       "      <td>NaN</td>\n",
       "      <td>NaN</td>\n",
       "      <td>NaN</td>\n",
       "      <td>NaN</td>\n",
       "      <td>NaN</td>\n",
       "    </tr>\n",
       "    <tr>\n",
       "      <th>amaresp2</th>\n",
       "      <td>43.0</td>\n",
       "      <td>90.0</td>\n",
       "      <td>38.0</td>\n",
       "      <td>85.0</td>\n",
       "      <td>86.0</td>\n",
       "      <td>24.0</td>\n",
       "      <td>95.0</td>\n",
       "      <td>NaN</td>\n",
       "    </tr>\n",
       "    <tr>\n",
       "      <th>cclabot</th>\n",
       "      <td>66.0</td>\n",
       "      <td>NaN</td>\n",
       "      <td>NaN</td>\n",
       "      <td>NaN</td>\n",
       "      <td>NaN</td>\n",
       "      <td>NaN</td>\n",
       "      <td>NaN</td>\n",
       "      <td>NaN</td>\n",
       "    </tr>\n",
       "  </tbody>\n",
       "</table>\n",
       "</div>"
      ],
      "text/plain": [
       "          01-read_and_info  02-slicing  03-juntando  04-operaciones_matem  \\\n",
       "agomrui1              65.0       134.0        100.0                  52.0   \n",
       "alanbas               43.0       116.0         45.0                  55.0   \n",
       "allovil2              87.0         NaN          NaN                   NaN   \n",
       "amaresp2              43.0        90.0         38.0                  85.0   \n",
       "cclabot               66.0         NaN          NaN                   NaN   \n",
       "\n",
       "          05-Seleccionando elementos  01-Basic Params  02-Analisis Bloques  \\\n",
       "agomrui1                        31.0             65.0                162.0   \n",
       "alanbas                         29.0             21.0                 79.0   \n",
       "allovil2                         NaN              NaN                  NaN   \n",
       "amaresp2                        86.0             24.0                 95.0   \n",
       "cclabot                          NaN              NaN                  NaN   \n",
       "\n",
       "          03-Promedios Deslizantes  \n",
       "agomrui1                       NaN  \n",
       "alanbas                        NaN  \n",
       "allovil2                       NaN  \n",
       "amaresp2                       NaN  \n",
       "cclabot                        NaN  "
      ]
     },
     "execution_count": 8,
     "metadata": {},
     "output_type": "execute_result"
    }
   ],
   "source": [
    "tiempos_ordenados.head()"
   ]
  },
  {
   "cell_type": "code",
   "execution_count": 9,
   "id": "d100b469-b48f-445a-8afa-3139e36f8aeb",
   "metadata": {},
   "outputs": [
    {
     "data": {
      "text/plain": [
       "01-read_and_info              50.230769\n",
       "02-slicing                    91.054054\n",
       "03-juntando                   48.729730\n",
       "04-operaciones_matem          67.777778\n",
       "05-Seleccionando elementos    32.694444\n",
       "01-Basic Params               29.756757\n",
       "02-Analisis Bloques           93.000000\n",
       "03-Promedios Deslizantes       1.769231\n",
       "dtype: float64"
      ]
     },
     "execution_count": 9,
     "metadata": {},
     "output_type": "execute_result"
    }
   ],
   "source": [
    "tiempos_ordenados.mean(axis=0)"
   ]
  },
  {
   "cell_type": "code",
   "execution_count": 10,
   "id": "95a2a018-8bfc-4e60-80f4-3454131f4549",
   "metadata": {},
   "outputs": [],
   "source": [
    "to=tiempos_ordenados.iloc[:,:5].sum(axis=1)"
   ]
  },
  {
   "cell_type": "code",
   "execution_count": 11,
   "id": "7311ab30-ff9a-4f95-8050-a2ec3cf0338c",
   "metadata": {},
   "outputs": [
    {
     "data": {
      "text/plain": [
       "agomrui1    126.095238\n",
       "alanbas      32.095238\n",
       "allovil2   -168.904762\n",
       "amaresp2     86.095238\n",
       "cclabot    -189.904762\n",
       "ccosmir      15.095238\n",
       "clase       -59.904762\n",
       "clinche      99.095238\n",
       "cmolcas      50.095238\n",
       "dmillyu     225.095238\n",
       "dnuesal     -14.904762\n",
       "dtavgra      21.095238\n",
       "fcargra    -132.904762\n",
       "gchiort      13.095238\n",
       "grammol      23.095238\n",
       "jllotor      19.095238\n",
       "jmgomalm    -22.904762\n",
       "jsertob      76.095238\n",
       "jvolmalb   -241.904762\n",
       "lkwiatk      60.095238\n",
       "maamogam     41.095238\n",
       "mastoica   -185.904762\n",
       "mblamar      23.095238\n",
       "mcarber      35.095238\n",
       "mcebsie     -22.904762\n",
       "mfordom      -2.904762\n",
       "mvilpra     -24.904762\n",
       "nchudic    -185.904762\n",
       "nllosor     122.095238\n",
       "nterala     -19.904762\n",
       "oanda        95.095238\n",
       "pmasdel       7.095238\n",
       "pmiqmol     104.095238\n",
       "profesor   -237.904762\n",
       "psegmon      72.095238\n",
       "pvilagu      -7.904762\n",
       "tstevla     -18.904762\n",
       "varonsan    102.095238\n",
       "vatorcha     53.095238\n",
       "vmonrib      58.095238\n",
       "xpallop     -32.904762\n",
       "ztraagu      12.095238\n",
       "dtype: float64"
      ]
     },
     "execution_count": 11,
     "metadata": {},
     "output_type": "execute_result"
    }
   ],
   "source": [
    "to - to.mean()"
   ]
  },
  {
   "cell_type": "code",
   "execution_count": 12,
   "id": "fa1e542e-3134-4df2-aade-de32f869d056",
   "metadata": {},
   "outputs": [
    {
     "data": {
      "text/plain": [
       "agomrui1    382.0\n",
       "alanbas     288.0\n",
       "allovil2     87.0\n",
       "amaresp2    342.0\n",
       "cclabot      66.0\n",
       "ccosmir     271.0\n",
       "clase       196.0\n",
       "clinche     355.0\n",
       "cmolcas     306.0\n",
       "dmillyu     481.0\n",
       "dnuesal     241.0\n",
       "dtavgra     277.0\n",
       "fcargra     123.0\n",
       "gchiort     269.0\n",
       "grammol     279.0\n",
       "jllotor     275.0\n",
       "jmgomalm    233.0\n",
       "jsertob     332.0\n",
       "jvolmalb     14.0\n",
       "lkwiatk     316.0\n",
       "maamogam    297.0\n",
       "mastoica     70.0\n",
       "mblamar     279.0\n",
       "mcarber     291.0\n",
       "mcebsie     233.0\n",
       "mfordom     253.0\n",
       "mvilpra     231.0\n",
       "nchudic      70.0\n",
       "nllosor     378.0\n",
       "nterala     236.0\n",
       "oanda       351.0\n",
       "pmasdel     263.0\n",
       "pmiqmol     360.0\n",
       "profesor     18.0\n",
       "psegmon     328.0\n",
       "pvilagu     248.0\n",
       "tstevla     237.0\n",
       "varonsan    358.0\n",
       "vatorcha    309.0\n",
       "vmonrib     314.0\n",
       "xpallop     223.0\n",
       "ztraagu     268.0\n",
       "dtype: float64"
      ]
     },
     "execution_count": 12,
     "metadata": {},
     "output_type": "execute_result"
    }
   ],
   "source": [
    "to"
   ]
  },
  {
   "cell_type": "code",
   "execution_count": null,
   "id": "a72fd5f0-8df9-48f4-aac9-5d124141c537",
   "metadata": {},
   "outputs": [],
   "source": []
  }
 ],
 "metadata": {
  "kernelspec": {
   "display_name": "Python 3 (ipykernel)",
   "language": "python",
   "name": "python3"
  },
  "language_info": {
   "codemirror_mode": {
    "name": "ipython",
    "version": 3
   },
   "file_extension": ".py",
   "mimetype": "text/x-python",
   "name": "python",
   "nbconvert_exporter": "python",
   "pygments_lexer": "ipython3",
   "version": "3.12.4"
  }
 },
 "nbformat": 4,
 "nbformat_minor": 5
}
