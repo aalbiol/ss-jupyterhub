{
 "cells": [
  {
   "cell_type": "code",
   "execution_count": 17,
   "id": "a604d010-968c-4572-8027-78ed700038f7",
   "metadata": {},
   "outputs": [
    {
     "name": "stdout",
     "output_type": "stream",
     "text": [
      "The autoreload extension is already loaded. To reload it, use:\n",
      "  %reload_ext autoreload\n"
     ]
    }
   ],
   "source": [
    "%load_ext autoreload\n",
    "%autoreload 2\n",
    "import pandas as pd\n",
    "import numpy as np\n",
    "import matplotlib.pyplot as plt\n",
    "from datetime import datetime\n",
    "import loganalisis\n",
    "from glob import glob"
   ]
  },
  {
   "cell_type": "code",
   "execution_count": 18,
   "id": "4dc4f30a-2495-46d4-92b7-b5d94d104960",
   "metadata": {},
   "outputs": [],
   "source": [
    "ficheros=glob(\"/srv/log/users/*.log\")"
   ]
  },
  {
   "cell_type": "code",
   "execution_count": 19,
   "id": "03eb7d0e-b618-42c8-b989-b35050993363",
   "metadata": {},
   "outputs": [
    {
     "name": "stdout",
     "output_type": "stream",
     "text": [
      "spuerob #############################################\n",
      "rlosbes #############################################\n",
      "pmatbol #############################################\n",
      "jcebmir #############################################\n",
      "cbencan #############################################\n",
      "vzarher #############################################\n",
      "asancan2 #############################################\n",
      "sruiper #############################################\n",
      "fjgombaq #############################################\n",
      "jvolmalb #############################################\n",
      "rsissan #############################################\n",
      "aibacol #############################################\n",
      "clase #############################################\n",
      "amiqfus #############################################\n",
      "fcargra #############################################\n",
      "ajimcas #############################################\n",
      "iferjua #############################################\n",
      "jvilsel #############################################\n",
      "aguialf #############################################\n",
      "rrieagu #############################################\n",
      "jvalrod #############################################\n",
      "storram #############################################\n",
      "acammor1 #############################################\n",
      "xblagon #############################################\n",
      "jviltor2 #############################################\n",
      "pdomzur #############################################\n",
      "jcotmar #############################################\n",
      "dtoribo #############################################\n",
      "sripcig #############################################\n",
      "profesor #############################################\n",
      "aperlop2 #############################################\n",
      "lsanrub #############################################\n",
      "mivados #############################################\n",
      "iborroi #############################################\n",
      "jvmorcal #############################################\n",
      "abodbro #############################################\n",
      "jconara #############################################\n",
      "alifriv #############################################\n",
      "allovil2 #############################################\n",
      "idiadol #############################################\n"
     ]
    }
   ],
   "source": [
    "tiempos={}\n",
    "\n",
    "for f in ficheros:\n",
    "    user=f.split(\"/\")[-1]\n",
    "    user=user.split(\".\")[0]\n",
    "    print(user,\"#############################################\")\n",
    "    res=loganalisis.resumen(f)\n",
    "    tiempos[user]={}\n",
    "    for k,v in res.items():\n",
    "        #print(k, ' : ')\n",
    "        #print(v)\n",
    "        tiempos[user][k]=v['min_totales']\n",
    "        #print(\"==========================\")"
   ]
  },
  {
   "cell_type": "code",
   "execution_count": 20,
   "id": "e590d1f8-7115-49f6-b4af-c541dc0da70c",
   "metadata": {},
   "outputs": [],
   "source": [
    "tiempos_df=pd.DataFrame(tiempos).T"
   ]
  },
  {
   "cell_type": "code",
   "execution_count": 21,
   "id": "7bacd829-2383-41b2-814f-89c3c074a29d",
   "metadata": {},
   "outputs": [],
   "source": [
    "tiempos_df=tiempos_df.sort_index()\n",
    "tiempos_df=tiempos_df[sorted(tiempos_df)]"
   ]
  },
  {
   "cell_type": "code",
   "execution_count": 22,
   "id": "d71e9216-83bf-4baa-bb67-85f4b96fb0f8",
   "metadata": {},
   "outputs": [
    {
     "data": {
      "text/plain": [
       "Index(['01-Basic Params', '01-read_and_info', '02-Analisis Bloques',\n",
       "       '02-slicing', '03-Promedios Deslizantes', '03-juntando',\n",
       "       '04-operaciones_matem', '05-Seleccionando elementos',\n",
       "       'transmisor_digital'],\n",
       "      dtype='object')"
      ]
     },
     "execution_count": 22,
     "metadata": {},
     "output_type": "execute_result"
    }
   ],
   "source": [
    "tiempos_df.columns"
   ]
  },
  {
   "cell_type": "code",
   "execution_count": 23,
   "id": "816e1bd0-900e-4c02-b17a-4b267a6eb91e",
   "metadata": {},
   "outputs": [],
   "source": [
    "tiempos_ordenados=tiempos_df.loc[:,['01-read_and_info','02-slicing','03-juntando', '04-operaciones_matem','05-Seleccionando elementos','01-Basic Params','02-Analisis Bloques','03-Promedios Deslizantes']]"
   ]
  },
  {
   "cell_type": "code",
   "execution_count": 24,
   "id": "29b6bc30-7a1b-40b4-8ef3-2ca03d15d279",
   "metadata": {},
   "outputs": [
    {
     "data": {
      "text/html": [
       "<div>\n",
       "<style scoped>\n",
       "    .dataframe tbody tr th:only-of-type {\n",
       "        vertical-align: middle;\n",
       "    }\n",
       "\n",
       "    .dataframe tbody tr th {\n",
       "        vertical-align: top;\n",
       "    }\n",
       "\n",
       "    .dataframe thead th {\n",
       "        text-align: right;\n",
       "    }\n",
       "</style>\n",
       "<table border=\"1\" class=\"dataframe\">\n",
       "  <thead>\n",
       "    <tr style=\"text-align: right;\">\n",
       "      <th></th>\n",
       "      <th>01-read_and_info</th>\n",
       "      <th>02-slicing</th>\n",
       "      <th>03-juntando</th>\n",
       "      <th>04-operaciones_matem</th>\n",
       "      <th>05-Seleccionando elementos</th>\n",
       "      <th>01-Basic Params</th>\n",
       "      <th>02-Analisis Bloques</th>\n",
       "      <th>03-Promedios Deslizantes</th>\n",
       "    </tr>\n",
       "  </thead>\n",
       "  <tbody>\n",
       "    <tr>\n",
       "      <th>abodbro</th>\n",
       "      <td>88.0</td>\n",
       "      <td>67.0</td>\n",
       "      <td>104.0</td>\n",
       "      <td>72.0</td>\n",
       "      <td>12.0</td>\n",
       "      <td>NaN</td>\n",
       "      <td>NaN</td>\n",
       "      <td>NaN</td>\n",
       "    </tr>\n",
       "    <tr>\n",
       "      <th>acammor1</th>\n",
       "      <td>90.0</td>\n",
       "      <td>27.0</td>\n",
       "      <td>11.0</td>\n",
       "      <td>60.0</td>\n",
       "      <td>46.0</td>\n",
       "      <td>NaN</td>\n",
       "      <td>NaN</td>\n",
       "      <td>NaN</td>\n",
       "    </tr>\n",
       "    <tr>\n",
       "      <th>aguialf</th>\n",
       "      <td>40.0</td>\n",
       "      <td>75.0</td>\n",
       "      <td>41.0</td>\n",
       "      <td>23.0</td>\n",
       "      <td>5.0</td>\n",
       "      <td>NaN</td>\n",
       "      <td>NaN</td>\n",
       "      <td>NaN</td>\n",
       "    </tr>\n",
       "    <tr>\n",
       "      <th>aibacol</th>\n",
       "      <td>45.0</td>\n",
       "      <td>54.0</td>\n",
       "      <td>40.0</td>\n",
       "      <td>88.0</td>\n",
       "      <td>9.0</td>\n",
       "      <td>NaN</td>\n",
       "      <td>NaN</td>\n",
       "      <td>NaN</td>\n",
       "    </tr>\n",
       "    <tr>\n",
       "      <th>ajimcas</th>\n",
       "      <td>89.0</td>\n",
       "      <td>210.0</td>\n",
       "      <td>48.0</td>\n",
       "      <td>85.0</td>\n",
       "      <td>8.0</td>\n",
       "      <td>NaN</td>\n",
       "      <td>NaN</td>\n",
       "      <td>NaN</td>\n",
       "    </tr>\n",
       "  </tbody>\n",
       "</table>\n",
       "</div>"
      ],
      "text/plain": [
       "          01-read_and_info  02-slicing  03-juntando  04-operaciones_matem  \\\n",
       "abodbro               88.0        67.0        104.0                  72.0   \n",
       "acammor1              90.0        27.0         11.0                  60.0   \n",
       "aguialf               40.0        75.0         41.0                  23.0   \n",
       "aibacol               45.0        54.0         40.0                  88.0   \n",
       "ajimcas               89.0       210.0         48.0                  85.0   \n",
       "\n",
       "          05-Seleccionando elementos  01-Basic Params  02-Analisis Bloques  \\\n",
       "abodbro                         12.0              NaN                  NaN   \n",
       "acammor1                        46.0              NaN                  NaN   \n",
       "aguialf                          5.0              NaN                  NaN   \n",
       "aibacol                          9.0              NaN                  NaN   \n",
       "ajimcas                          8.0              NaN                  NaN   \n",
       "\n",
       "          03-Promedios Deslizantes  \n",
       "abodbro                        NaN  \n",
       "acammor1                       NaN  \n",
       "aguialf                        NaN  \n",
       "aibacol                        NaN  \n",
       "ajimcas                        NaN  "
      ]
     },
     "execution_count": 24,
     "metadata": {},
     "output_type": "execute_result"
    }
   ],
   "source": [
    "tiempos_ordenados.head()"
   ]
  },
  {
   "cell_type": "code",
   "execution_count": 25,
   "id": "d100b469-b48f-445a-8afa-3139e36f8aeb",
   "metadata": {},
   "outputs": [
    {
     "data": {
      "text/plain": [
       "01-read_and_info              63.638889\n",
       "02-slicing                    97.210526\n",
       "03-juntando                   53.891892\n",
       "04-operaciones_matem          82.714286\n",
       "05-Seleccionando elementos    22.000000\n",
       "01-Basic Params               21.500000\n",
       "02-Analisis Bloques            0.000000\n",
       "03-Promedios Deslizantes       0.000000\n",
       "dtype: float64"
      ]
     },
     "execution_count": 25,
     "metadata": {},
     "output_type": "execute_result"
    }
   ],
   "source": [
    "tiempos_ordenados.mean(axis=0)"
   ]
  },
  {
   "cell_type": "code",
   "execution_count": 27,
   "id": "95a2a018-8bfc-4e60-80f4-3454131f4549",
   "metadata": {},
   "outputs": [],
   "source": [
    "to=tiempos_ordenados.iloc[:,:5].sum(axis=1)"
   ]
  },
  {
   "cell_type": "code",
   "execution_count": 29,
   "id": "7311ab30-ff9a-4f95-8050-a2ec3cf0338c",
   "metadata": {},
   "outputs": [
    {
     "data": {
      "text/plain": [
       "abodbro      51.35\n",
       "acammor1    -57.65\n",
       "aguialf    -107.65\n",
       "aibacol     -55.65\n",
       "ajimcas     148.35\n",
       "alifriv     128.35\n",
       "allovil2    165.35\n",
       "amiqfus      44.35\n",
       "aperlop2     17.35\n",
       "asancan2     26.35\n",
       "cbencan    -243.65\n",
       "clase       -45.65\n",
       "dtoribo     -96.65\n",
       "fcargra    -248.65\n",
       "fjgombaq     11.35\n",
       "iborroi      83.35\n",
       "idiadol     377.35\n",
       "iferjua       4.35\n",
       "jcebmir     -82.65\n",
       "jconara      37.35\n",
       "jcotmar    -172.65\n",
       "jvalrod      -9.65\n",
       "jvilsel      19.35\n",
       "jviltor2   -146.65\n",
       "jvmorcal     61.35\n",
       "jvolmalb     90.35\n",
       "lsanrub     -88.65\n",
       "mivados     220.35\n",
       "pdomzur      34.35\n",
       "pmatbol      92.35\n",
       "profesor   -264.65\n",
       "rlosbes      20.35\n",
       "rrieagu      67.35\n",
       "rsissan    -239.65\n",
       "spuerob      52.35\n",
       "sripcig      77.35\n",
       "sruiper    -199.65\n",
       "storram     125.35\n",
       "vzarher      46.35\n",
       "xblagon      57.35\n",
       "dtype: float64"
      ]
     },
     "execution_count": 29,
     "metadata": {},
     "output_type": "execute_result"
    }
   ],
   "source": [
    "to - to.mean()"
   ]
  },
  {
   "cell_type": "code",
   "execution_count": null,
   "id": "fa1e542e-3134-4df2-aade-de32f869d056",
   "metadata": {},
   "outputs": [],
   "source": []
  }
 ],
 "metadata": {
  "kernelspec": {
   "display_name": "Python 3 (ipykernel)",
   "language": "python",
   "name": "python3"
  },
  "language_info": {
   "codemirror_mode": {
    "name": "ipython",
    "version": 3
   },
   "file_extension": ".py",
   "mimetype": "text/x-python",
   "name": "python",
   "nbconvert_exporter": "python",
   "pygments_lexer": "ipython3",
   "version": "3.12.4"
  }
 },
 "nbformat": 4,
 "nbformat_minor": 5
}
