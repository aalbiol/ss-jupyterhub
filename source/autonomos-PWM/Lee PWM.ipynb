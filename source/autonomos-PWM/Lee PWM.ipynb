{
 "cells": [
  {
   "cell_type": "markdown",
   "id": "2ef826ca",
   "metadata": {
    "nbgrader": {
     "grade": false,
     "grade_id": "cell-98147b6595ad0e46",
     "locked": true,
     "schema_version": 3,
     "solution": false,
     "task": false
    }
   },
   "source": [
    "# Decodificación señales PWM\n",
    "\n",
    "El objetivo de este ejercicio es desarrollar una función que obtenga la secuencia de símbolos a partir de las muestras pwm.\n",
    "\n",
    "La estrategia para decodificar será:\n",
    "\n",
    "* Localizar el comienzo de cada símbolo como aquella muestra que vale 1 y va precedida de un cero. Dicho de otro modo, una transición 0-->1 tendremos el comienzo de un símbolo.\n",
    "\n",
    "\n",
    "* Cada vez que tengamos el comienzo de un símbolo, como concemos la duración, formaremos un bloque de muestras de dicho tamaño empezando en el comienzo del símbolo.\n",
    "\n",
    "* La suma de las muestras del bloque indicará el símbolo."
   ]
  },
  {
   "cell_type": "code",
   "execution_count": 1,
   "id": "eae660df",
   "metadata": {
    "nbgrader": {
     "grade": false,
     "grade_id": "cell-66b2eece5856914b",
     "locked": true,
     "schema_version": 3,
     "solution": false,
     "task": false
    }
   },
   "outputs": [],
   "source": [
    "#Importaremos los módulos necesarios\n",
    "%matplotlib inline\n",
    "import numpy as np\n",
    "import matplotlib\n",
    "import matplotlib.pyplot as plt\n",
    "import math\n",
    "matplotlib.rcParams['figure.figsize'] = (10.0, 5)"
   ]
  },
  {
   "cell_type": "markdown",
   "id": "4583aa92",
   "metadata": {
    "nbgrader": {
     "grade": false,
     "grade_id": "cell-f1d7fcf796a205a8",
     "locked": true,
     "schema_version": 3,
     "solution": false,
     "task": false
    }
   },
   "source": [
    "## Programación pwm_starts()\n",
    "\n",
    "Cree una función pwm_starts que reciba como argumentos:\n",
    "\n",
    "* Un vector de numpy  muestras de una señal pwm\n",
    "\n",
    "\n",
    "y devuelva una **lista** con los índices donde se producen transiciones 0-->1"
   ]
  },
  {
   "cell_type": "code",
   "execution_count": 2,
   "id": "95181f09",
   "metadata": {
    "nbgrader": {
     "grade": false,
     "grade_id": "cell-ac4e4d1beeb2b850",
     "locked": false,
     "schema_version": 3,
     "solution": true,
     "task": false
    }
   },
   "outputs": [],
   "source": [
    "def pwm_starts(pwm):\n",
    "    '''\n",
    "    Resultado esperado\n",
    "    \n",
    "    [2,7]=pwm_starts( np.array([0,0,1,1,0,0,0,1,1,1,0,0,0]) )    \n",
    "\n",
    "    El resultado DEBE SER UNA LISTA\n",
    "    '''\n",
    "    indices= []\n",
    "### BEGIN SOLUTION\n",
    "    \n",
    "    longitud=len(pwm)\n",
    "    for k in range(1,longitud):\n",
    "        if pwm[k]>0.5 and pwm[k-1] < 0.5:\n",
    "            indices.append(k)\n",
    "### END SOLUTION\n",
    "    return indices\n",
    "    \n",
    "\n"
   ]
  },
  {
   "cell_type": "markdown",
   "id": "3ef71b7b",
   "metadata": {
    "nbgrader": {
     "grade": false,
     "grade_id": "cell-2f8df802c94580e2",
     "locked": true,
     "schema_version": 3,
     "solution": false,
     "task": false
    }
   },
   "source": [
    "### Prueba de la función desarrollada\n",
    "\n",
    "Cargaremos una señal pwm y probaremos que todo funciona.\n",
    "\n",
    "El resultado debe ser una serie de números equiespaciados\n",
    "\n"
   ]
  },
  {
   "cell_type": "code",
   "execution_count": 3,
   "id": "7dbf8d4e-7b29-4642-be38-4e62cac9629d",
   "metadata": {
    "nbgrader": {
     "grade": false,
     "grade_id": "cell-38836798551a9b3b",
     "locked": true,
     "schema_version": 3,
     "solution": false,
     "task": false
    }
   },
   "outputs": [
    {
     "data": {
      "text/plain": [
       "[2, 7]"
      ]
     },
     "execution_count": 3,
     "metadata": {},
     "output_type": "execute_result"
    }
   ],
   "source": [
    "# Primera comprobación de si está bien\n",
    "pwm_starts( np.array([0,0,1,1,0,0,0,1,1,1,0,0,0]) )  \n",
    "\n",
    "# debe devolver [2,7]"
   ]
  },
  {
   "cell_type": "code",
   "execution_count": 7,
   "id": "3e856954",
   "metadata": {
    "nbgrader": {
     "grade": false,
     "grade_id": "cell-3cb1d41aab87957d",
     "locked": true,
     "schema_version": 3,
     "solution": false,
     "task": false
    }
   },
   "outputs": [
    {
     "name": "stdout",
     "output_type": "stream",
     "text": [
      "[62, 87, 112, 137, 162, 187, 212, 237, 262, 287, 312, 337, 362, 387, 412, 437, 462, 487, 512, 537, 562, 587, 612, 637, 662]\n",
      "pwm[61:62] = [0. 1.]\n",
      "pwm[86:87] = [0. 1.]\n",
      "pwm[111:112] = [0. 1.]\n",
      "pwm[136:137] = [0. 1.]\n",
      "pwm[161:162] = [0. 1.]\n",
      "pwm[186:187] = [0. 1.]\n",
      "pwm[211:212] = [0. 1.]\n",
      "pwm[236:237] = [0. 1.]\n",
      "pwm[261:262] = [0. 1.]\n",
      "pwm[286:287] = [0. 1.]\n",
      "pwm[311:312] = [0. 1.]\n",
      "pwm[336:337] = [0. 1.]\n",
      "pwm[361:362] = [0. 1.]\n",
      "pwm[386:387] = [0. 1.]\n",
      "pwm[411:412] = [0. 1.]\n",
      "pwm[436:437] = [0. 1.]\n",
      "pwm[461:462] = [0. 1.]\n",
      "pwm[486:487] = [0. 1.]\n",
      "pwm[511:512] = [0. 1.]\n",
      "pwm[536:537] = [0. 1.]\n",
      "pwm[561:562] = [0. 1.]\n",
      "pwm[586:587] = [0. 1.]\n",
      "pwm[611:612] = [0. 1.]\n",
      "pwm[636:637] = [0. 1.]\n",
      "pwm[661:662] = [0. 1.]\n"
     ]
    }
   ],
   "source": [
    "# Cargamos tanto una señal pwm  más larga y los simbolos que la originaron\n",
    "pwm=np.load('signals/pwm_ref.npy')\n",
    "simbolos=np.load('signals/simbolos_ref.npy')\n",
    "\n",
    "#Ejecutamos la funcion\n",
    "inicios= pwm_starts(pwm)\n",
    "print(inicios)\n",
    "# Debe imprimir una lista de transiciones 0-->1\n",
    "for k in inicios:\n",
    "    print(f'pwm[{k-1}:{k}] =', pwm[k-1:k+1])"
   ]
  },
  {
   "cell_type": "code",
   "execution_count": null,
   "id": "ac72a37d-bace-4c5d-813a-ecdb73dbd38c",
   "metadata": {
    "nbgrader": {
     "grade": true,
     "grade_id": "cell-aef5c154f70ba15c",
     "locked": true,
     "points": 2,
     "schema_version": 3,
     "solution": false,
     "task": false
    }
   },
   "outputs": [],
   "source": [
    "# Celda de Evaluación automática\n",
    "### BEGIN HIDDEN TESTS\n",
    "### HASHED AUTOTEST pwm_starts(np.array([0,0,0,1,1,1,0,0,0,1,0,0,1,1,0,0,1,0,0,0,1,0,0,]))\n",
    "### END HIDDEN TESTS"
   ]
  },
  {
   "cell_type": "markdown",
   "id": "305a1e8f",
   "metadata": {
    "nbgrader": {
     "grade": false,
     "grade_id": "cell-23ca49172132879d",
     "locked": true,
     "schema_version": 3,
     "solution": false,
     "task": false
    }
   },
   "source": [
    "\n",
    "## Programación decodificador\n",
    "\n",
    "Se le pide que programe un decodificador PWM.\n",
    "\n",
    "* Empleando la función *pwm_starts()* determinará los comienzos de cada símbolo\n",
    "\n",
    "* Sabiendo donde comienza cada símbolo y su duración simplemente sumará el rango de muestras adecuado para obtener cada símbolo\n",
    "\n"
   ]
  },
  {
   "cell_type": "code",
   "execution_count": 8,
   "id": "cfd36353",
   "metadata": {
    "nbgrader": {
     "grade": false,
     "grade_id": "cell-af43291bf473b963",
     "locked": false,
     "schema_version": 3,
     "solution": true,
     "task": false
    }
   },
   "outputs": [],
   "source": [
    "def PWM_decod(pwm, duracion_simbolo):\n",
    "    '''\n",
    "    A partir de las muestras pwm y conocida la duración del simbolo, devuelve la secuencia de símbolos \n",
    "    '''\n",
    "\n",
    "    # Determinar donde empiezan los símbolos\n",
    "    comienzos = pwm_starts(pwm)    \n",
    "    \n",
    "    #creamos una lista vacía para ir almancendo el resultado\n",
    "    simbolos=[]\n",
    "    for c in comienzos:\n",
    "     ### BEGIN SOLUTION\n",
    "        simbolos.append(np.sum(pwm[c:c+duracion_simbolo]))\n",
    "     ### END SOLUTION\n",
    "        \n",
    "    return simbolos"
   ]
  },
  {
   "cell_type": "markdown",
   "id": "b8451100",
   "metadata": {
    "nbgrader": {
     "grade": false,
     "grade_id": "cell-9f0d1058cc27f5a0",
     "locked": true,
     "schema_version": 3,
     "solution": false,
     "task": false
    }
   },
   "source": [
    "### Comprobación decodificador\n",
    "\n",
    "Ejecute los siguientes bloques y verifique que funciona correctamente.\n",
    "\n",
    "El resultado decodificado y transmitido deben ser idénticos.\n",
    "\n"
   ]
  },
  {
   "cell_type": "code",
   "execution_count": 9,
   "id": "5c281801",
   "metadata": {
    "nbgrader": {
     "grade": false,
     "grade_id": "cell-abbb532294dae728",
     "locked": true,
     "schema_version": 3,
     "solution": false,
     "task": false
    }
   },
   "outputs": [
    {
     "name": "stdout",
     "output_type": "stream",
     "text": [
      "Decodificado: [15.0, 10.0, 10.0, 1.0, 2.0, 14.0, 11.0, 8.0, 13.0, 16.0, 19.0, 20.0, 13.0, 10.0, 6.0, 1.0, 20.0, 18.0, 19.0, 1.0, 15.0, 17.0, 1.0, 10.0, 12.0]\n",
      "Transmitidos: [15 10 10  1  2 14 11  8 13 16 19 20 13 10  6  1 20 18 19  1 15 17  1 10\n",
      " 12]\n"
     ]
    },
    {
     "data": {
      "image/png": "[encoded data removed]",
      "text/plain": [
       "<Figure size 1000x500 with 1 Axes>"
      ]
     },
     "metadata": {},
     "output_type": "display_data"
    }
   ],
   "source": [
    "# Celda para auto-comprobación del decodificador\n",
    "duracion_simbolo = 25\n",
    "dec= PWM_decod(pwm,duracion_simbolo)\n",
    "print('Decodificado:',dec)\n",
    "print('Transmitidos:',simbolos)\n",
    "#Deben coincidir transmitidos y decodificados\n",
    "\n",
    "#Estas dos gráficas deben solaparse\n",
    "_=plt.stem(dec)\n",
    "_=plt.stem(simbolos)"
   ]
  },
  {
   "cell_type": "code",
   "execution_count": 12,
   "id": "812993f2-808d-4dd4-a174-94c9d7608865",
   "metadata": {
    "nbgrader": {
     "grade": true,
     "grade_id": "cell-301dfffb09af026e",
     "locked": true,
     "points": 2,
     "schema_version": 3,
     "solution": false,
     "task": false
    }
   },
   "outputs": [],
   "source": [
    "# Celda de Evaluación automática\n",
    "### BEGIN HIDDEN TESTS\n",
    "pwm_ref=np.load('pwm_ref.npy')\n",
    "### HASHED AUTOTEST  PWM_decod(pwm_ref[100:400], 25)\n",
    "### END HIDDEN TESTS"
   ]
  },
  {
   "cell_type": "markdown",
   "id": "fdd27de7",
   "metadata": {
    "nbgrader": {
     "grade": false,
     "grade_id": "cell-789f4f9468a13d12",
     "locked": true,
     "schema_version": 3,
     "solution": false,
     "task": false
    }
   },
   "source": [
    "## Determinacion de la duración de símbolo\n",
    "\n",
    "En la función *PWM_decod(pwm, duracion_simbolo)* era necesario introducir la duración del símbolo.\n",
    "\n",
    "Sin embargo la duración del símbolo está implícita en la propia señal pwm. Dado que todos los símbolos tienen la misma duración, es posible estimar dicha duración:\n",
    "\n",
    "* Se determinan los instantes de tiempo donde comienzan los distintos símbolos mediante pwm_starts()\n",
    "\n",
    "* Se determinan las diferencias entre instantes consecutivos.\n",
    "\n",
    "    * Por ejemplo si instantes=\\[ 11,26,41,56 \\], las diferencias entre instantes consecutivos serían \\[15,15,15\\].\n",
    "    * Observar que la cantidad de diferencias (3 en este caso) es uno menos que la cantidad de instantes (4 en este caso)\n",
    "\n",
    "* Se calcula la media o la mediana de dichas diferencias.\n",
    "\n",
    "Programe una función *estima_periodo_pwm(pwm)* que:\n",
    "\n",
    "* reciba las muestras pwm\n",
    "\n",
    "* Devuelva el periodo de simbolo\n",
    "  * A partir de las diferencias de tiempo entre instantes de comienzo de símbolo\n"
   ]
  },
  {
   "cell_type": "code",
   "execution_count": 28,
   "id": "753ebef5",
   "metadata": {
    "nbgrader": {
     "grade": false,
     "grade_id": "cell-cbcc197e6e9a6cd8",
     "locked": false,
     "schema_version": 3,
     "solution": true,
     "task": false
    }
   },
   "outputs": [],
   "source": [
    "def estima_periodo_pwm(pwm):\n",
    "    '''\n",
    "    Estima el periodo de simbolo de una señal pwm\n",
    "    Debe devolver un entero\n",
    "    '''\n",
    "    st = pwm_starts(pwm)\n",
    "    assert len(st)>0,\"La señal no contiene pulsos pwm\"\n",
    "    periodo = None # Valor a calcular\n",
    "    \n",
    "    ### BEGIN SOLUTION\n",
    "    periodo=int(np.mean(np.diff(st)))\n",
    "    ### END SOLUTION\n",
    "\n",
    "    return periodo\n",
    "    "
   ]
  },
  {
   "cell_type": "markdown",
   "id": "9c800edc",
   "metadata": {
    "nbgrader": {
     "grade": false,
     "grade_id": "cell-0fedeccaa2d92949",
     "locked": true,
     "schema_version": 3,
     "solution": false,
     "task": false
    }
   },
   "source": [
    "### Prueba determinacion duracion de simbolo"
   ]
  },
  {
   "cell_type": "code",
   "execution_count": 30,
   "id": "eea10ab4",
   "metadata": {
    "nbgrader": {
     "grade": false,
     "grade_id": "cell-6e56aa1363ef88c7",
     "locked": true,
     "schema_version": 3,
     "solution": false,
     "task": false
    }
   },
   "outputs": [
    {
     "name": "stdout",
     "output_type": "stream",
     "text": [
      "Periodo Estimado: 25\n"
     ]
    }
   ],
   "source": [
    "\n",
    "# Comprobación por el estudiante\n",
    "\n",
    "\n",
    "pwm=np.load('signals/pwm_ref.npy')\n",
    "periodo = estima_periodo_pwm(pwm)\n",
    "\n",
    "# El resultado debe ser un entero\n",
    "if not isinstance(periodo,int):\n",
    "    print(f\"ERROR!!!: Periodo={periodo} debe ser de tipo int y es de tipo {type(periodo)}\")\n",
    "\n",
    "# El resultado debe ser \"25\"          \n",
    "print('Periodo Estimado:',periodo)"
   ]
  },
  {
   "cell_type": "code",
   "execution_count": 31,
   "id": "f8fe5681-eb35-4e51-846c-42e770085f52",
   "metadata": {
    "nbgrader": {
     "grade": true,
     "grade_id": "cell-0bd0ff1e71c70a8d",
     "locked": true,
     "points": 2,
     "schema_version": 3,
     "solution": false,
     "task": false
    }
   },
   "outputs": [],
   "source": [
    "# Celda de Evaluación automática\n",
    "### BEGIN HIDDEN TESTS\n",
    "tt=np.zeros(1000)\n",
    "tt[53:700:19]=1\n",
    "### HASHED AUTOTEST  estima_periodo_pwm(tt)\n",
    "ttt=np.zeros(700)\n",
    "ttt[113::27]=1\n",
    "### HASHED AUTOTEST  estima_periodo_pwm(tt)\n",
    "### END HIDDEN TESTS"
   ]
  },
  {
   "cell_type": "markdown",
   "id": "6666876d",
   "metadata": {
    "nbgrader": {
     "grade": false,
     "grade_id": "cell-b0acd03d0cfbb29b",
     "locked": true,
     "schema_version": 3,
     "solution": false,
     "task": false
    }
   },
   "source": [
    "## Programación versión final PWM_decod(pwm)\n",
    "\n",
    "En la anterior versión de la función era necesario introducir tanto las muestras pwm como la duracion del símbolo.\n",
    "\n",
    "Modifique la función para que recibiendo únicamente las muestras pwm sea posible decodificar.\n",
    "\n",
    "Debe  Integrar el código de las funciones parciales que ha ido implementando en esta.\n"
   ]
  },
  {
   "cell_type": "code",
   "execution_count": 36,
   "id": "0c3d192a",
   "metadata": {
    "nbgrader": {
     "grade": false,
     "grade_id": "cell-7abfb157f52316de",
     "locked": false,
     "schema_version": 3,
     "solution": true,
     "task": false
    }
   },
   "outputs": [],
   "source": [
    "def PWM_decod2(pwm):\n",
    "    '''\n",
    "    A partir de las muestras pwm  devuelve la secuencia de símbolos\n",
    "    \n",
    "    '''\n",
    "    simbolos=None # Debe calcular los simbolos\n",
    "### BEGIN SOLUTION\n",
    "    periodo=estima_periodo_pwm(pwm)\n",
    "    simbolos=PWM_decod(pwm,periodo)\n",
    "### END SOLUTION\n",
    "    if isinstance(simbolos,list):\n",
    "        simbolos=np.array(simbolos)\n",
    "    return simbolos"
   ]
  },
  {
   "cell_type": "markdown",
   "id": "e52dc518",
   "metadata": {
    "nbgrader": {
     "grade": false,
     "grade_id": "cell-a2e1009128d85c55",
     "locked": true,
     "schema_version": 3,
     "solution": false,
     "task": false
    }
   },
   "source": [
    "### Comprobación versión final de PWM_decod(pwm)"
   ]
  },
  {
   "cell_type": "code",
   "execution_count": 37,
   "id": "b39c6c0f",
   "metadata": {
    "nbgrader": {
     "grade": false,
     "grade_id": "cell-ff4f09f48cf0ab38",
     "locked": true,
     "schema_version": 3,
     "solution": false,
     "task": false
    }
   },
   "outputs": [
    {
     "name": "stdout",
     "output_type": "stream",
     "text": [
      "Decodificado: [15. 10. 10.  1.  2. 14. 11.  8. 13. 16. 19. 20. 13. 10.  6.  1. 20. 18.\n",
      " 19.  1. 15. 17.  1. 10. 12.]\n",
      "Transmitidos: [15 10 10  1  2 14 11  8 13 16 19 20 13 10  6  1 20 18 19  1 15 17  1 10\n",
      " 12]\n"
     ]
    },
    {
     "data": {
      "image/png": "[encoded data removed]",
      "text/plain": [
       "<Figure size 1000x500 with 1 Axes>"
      ]
     },
     "metadata": {},
     "output_type": "display_data"
    }
   ],
   "source": [
    "\n",
    "dec= PWM_decod2(pwm)\n",
    "print('Decodificado:',dec)\n",
    "print('Transmitidos:',simbolos)\n",
    "_=plt.stem(dec)\n",
    "_=plt.stem(simbolos)\n",
    "\n",
    "### Las dos gráficas deben solaparse\n"
   ]
  },
  {
   "cell_type": "code",
   "execution_count": 40,
   "id": "4119ad9b",
   "metadata": {
    "nbgrader": {
     "grade": false,
     "grade_id": "cell-5a98bce28db782d1",
     "locked": true,
     "schema_version": 3,
     "solution": false,
     "task": false
    }
   },
   "outputs": [
    {
     "name": "stdout",
     "output_type": "stream",
     "text": [
      "Enhorabuena!! La secuencia decodificada coincide con la transmitida\n"
     ]
    }
   ],
   "source": [
    "# Comprobación por el estudiante\n",
    "if np.all(dec.astype('int')==simbolos):\n",
    "    print (\"Enhorabuena!! La secuencia decodificada coincide con la transmitida\")\n",
    "else:\n",
    "    print (\"Hay diferencias entre la decodificada y la transmitida\")\n",
    "    print(\"Diferencias:\",(dec.astype('int')==simbolos))\n",
    "    print(\"REVISE sus funciones!!!\")"
   ]
  },
  {
   "cell_type": "code",
   "execution_count": null,
   "id": "562ecc66-d2d0-4836-94f2-4f51d552576f",
   "metadata": {
    "nbgrader": {
     "grade": true,
     "grade_id": "cell-0ecdf52d069c2769",
     "locked": true,
     "points": 1,
     "schema_version": 3,
     "solution": false,
     "task": false
    }
   },
   "outputs": [],
   "source": [
    "# Celda para corrección automática\n",
    "\n",
    "### BEGIN HIDDEN TESTS\n",
    "### HASHED AUTOTEST PWM_decod2(pwm)\n",
    "### END HIDDEN TESTS"
   ]
  }
 ],
 "metadata": {
  "kernelspec": {
   "display_name": "Python 3 (ipykernel)",
   "language": "python",
   "name": "python3"
  },
  "language_info": {
   "codemirror_mode": {
    "name": "ipython",
    "version": 3
   },
   "file_extension": ".py",
   "mimetype": "text/x-python",
   "name": "python",
   "nbconvert_exporter": "python",
   "pygments_lexer": "ipython3",
   "version": "3.12.3"
  },
  "varInspector": {
   "cols": {
    "lenName": 16,
    "lenType": 16,
    "lenVar": 40
   },
   "kernels_config": {
    "python": {
     "delete_cmd_postfix": "",
     "delete_cmd_prefix": "del ",
     "library": "var_list.py",
     "varRefreshCmd": "print(var_dic_list())"
    },
    "r": {
     "delete_cmd_postfix": ") ",
     "delete_cmd_prefix": "rm(",
     "library": "var_list.r",
     "varRefreshCmd": "cat(var_dic_list()) "
    }
   },
   "types_to_exclude": [
    "module",
    "function",
    "builtin_function_or_method",
    "instance",
    "_Feature"
   ],
   "window_display": false
  }
 },
 "nbformat": 4,
 "nbformat_minor": 5
}
