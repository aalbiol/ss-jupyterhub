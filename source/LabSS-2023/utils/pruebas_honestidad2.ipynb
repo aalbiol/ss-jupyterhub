{
 "cells": [
  {
   "cell_type": "code",
   "execution_count": 2,
   "id": "159e735e-03a5-4964-864b-0281b5e3aa1b",
   "metadata": {},
   "outputs": [],
   "source": [
    "%load_ext autoreload\n",
    "%autoreload 2\n",
    "import UPVlog"
   ]
  },
  {
   "cell_type": "code",
   "execution_count": 3,
   "id": "e29d78b6-0159-4d9b-b502-f63c0b384f2a",
   "metadata": {},
   "outputs": [],
   "source": [
    "mylogger=UPVlog.UPVlog()"
   ]
  },
  {
   "cell_type": "code",
   "execution_count": 4,
   "id": "7d5c27f9-9bc3-49fb-91b2-663bc9bf7df1",
   "metadata": {},
   "outputs": [],
   "source": [
    "mylogger.log(\"Grafica de una recta\")"
   ]
  },
  {
   "cell_type": "code",
   "execution_count": 5,
   "id": "b946e102-df62-4ec6-981d-4ea9af5e559a",
   "metadata": {},
   "outputs": [],
   "source": [
    "mylogger.log(\"Cálculos difífiles\")"
   ]
  },
  {
   "cell_type": "code",
   "execution_count": null,
   "id": "8ca8aeff-0b3c-42ca-97ab-ad85dee95a30",
   "metadata": {},
   "outputs": [],
   "source": []
  }
 ],
 "metadata": {
  "kernelspec": {
   "display_name": "Python 3 (ipykernel)",
   "language": "python",
   "name": "python3"
  },
  "language_info": {
   "codemirror_mode": {
    "name": "ipython",
    "version": 3
   },
   "file_extension": ".py",
   "mimetype": "text/x-python",
   "name": "python",
   "nbconvert_exporter": "python",
   "pygments_lexer": "ipython3",
   "version": "3.12.3"
  }
 },
 "nbformat": 4,
 "nbformat_minor": 5
}
