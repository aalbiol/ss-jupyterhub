{
 "cells": [
  {
   "cell_type": "code",
   "execution_count": 1,
   "id": "45a1c555-8f41-4114-8cde-13cd5f1740c8",
   "metadata": {},
   "outputs": [],
   "source": [
    "from logjupyteranalysis import detecta_usuarios_dobles\n",
    "from logjupyteranalysis import  detecta_usuarios_dobles_hora"
   ]
  },
  {
   "cell_type": "code",
   "execution_count": 2,
   "id": "9a1d1eaa-ee85-4112-b721-b683232b536a",
   "metadata": {},
   "outputs": [
    {
     "name": "stderr",
     "output_type": "stream",
     "text": [
      "100%|██████████| 1377189/1377189 [00:00<00:00, 4593675.43it/s]\n"
     ]
    },
    {
     "data": {
      "text/plain": [
       "{('2024-08-28', '158.42.188.60'): {'agomrui1', 'clase'},\n",
       " ('2024-09-27', '158.42.32.75'): {'clase', 'jmgomalm'},\n",
       " ('2024-10-04', '158.42.36.51'): {'clinche', 'jllotor'}}"
      ]
     },
     "execution_count": 2,
     "metadata": {},
     "output_type": "execute_result"
    }
   ],
   "source": [
    "detecta_usuarios_dobles('/srv/log/jupyterhub.log' )"
   ]
  },
  {
   "cell_type": "code",
   "execution_count": 3,
   "id": "33f0f6a1-66a0-4e61-b705-3c8f97218726",
   "metadata": {},
   "outputs": [
    {
     "name": "stderr",
     "output_type": "stream",
     "text": [
      "100%|██████████| 1377553/1377553 [00:00<00:00, 4233912.22it/s]\n"
     ]
    },
    {
     "data": {
      "text/plain": [
       "{}"
      ]
     },
     "execution_count": 3,
     "metadata": {},
     "output_type": "execute_result"
    }
   ],
   "source": [
    "detecta_usuarios_dobles_hora('/srv/log/jupyterhub.log' )"
   ]
  },
  {
   "cell_type": "code",
   "execution_count": null,
   "id": "45e26246-6891-4d72-a41b-9ebb3a0e118f",
   "metadata": {},
   "outputs": [],
   "source": []
  }
 ],
 "metadata": {
  "kernelspec": {
   "display_name": "Python 3 (ipykernel)",
   "language": "python",
   "name": "python3"
  },
  "language_info": {
   "codemirror_mode": {
    "name": "ipython",
    "version": 3
   },
   "file_extension": ".py",
   "mimetype": "text/x-python",
   "name": "python",
   "nbconvert_exporter": "python",
   "pygments_lexer": "ipython3",
   "version": "3.12.4"
  }
 },
 "nbformat": 4,
 "nbformat_minor": 5
}
