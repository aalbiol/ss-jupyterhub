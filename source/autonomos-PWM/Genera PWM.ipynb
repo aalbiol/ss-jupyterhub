{
 "cells": [
  {
   "cell_type": "markdown",
   "id": "e0fdfe48",
   "metadata": {
    "nbgrader": {
     "grade": false,
     "grade_id": "cell-52d2bf8dab9a9c91",
     "locked": true,
     "schema_version": 3,
     "solution": false,
     "task": false
    }
   },
   "source": [
    "# Generación señales PWM\n",
    "\n",
    "El objetivo de este ejercicio es desarrollar una función que genere las muestras de una señal PWM.\n",
    "\n",
    "Una señal PWM (Pulse Width Modulation), es un tipo de señal que permite *codificar* una serie de valores en las anchuras de una serie de pulsos rectangulares.\n",
    "\n",
    "Para entender como son estas señales, considere que:\n",
    "\n",
    "* los valores posibles a codificar son [1,2,3]. \n",
    "\n",
    "* la duración de los pulsos es 5.\n",
    "\n",
    "En ese caso:\n",
    "\n",
    "* Para codificar la secuencia 2,1,1,3,1,...\n",
    "  \n",
    "  * Para codificar el primer \"2\" , generaríamos las muestras [1,1,0,0,0] (Observe que el número total de muestras es constante e igual a 5.\n",
    "  \n",
    "  * Para codificar los \"1\"s, generaríamos para cada uno de ellos las muestras : [1,0,0,0,0], es decir de nuevo 5 muestras una de las cuales vale 1.\n",
    "\n",
    "  * Para codificar el 3 : [1,1,1,0,0]\n",
    "  \n",
    "* Por tanto la secuencia 2,1,1,3,1 se codificaría como : 1,1,0,0,0,  1,0,0,0,0,  1,0,0,0,0,  1,1,1,0,0,  1,0,0,0,0"
   ]
  },
  {
   "cell_type": "code",
   "execution_count": 1,
   "id": "43b6b9d9",
   "metadata": {
    "nbgrader": {
     "grade": false,
     "grade_id": "cell-ca771ca856005667",
     "locked": true,
     "schema_version": 3,
     "solution": false,
     "task": false
    }
   },
   "outputs": [],
   "source": [
    "#Importaremos los módulos necesarios\n",
    "%matplotlib inline\n",
    "import numpy as np\n",
    "import matplotlib\n",
    "import matplotlib.pyplot as plt\n",
    "import math\n",
    "matplotlib.rcParams['figure.figsize'] = (10.0, 5)"
   ]
  },
  {
   "cell_type": "markdown",
   "id": "26735a84",
   "metadata": {
    "nbgrader": {
     "grade": false,
     "grade_id": "cell-ba4be0752354d924",
     "locked": true,
     "schema_version": 3,
     "solution": false,
     "task": false
    }
   },
   "source": [
    "## Programación\n",
    "\n",
    "Cree una función PWM_cod que reciba como argumentos:\n",
    "\n",
    "* Un vector de enteros de símbolos a codificar\n",
    "\n",
    "* Un entero que corresponda con la duración en muestras de los símbolos (el 5 del ejemplo)\n",
    "\n",
    "y devuelva un vector de ceros y unos con la señal PWM"
   ]
  },
  {
   "cell_type": "code",
   "execution_count": 11,
   "id": "6e702577",
   "metadata": {
    "nbgrader": {
     "grade": false,
     "grade_id": "cell-8b6391e16a6ae68c",
     "locked": false,
     "schema_version": 3,
     "solution": true,
     "task": false
    }
   },
   "outputs": [],
   "source": [
    "def PWM_cod(simbolos, duracion):\n",
    "    '''\n",
    "    Genera muestras de una señal PWM a partir de unos simbolos\n",
    "    Los simbolos son enteros entre 1 y Nmax\n",
    "    La duración de cada simbolo es \"duracion\" muestras\n",
    "    Puede suponer que duracion Nmax < duracion\n",
    "    [1,1,0,0,0,  1,0,0,0,0,  1,0,0,0,0,  1,1,1,0,0,  1,0,0,0,0] = PWM_cod([2,1,1,3,1],5);\n",
    "\n",
    "    La salida DEBE SER UN ARRAY DE NUMPY\n",
    "    '''\n",
    "\n",
    "    if isinstance(simbolos,list):\n",
    "        simbolos=np.array(simbolos)\n",
    "    \n",
    "    assert np.all(simbolos>0), \"Los simbolos deben ser entereos >=1\"\n",
    "    assert np.all(simbolos<duracion), \"Lo símbolos deben ser entereos menores que duracion\"\n",
    "    out=[]\n",
    "    ### BEGIN SOLUTION\n",
    "    for n in simbolos:\n",
    "        ceros=[0]*duracion\n",
    "        ceros[:n]=[1]*n\n",
    "        out += ceros\n",
    "    ### END SOLUTION\n",
    "\n",
    "    return np.array(out)\n"
   ]
  },
  {
   "cell_type": "markdown",
   "id": "fedfe665",
   "metadata": {
    "nbgrader": {
     "grade": false,
     "grade_id": "cell-c8e599d0253ec9db",
     "locked": true,
     "schema_version": 3,
     "solution": false,
     "task": false
    }
   },
   "source": [
    "## Prueba de la función desarrollada\n",
    "\n",
    "Generaremos unos simbolos aleatorios usando la función randint"
   ]
  },
  {
   "cell_type": "code",
   "execution_count": 3,
   "id": "9adb404b",
   "metadata": {
    "nbgrader": {
     "grade": false,
     "grade_id": "cell-d9a62d3352e9f861",
     "locked": true,
     "schema_version": 3,
     "solution": false,
     "task": false
    }
   },
   "outputs": [
    {
     "name": "stdout",
     "output_type": "stream",
     "text": [
      "simbolos= [3 2 1 1 4]\n",
      "pwm= [1 1 1 0 0 0 1 1 0 0 0 0 1 0 0 0 0 0 1 0 0 0 0 0 1 1 1 1 0 0]\n"
     ]
    }
   ],
   "source": [
    "# Comprobación por el estudiante de que su función es correcta\n",
    "simbolos =np.array([3,2,1,1,4])\n",
    "duracion = 6\n",
    "print('simbolos=', simbolos)\n",
    "pwm=PWM_cod(simbolos,duracion)\n",
    "print(\"pwm=\",pwm)\n",
    "## Mire la salida en pwm y compruebe que se corresponde"
   ]
  },
  {
   "cell_type": "markdown",
   "id": "4bedd5b0-e4d0-4b56-85d8-2a2d45cd9245",
   "metadata": {
    "nbgrader": {
     "grade": false,
     "grade_id": "cell-f75113c1a19a3600",
     "locked": true,
     "schema_version": 3,
     "solution": false,
     "task": false
    }
   },
   "source": [
    "La salida debería ser:\n",
    "\n",
    " * simbolos= \\[3 2 1 1 4\\]\n",
    "\n",
    " * pwm= \\[1 1 1 0 0 0 1 1 0 0 0 0 1 0 0 0 0 0 1 0 0 0 0 0 1 1 1 1 0 0\\]"
   ]
  },
  {
   "cell_type": "code",
   "execution_count": 4,
   "id": "8f48946d-8963-4ec9-8a4c-9811c856a2d6",
   "metadata": {},
   "outputs": [],
   "source": [
    "# Comprobación por el estudiante de que devuelve un array de numpy del tamaño adecuado.\n",
    "# Si no da errores es que está bien\n",
    "\n",
    "\n",
    "if not isinstance(pwm,np.ndarray):\n",
    "    print(\"'pwm' No es un array de numpy, es del tipo \",type(pwm))\n",
    "assert len(pwm)==len(simbolos)*duracion, \"'pwm' no tiene el tamaño correcto\"\n",
    "    \n",
    "\n"
   ]
  },
  {
   "cell_type": "code",
   "execution_count": 5,
   "id": "9807ead3",
   "metadata": {
    "nbgrader": {
     "grade": false,
     "grade_id": "cell-654d7bb6952f285e",
     "locked": true,
     "schema_version": 3,
     "solution": false,
     "task": false
    }
   },
   "outputs": [
    {
     "data": {
      "image/png": "[encoded data removed]",
      "text/plain": [
       "<Figure size 1000x500 with 1 Axes>"
      ]
     },
     "metadata": {},
     "output_type": "display_data"
    }
   ],
   "source": [
    "#Gráfica para verificación por el estudiante\n",
    "\n",
    "# Gráficamente es sencillo de ver. Deben observarse tantos pulsos como simbolos, y la cantidad de \n",
    "# unos en cada uno debe ser el valor de los simbilos\n",
    "_=plt.stem(pwm)\n",
    "_=plt.xticks(np.arange(0,30,6))\n",
    "_=plt.grid()\n"
   ]
  },
  {
   "cell_type": "markdown",
   "id": "6d4511a6",
   "metadata": {
    "nbgrader": {
     "grade": false,
     "grade_id": "cell-713096b5492afa52",
     "locked": true,
     "schema_version": 3,
     "solution": false,
     "task": false
    }
   },
   "source": [
    "A la vista de la gráfica.\n",
    "\n",
    "* Compruebe que la función hace lo esperado.\n",
    "\n",
    "* Si no es así corríjala hasta que lo logre.\n",
    "\n"
   ]
  },
  {
   "cell_type": "code",
   "execution_count": 6,
   "id": "cfd63dbd-5934-4ed8-97af-9595b9b51ae1",
   "metadata": {
    "nbgrader": {
     "grade": true,
     "grade_id": "cell-618ba65dfa21ff35",
     "locked": true,
     "points": 2,
     "schema_version": 3,
     "solution": false,
     "task": false
    }
   },
   "outputs": [],
   "source": [
    "# Celda para corrección automática\n",
    "\n",
    "### BEGIN HIDDEN TESTS\n",
    "# AUTOTEST PWM_cod(np.array([1,6,3,4,4,2,1,7]),10)\n",
    "### END HIDDEN TESTS"
   ]
  },
  {
   "cell_type": "markdown",
   "id": "e6393cce-1562-4958-871f-e273e1d9961b",
   "metadata": {
    "nbgrader": {
     "grade": false,
     "grade_id": "cell-4357c67a7e7ec668",
     "locked": true,
     "schema_version": 3,
     "solution": false,
     "task": false
    }
   },
   "source": [
    "## Modificación de la función\n",
    "\n",
    "Copie la función anterior y extiendala con dos argumentos más\n",
    "\n",
    "* prefijo: cantidad de muestras nulas que preceden al primer símbolo.\n",
    "* sufijo: cantidad de muestras nulas que siguen al último símbolo."
   ]
  },
  {
   "cell_type": "code",
   "execution_count": 7,
   "id": "048b2397",
   "metadata": {
    "nbgrader": {
     "grade": false,
     "grade_id": "cell-70bf4ed48db4f83b",
     "locked": false,
     "schema_version": 3,
     "solution": true,
     "task": false
    }
   },
   "outputs": [],
   "source": [
    "def PWM_cod2(simbolos, duracion,prefijo,sufijo):\n",
    "    '''\n",
    "    Genera muestras de una señal PWM a partir de unos simbolos\n",
    "    Los simbolos son enteros entre 1 y Nmax\n",
    "    La duración de cada simbolo es \"duracion\" muestras\n",
    "    Puede suponer que duracion Nmax < duracion\n",
    "    \n",
    "    prefijo: cantidad de muestras nulas que preceden al primer símbolo\n",
    "    sufijo: cantidad de muestras nulas que siguen al último simbolos\n",
    "    prefijo=3\n",
    "    sufijo=2\n",
    "    duracion=5\n",
    "    [0,0,0, 1,1,0,0,0,  1,0,0,0,0,  1,0,0,0,0,  1,1,1,0,0,  1,0,0,0,0, 0,0] = PWM_cod([2,1,1,3,1], duracion , prefijo, sufijo);\n",
    "    \n",
    "    '''\n",
    "    assert prefijo >=0 , \"El prefijo debe ser un entero >=0\"\n",
    "    assert sufijo >=0 , \"El prefijo debe ser un entero >=0\"\n",
    "    \n",
    "    pwm_sin_prefijo_sufijo = PWM_cod(simbolos,duracion) # Se recomienda usar la función anterior\n",
    "    \n",
    "    pwm_con_prefijo_sufijo = None\n",
    "### BEGIN SOLUTION\n",
    "    p=np.zeros(prefijo)\n",
    "    s=np.zeros(sufijo)\n",
    "    pwm_con_prefijo_sufijo = np.concatenate((p,pwm_sin_prefijo_sufijo, s))\n",
    "### END SOLUTION\n",
    "    \n",
    "    return pwm_con_prefijo_sufijo\n",
    "    \n",
    "    \n",
    "    "
   ]
  },
  {
   "cell_type": "markdown",
   "id": "4b3ee4d9",
   "metadata": {
    "nbgrader": {
     "grade": false,
     "grade_id": "cell-0c62d10985465d50",
     "locked": true,
     "schema_version": 3,
     "solution": false,
     "task": false
    }
   },
   "source": [
    "## Comprobación\n",
    "\n",
    "Ejecute los siguientes bloques y verifique que funciona correctamente.\n",
    "\n"
   ]
  },
  {
   "cell_type": "code",
   "execution_count": 8,
   "id": "91c537b0",
   "metadata": {
    "nbgrader": {
     "grade": false,
     "grade_id": "cell-fb39d154030e6433",
     "locked": true,
     "schema_version": 3,
     "solution": false,
     "task": false
    }
   },
   "outputs": [
    {
     "name": "stdout",
     "output_type": "stream",
     "text": [
      "simbolos= [2 3 1]\n",
      "pwm2: [0. 0. 0. 0. 1. 1. 0. 0. 0. 1. 1. 1. 0. 0. 1. 0. 0. 0. 0. 0. 0. 0.]\n"
     ]
    },
    {
     "data": {
      "image/png": "[encoded data removed]",
      "text/plain": [
       "<Figure size 1000x500 with 1 Axes>"
      ]
     },
     "metadata": {},
     "output_type": "display_data"
    }
   ],
   "source": [
    "# Celda para comprobar visualmente si el resultado es correcto\n",
    "simbolos =np.array([2,3,1])\n",
    "duracion = 5\n",
    "prefijo = 4\n",
    "sufijo = 3\n",
    "print('simbolos=', simbolos)\n",
    "pwm2=PWM_cod2(simbolos,duracion,prefijo,sufijo)\n",
    "print('pwm2:',pwm2)\n",
    "_=plt.stem(pwm2)"
   ]
  },
  {
   "cell_type": "markdown",
   "id": "03500ef0-0e39-45fc-9f9d-d1f914291f49",
   "metadata": {
    "nbgrader": {
     "grade": false,
     "grade_id": "cell-7aa524a9ac75bcb2",
     "locked": true,
     "schema_version": 3,
     "solution": false,
     "task": false
    }
   },
   "source": [
    "Compruebe que el resultado de la celda anterior debe ser:\n",
    "* simbolos= \\[2 3 1\\]\n",
    "\n",
    "* prefijo = 4\n",
    "\n",
    "* sufijo = 2\n",
    "\n",
    "* duracion = 5\n",
    "\n",
    "* pwm2: \\[0. 0. 0. 0. &emsp;  1. 1. 0. 0. 0. &emsp; 1. 1. 1. 0. 0. &emsp; 1. 0. 0. 0. 0. &emsp; 0. 0. 0.\\]"
   ]
  },
  {
   "cell_type": "code",
   "execution_count": 9,
   "id": "8d6b00c8-58be-445f-b59e-cea197a52048",
   "metadata": {
    "nbgrader": {
     "grade": true,
     "grade_id": "cell-1f09d81593ceea9e",
     "locked": true,
     "points": 2,
     "schema_version": 3,
     "solution": false,
     "task": false
    }
   },
   "outputs": [],
   "source": [
    "# Celda para evaluación automática\n",
    "\n",
    "### BEGIN HIDDEN TESTS\n",
    "simbolos =np.array([2,3,1,6,7,3,2,2,8,4])\n",
    "duracion = 13\n",
    "prefijo = 9\n",
    "sufijo = 5\n",
    "### HASHED AUTOTEST PWM_cod2(simbolos,duracion,prefijo,sufijo)\n",
    "### END HIDDEN TESTS"
   ]
  },
  {
   "cell_type": "markdown",
   "id": "f465d839",
   "metadata": {
    "nbgrader": {
     "grade": false,
     "grade_id": "cell-bc39c1820e2c7776",
     "locked": true,
     "schema_version": 3,
     "solution": false,
     "task": false
    }
   },
   "source": [
    "## Generación y almacenamiento de una señal\n",
    "\n",
    "En otro ejercicio, va a implementar un decodificador PWM, es decir una función que reciba las muestras PWM y devuelva los símbolos.\n",
    "\n",
    "Para poder probar el decodificador, guardaremos un ejemplo en este ejercicio\n"
   ]
  },
  {
   "cell_type": "code",
   "execution_count": 10,
   "id": "4bb4349e",
   "metadata": {},
   "outputs": [
    {
     "name": "stdout",
     "output_type": "stream",
     "text": [
      "[ 1 11  5 11 18  8 12 17 15 10 15  6 13 18  3  1  8  3 15  7  6 12 19 11\n",
      "  6]\n"
     ]
    },
    {
     "data": {
      "image/png": "[encoded data removed]",
      "text/plain": [
       "<Figure size 1000x500 with 1 Axes>"
      ]
     },
     "metadata": {},
     "output_type": "display_data"
    }
   ],
   "source": [
    "simbolos =1+np.random.randint(20,size=25)\n",
    "print(simbolos)\n",
    "np.save('simbolos.npy',simbolos)\n",
    "\n",
    "prefijo = 62\n",
    "sufijo = 91\n",
    "duracion = 25\n",
    "pwm3=PWM_cod2(simbolos,duracion,prefijo,sufijo)\n",
    "_=plt.plot(pwm3)\n",
    "np.save('pwm.npy',pwm3)"
   ]
  }
 ],
 "metadata": {
  "kernelspec": {
   "display_name": "Python 3 (ipykernel)",
   "language": "python",
   "name": "python3"
  },
  "language_info": {
   "codemirror_mode": {
    "name": "ipython",
    "version": 3
   },
   "file_extension": ".py",
   "mimetype": "text/x-python",
   "name": "python",
   "nbconvert_exporter": "python",
   "pygments_lexer": "ipython3",
   "version": "3.12.3"
  },
  "varInspector": {
   "cols": {
    "lenName": 16,
    "lenType": 16,
    "lenVar": 40
   },
   "kernels_config": {
    "python": {
     "delete_cmd_postfix": "",
     "delete_cmd_prefix": "del ",
     "library": "var_list.py",
     "varRefreshCmd": "print(var_dic_list())"
    },
    "r": {
     "delete_cmd_postfix": ") ",
     "delete_cmd_prefix": "rm(",
     "library": "var_list.r",
     "varRefreshCmd": "cat(var_dic_list()) "
    }
   },
   "types_to_exclude": [
    "module",
    "function",
    "builtin_function_or_method",
    "instance",
    "_Feature"
   ],
   "window_display": false
  }
 },
 "nbformat": 4,
 "nbformat_minor": 5
}
