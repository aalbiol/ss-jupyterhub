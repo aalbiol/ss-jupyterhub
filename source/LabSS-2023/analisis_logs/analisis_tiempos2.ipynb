{
 "cells": [
  {
   "cell_type": "code",
   "execution_count": 1,
   "id": "a604d010-968c-4572-8027-78ed700038f7",
   "metadata": {},
   "outputs": [],
   "source": [
    "%load_ext autoreload\n",
    "%autoreload 2\n",
    "import pandas as pd\n",
    "import numpy as np\n",
    "import matplotlib.pyplot as plt\n",
    "from datetime import datetime\n",
    "import loganalisis\n",
    "from glob import glob"
   ]
  },
  {
   "cell_type": "code",
   "execution_count": 2,
   "id": "4dc4f30a-2495-46d4-92b7-b5d94d104960",
   "metadata": {},
   "outputs": [],
   "source": [
    "ficheros=glob(\"/srv/log/users/*.log\")"
   ]
  },
  {
   "cell_type": "code",
   "execution_count": 3,
   "id": "03eb7d0e-b618-42c8-b989-b35050993363",
   "metadata": {},
   "outputs": [
    {
     "name": "stdout",
     "output_type": "stream",
     "text": [
      "spuerob #############################################\n",
      "rlosbes #############################################\n",
      "pmatbol #############################################\n",
      "jcebmir #############################################\n",
      "cbencan #############################################\n",
      "vzarher #############################################\n",
      "asancan2 #############################################\n",
      "sruiper #############################################\n",
      "fjgombaq #############################################\n",
      "jvolmalb #############################################\n",
      "rsissan #############################################\n",
      "aibacol #############################################\n",
      "clase #############################################\n",
      "amiqfus #############################################\n",
      "fcargra #############################################\n",
      "ajimcas #############################################\n",
      "iferjua #############################################\n",
      "jvilsel #############################################\n",
      "aguialf #############################################\n",
      "rrieagu #############################################\n",
      "jvalrod #############################################\n",
      "storram #############################################\n",
      "acammor1 #############################################\n",
      "xblagon #############################################\n",
      "jviltor2 #############################################\n",
      "pdomzur #############################################\n",
      "jcotmar #############################################\n",
      "dtoribo #############################################\n",
      "sripcig #############################################\n",
      "profesor #############################################\n",
      "aperlop2 #############################################\n",
      "lsanrub #############################################\n",
      "mivados #############################################\n",
      "iborroi #############################################\n",
      "jvmorcal #############################################\n",
      "abodbro #############################################\n",
      "jconara #############################################\n",
      "alifriv #############################################\n",
      "allovil2 #############################################\n",
      "idiadol #############################################\n"
     ]
    }
   ],
   "source": [
    "tiempos={}\n",
    "\n",
    "for f in ficheros:\n",
    "    user=f.split(\"/\")[-1]\n",
    "    user=user.split(\".\")[0]\n",
    "    print(user,\"#############################################\")\n",
    "    res=loganalisis.resumen(f)\n",
    "    tiempos[user]={}\n",
    "    for k,v in res.items():\n",
    "        #print(k, ' : ')\n",
    "        #print(v)\n",
    "        tiempos[user][k]=v['min_totales']\n",
    "        #print(\"==========================\")"
   ]
  },
  {
   "cell_type": "code",
   "execution_count": 4,
   "id": "e590d1f8-7115-49f6-b4af-c541dc0da70c",
   "metadata": {},
   "outputs": [],
   "source": [
    "tiempos_df=pd.DataFrame(tiempos).T"
   ]
  },
  {
   "cell_type": "code",
   "execution_count": 5,
   "id": "7bacd829-2383-41b2-814f-89c3c074a29d",
   "metadata": {},
   "outputs": [],
   "source": [
    "tiempos_df=tiempos_df.sort_index()\n",
    "tiempos_df=tiempos_df[sorted(tiempos_df)]"
   ]
  },
  {
   "cell_type": "code",
   "execution_count": 6,
   "id": "d71e9216-83bf-4baa-bb67-85f4b96fb0f8",
   "metadata": {},
   "outputs": [
    {
     "data": {
      "text/plain": [
       "Index(['01-Basic Params', '01-read_and_info', '02-Analisis Bloques',\n",
       "       '02-slicing', '03-Promedios Deslizantes', '03-juntando',\n",
       "       '03b-Receptor Digital', '04-operaciones_matem',\n",
       "       '05-Seleccionando elementos', 'transmisor_digital'],\n",
       "      dtype='object')"
      ]
     },
     "execution_count": 6,
     "metadata": {},
     "output_type": "execute_result"
    }
   ],
   "source": [
    "tiempos_df.columns"
   ]
  },
  {
   "cell_type": "code",
   "execution_count": 7,
   "id": "816e1bd0-900e-4c02-b17a-4b267a6eb91e",
   "metadata": {},
   "outputs": [],
   "source": [
    "tiempos_ordenados=tiempos_df.loc[:,['01-read_and_info','02-slicing','03-juntando', '04-operaciones_matem','05-Seleccionando elementos','01-Basic Params','02-Analisis Bloques','03-Promedios Deslizantes']]"
   ]
  },
  {
   "cell_type": "code",
   "execution_count": 8,
   "id": "29b6bc30-7a1b-40b4-8ef3-2ca03d15d279",
   "metadata": {},
   "outputs": [
    {
     "data": {
      "text/html": [
       "<div>\n",
       "<style scoped>\n",
       "    .dataframe tbody tr th:only-of-type {\n",
       "        vertical-align: middle;\n",
       "    }\n",
       "\n",
       "    .dataframe tbody tr th {\n",
       "        vertical-align: top;\n",
       "    }\n",
       "\n",
       "    .dataframe thead th {\n",
       "        text-align: right;\n",
       "    }\n",
       "</style>\n",
       "<table border=\"1\" class=\"dataframe\">\n",
       "  <thead>\n",
       "    <tr style=\"text-align: right;\">\n",
       "      <th></th>\n",
       "      <th>01-read_and_info</th>\n",
       "      <th>02-slicing</th>\n",
       "      <th>03-juntando</th>\n",
       "      <th>04-operaciones_matem</th>\n",
       "      <th>05-Seleccionando elementos</th>\n",
       "      <th>01-Basic Params</th>\n",
       "      <th>02-Analisis Bloques</th>\n",
       "      <th>03-Promedios Deslizantes</th>\n",
       "    </tr>\n",
       "  </thead>\n",
       "  <tbody>\n",
       "    <tr>\n",
       "      <th>abodbro</th>\n",
       "      <td>88.0</td>\n",
       "      <td>67.0</td>\n",
       "      <td>104.0</td>\n",
       "      <td>72.0</td>\n",
       "      <td>12.0</td>\n",
       "      <td>29.0</td>\n",
       "      <td>47.0</td>\n",
       "      <td>NaN</td>\n",
       "    </tr>\n",
       "    <tr>\n",
       "      <th>acammor1</th>\n",
       "      <td>90.0</td>\n",
       "      <td>27.0</td>\n",
       "      <td>11.0</td>\n",
       "      <td>60.0</td>\n",
       "      <td>46.0</td>\n",
       "      <td>65.0</td>\n",
       "      <td>46.0</td>\n",
       "      <td>16.0</td>\n",
       "    </tr>\n",
       "    <tr>\n",
       "      <th>aguialf</th>\n",
       "      <td>40.0</td>\n",
       "      <td>75.0</td>\n",
       "      <td>41.0</td>\n",
       "      <td>23.0</td>\n",
       "      <td>5.0</td>\n",
       "      <td>31.0</td>\n",
       "      <td>47.0</td>\n",
       "      <td>NaN</td>\n",
       "    </tr>\n",
       "    <tr>\n",
       "      <th>aibacol</th>\n",
       "      <td>45.0</td>\n",
       "      <td>54.0</td>\n",
       "      <td>40.0</td>\n",
       "      <td>88.0</td>\n",
       "      <td>9.0</td>\n",
       "      <td>31.0</td>\n",
       "      <td>82.0</td>\n",
       "      <td>12.0</td>\n",
       "    </tr>\n",
       "    <tr>\n",
       "      <th>ajimcas</th>\n",
       "      <td>89.0</td>\n",
       "      <td>210.0</td>\n",
       "      <td>48.0</td>\n",
       "      <td>85.0</td>\n",
       "      <td>8.0</td>\n",
       "      <td>31.0</td>\n",
       "      <td>158.0</td>\n",
       "      <td>16.0</td>\n",
       "    </tr>\n",
       "  </tbody>\n",
       "</table>\n",
       "</div>"
      ],
      "text/plain": [
       "          01-read_and_info  02-slicing  03-juntando  04-operaciones_matem  \\\n",
       "abodbro               88.0        67.0        104.0                  72.0   \n",
       "acammor1              90.0        27.0         11.0                  60.0   \n",
       "aguialf               40.0        75.0         41.0                  23.0   \n",
       "aibacol               45.0        54.0         40.0                  88.0   \n",
       "ajimcas               89.0       210.0         48.0                  85.0   \n",
       "\n",
       "          05-Seleccionando elementos  01-Basic Params  02-Analisis Bloques  \\\n",
       "abodbro                         12.0             29.0                 47.0   \n",
       "acammor1                        46.0             65.0                 46.0   \n",
       "aguialf                          5.0             31.0                 47.0   \n",
       "aibacol                          9.0             31.0                 82.0   \n",
       "ajimcas                          8.0             31.0                158.0   \n",
       "\n",
       "          03-Promedios Deslizantes  \n",
       "abodbro                        NaN  \n",
       "acammor1                      16.0  \n",
       "aguialf                        NaN  \n",
       "aibacol                       12.0  \n",
       "ajimcas                       16.0  "
      ]
     },
     "execution_count": 8,
     "metadata": {},
     "output_type": "execute_result"
    }
   ],
   "source": [
    "tiempos_ordenados.head()"
   ]
  },
  {
   "cell_type": "code",
   "execution_count": 9,
   "id": "d100b469-b48f-445a-8afa-3139e36f8aeb",
   "metadata": {},
   "outputs": [
    {
     "data": {
      "text/plain": [
       "01-read_and_info              65.111111\n",
       "02-slicing                    97.210526\n",
       "03-juntando                   53.891892\n",
       "04-operaciones_matem          84.000000\n",
       "05-Seleccionando elementos    21.945946\n",
       "01-Basic Params               34.837838\n",
       "02-Analisis Bloques           64.684211\n",
       "03-Promedios Deslizantes      15.625000\n",
       "dtype: float64"
      ]
     },
     "execution_count": 9,
     "metadata": {},
     "output_type": "execute_result"
    }
   ],
   "source": [
    "tiempos_ordenados.mean(axis=0)"
   ]
  },
  {
   "cell_type": "code",
   "execution_count": 10,
   "id": "95a2a018-8bfc-4e60-80f4-3454131f4549",
   "metadata": {},
   "outputs": [],
   "source": [
    "to=tiempos_ordenados.iloc[:,:5].sum(axis=1)"
   ]
  },
  {
   "cell_type": "code",
   "execution_count": 11,
   "id": "7311ab30-ff9a-4f95-8050-a2ec3cf0338c",
   "metadata": {},
   "outputs": [
    {
     "data": {
      "text/plain": [
       "abodbro      46.3\n",
       "acammor1    -62.7\n",
       "aguialf    -112.7\n",
       "aibacol     -60.7\n",
       "ajimcas     143.3\n",
       "alifriv     123.3\n",
       "allovil2    160.3\n",
       "amiqfus      39.3\n",
       "aperlop2     12.3\n",
       "asancan2     21.3\n",
       "cbencan    -248.7\n",
       "clase       -50.7\n",
       "dtoribo    -101.7\n",
       "fcargra    -253.7\n",
       "fjgombaq      6.3\n",
       "iborroi      78.3\n",
       "idiadol     372.3\n",
       "iferjua      -0.7\n",
       "jcebmir     -87.7\n",
       "jconara      32.3\n",
       "jcotmar    -177.7\n",
       "jvalrod     -14.7\n",
       "jvilsel      14.3\n",
       "jviltor2      3.3\n",
       "jvmorcal     56.3\n",
       "jvolmalb     85.3\n",
       "lsanrub     -93.7\n",
       "mivados     215.3\n",
       "pdomzur      29.3\n",
       "pmatbol      87.3\n",
       "profesor   -222.7\n",
       "rlosbes      15.3\n",
       "rrieagu      62.3\n",
       "rsissan    -244.7\n",
       "spuerob      47.3\n",
       "sripcig      72.3\n",
       "sruiper    -204.7\n",
       "storram     120.3\n",
       "vzarher      41.3\n",
       "xblagon      52.3\n",
       "dtype: float64"
      ]
     },
     "execution_count": 11,
     "metadata": {},
     "output_type": "execute_result"
    }
   ],
   "source": [
    "to - to.mean()"
   ]
  },
  {
   "cell_type": "code",
   "execution_count": 12,
   "id": "fa1e542e-3134-4df2-aade-de32f869d056",
   "metadata": {},
   "outputs": [
    {
     "data": {
      "text/plain": [
       "abodbro     343.0\n",
       "acammor1    234.0\n",
       "aguialf     184.0\n",
       "aibacol     236.0\n",
       "ajimcas     440.0\n",
       "alifriv     420.0\n",
       "allovil2    457.0\n",
       "amiqfus     336.0\n",
       "aperlop2    309.0\n",
       "asancan2    318.0\n",
       "cbencan      48.0\n",
       "clase       246.0\n",
       "dtoribo     195.0\n",
       "fcargra      43.0\n",
       "fjgombaq    303.0\n",
       "iborroi     375.0\n",
       "idiadol     669.0\n",
       "iferjua     296.0\n",
       "jcebmir     209.0\n",
       "jconara     329.0\n",
       "jcotmar     119.0\n",
       "jvalrod     282.0\n",
       "jvilsel     311.0\n",
       "jviltor2    300.0\n",
       "jvmorcal    353.0\n",
       "jvolmalb    382.0\n",
       "lsanrub     203.0\n",
       "mivados     512.0\n",
       "pdomzur     326.0\n",
       "pmatbol     384.0\n",
       "profesor     74.0\n",
       "rlosbes     312.0\n",
       "rrieagu     359.0\n",
       "rsissan      52.0\n",
       "spuerob     344.0\n",
       "sripcig     369.0\n",
       "sruiper      92.0\n",
       "storram     417.0\n",
       "vzarher     338.0\n",
       "xblagon     349.0\n",
       "dtype: float64"
      ]
     },
     "execution_count": 12,
     "metadata": {},
     "output_type": "execute_result"
    }
   ],
   "source": [
    "to"
   ]
  },
  {
   "cell_type": "code",
   "execution_count": null,
   "id": "2688ad6d-9903-48c4-a389-cdeb02d0803d",
   "metadata": {},
   "outputs": [],
   "source": []
  }
 ],
 "metadata": {
  "kernelspec": {
   "display_name": "Python 3 (ipykernel)",
   "language": "python",
   "name": "python3"
  },
  "language_info": {
   "codemirror_mode": {
    "name": "ipython",
    "version": 3
   },
   "file_extension": ".py",
   "mimetype": "text/x-python",
   "name": "python",
   "nbconvert_exporter": "python",
   "pygments_lexer": "ipython3",
   "version": "3.12.4"
  }
 },
 "nbformat": 4,
 "nbformat_minor": 5
}
