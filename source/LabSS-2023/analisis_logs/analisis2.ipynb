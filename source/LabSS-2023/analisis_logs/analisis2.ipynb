{
 "cells": [
  {
   "cell_type": "code",
   "execution_count": 1,
   "id": "a604d010-968c-4572-8027-78ed700038f7",
   "metadata": {},
   "outputs": [],
   "source": [
    "%load_ext autoreload\n",
    "%autoreload 2\n",
    "import pandas as pd\n",
    "import numpy as np\n",
    "import matplotlib.pyplot as plt\n",
    "from datetime import datetime\n",
    "import loganalisis"
   ]
  },
  {
   "cell_type": "code",
   "execution_count": 2,
   "id": "d25b72aa-a7c5-4bc3-b881-f2145047bf07",
   "metadata": {},
   "outputs": [],
   "source": [
    "fichero = \"/srv/log/users/profesor.log\""
   ]
  },
  {
   "cell_type": "code",
   "execution_count": 3,
   "id": "cdc3b565-58b7-44ef-8c18-99b3fd108aee",
   "metadata": {},
   "outputs": [],
   "source": [
    "res=loganalisis.resumen(fichero)"
   ]
  },
  {
   "cell_type": "code",
   "execution_count": 4,
   "id": "60cc7c3a-f0ee-4c6b-b92b-db1ff87a33de",
   "metadata": {},
   "outputs": [
    {
     "name": "stdout",
     "output_type": "stream",
     "text": [
      "01-Basic Params  : \n",
      "{'num_sesiones': 1, 'min_totales': 19, 'ntesting': 21, 'nsuccess': 9}\n",
      "==========================\n",
      "03b-Receptor Digital  : \n",
      "{'num_sesiones': 2, 'min_totales': 25, 'ntesting': 13, 'nsuccess': 11}\n",
      "==========================\n",
      "transmisor_digital  : \n",
      "{'num_sesiones': 3, 'min_totales': 69, 'ntesting': 47, 'nsuccess': 27}\n",
      "==========================\n",
      "03-Promedios Deslizantes  : \n",
      "{'num_sesiones': 2, 'min_totales': 41, 'ntesting': 11, 'nsuccess': 10}\n",
      "==========================\n",
      "02-Analisis Bloques  : \n",
      "{'num_sesiones': 3, 'min_totales': 40, 'ntesting': 50, 'nsuccess': 0}\n",
      "==========================\n",
      "1-4b-autonomo_receptor  : \n",
      "{'num_sesiones': 1, 'min_totales': 34, 'ntesting': 11, 'nsuccess': 9}\n",
      "==========================\n",
      "04-Promedios Ponderados  : \n",
      "{'num_sesiones': 2, 'min_totales': 96, 'ntesting': 64, 'nsuccess': 38}\n",
      "==========================\n",
      "1-4b-Sincronizacion  : \n",
      "{'num_sesiones': 3, 'min_totales': 105, 'ntesting': 24, 'nsuccess': 11}\n",
      "==========================\n"
     ]
    }
   ],
   "source": [
    "for k,v in res.items():\n",
    "    print(k, ' : ')\n",
    "    print(v)\n",
    "    print(\"==========================\")\n",
    "    "
   ]
  },
  {
   "cell_type": "code",
   "execution_count": null,
   "id": "4dc4f30a-2495-46d4-92b7-b5d94d104960",
   "metadata": {},
   "outputs": [],
   "source": []
  }
 ],
 "metadata": {
  "kernelspec": {
   "display_name": "Python 3 (ipykernel)",
   "language": "python",
   "name": "python3"
  },
  "language_info": {
   "codemirror_mode": {
    "name": "ipython",
    "version": 3
   },
   "file_extension": ".py",
   "mimetype": "text/x-python",
   "name": "python",
   "nbconvert_exporter": "python",
   "pygments_lexer": "ipython3",
   "version": "3.12.3"
  }
 },
 "nbformat": 4,
 "nbformat_minor": 5
}
