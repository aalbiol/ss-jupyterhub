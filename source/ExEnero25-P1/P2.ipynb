{
 "cells": [
  {
   "cell_type": "code",
   "execution_count": 1,
   "id": "c5253413-93ab-41cc-88cf-59d649d4b7cd",
   "metadata": {
    "nbgrader": {
     "grade": false,
     "grade_id": "cell-fdf3f28396d185e1",
     "locked": true,
     "schema_version": 3,
     "solution": false,
     "task": false
    }
   },
   "outputs": [
    {
     "name": "stdout",
     "output_type": "stream",
     "text": [
      "Estudiante:  profesor\n"
     ]
    }
   ],
   "source": [
    "#Importaremos los módulos necesarios\n",
    "%matplotlib inline\n",
    "import numpy as np\n",
    "import matplotlib\n",
    "import matplotlib.pyplot as plt\n",
    "import math\n",
    "from os import getenv\n",
    "\n",
    "matplotlib.rcParams['figure.figsize'] = (15.0, 7.5)\n",
    "from IPython.display import Audio\n",
    "np.set_printoptions(precision=3)\n",
    "\n",
    "import UPVlog\n",
    "student_id=getenv(\"USER\")\n",
    "notebook_filename=\"ExamenEnero2025-P1\" + student_id\n",
    "mylogger=UPVlog.UPVlog(notebook_filename)\n",
    "\n",
    "\n",
    "print(\"Estudiante: \", student_id)"
   ]
  },
  {
   "cell_type": "markdown",
   "id": "543dece7-6c3b-4cec-8335-3304004f51b5",
   "metadata": {
    "nbgrader": {
     "grade": false,
     "grade_id": "cell-491f05c49dd5dabe",
     "locked": true,
     "schema_version": 3,
     "solution": false,
     "task": false
    }
   },
   "source": [
    "# Objetivo\n",
    "\n",
    "El objetivo de este cuaderno es analizar varios sistemas sencillos vistos en clase mediante el desarrollo de funciones que implementen cada una de las partes.\n",
    "\n",
    "* Retardo\n",
    "* Propagación simple\n",
    "* Sistema Eco\n",
    "\n",
    "## Retardo \n",
    "\n",
    "Implementaremos una función que recibirá como argumentos:\n",
    "* x: Muestras de una señal de audio (mono o stereo)\n",
    "* D: Cantidad de muestras a retardar la señal\n",
    "\n",
    "El resultado será **una señal de la misma duración** que la señal de entrada pero retardada.\n",
    "\n",
    "Si por ejemplo, ====>    $x=[1,3,4,3,2,1,5,6,7]$\n",
    "\n",
    "la salida deberá ser si el retardo es D=2: ===>   $y=[0,0,1,3,4,3,2,1,5]$\n",
    "\n",
    "Observe que si $D==0$ la salida debe ser idéntica a la entrada"
   ]
  },
  {
   "cell_type": "code",
   "execution_count": 2,
   "id": "177097c6-3561-44d7-9dbe-f9c35ad7aaed",
   "metadata": {
    "nbgrader": {
     "grade": false,
     "grade_id": "cell-3636a09833a9a479",
     "locked": false,
     "schema_version": 3,
     "solution": true,
     "task": false
    }
   },
   "outputs": [],
   "source": [
    "def retardo(x,D):\n",
    "    '''\n",
    "    x: array de numpy con muestras de entrada. Señal mono o stereo\n",
    "    D: tamaño del promediador deslizante Debe ser entero\n",
    "    Si \n",
    "       x=[1,3,4,3,2,1,5,6,7]\n",
    "    para D=2\n",
    "       y=[0,0,1,3,4,3,2,1,5]\n",
    "\n",
    "    '''\n",
    "    y=None\n",
    "\n",
    "    assert isinstance(D,int)\n",
    "\n",
    "    ### BEGIN SOLUTION\n",
    "    if D==0:\n",
    "        return x\n",
    "    if x.ndim ==1:\n",
    "        cabecera=np.zeros(D)\n",
    "        resto=x[:-D]\n",
    "    else:\n",
    "        cabecera=np.zeros((D,x.shape[1]))\n",
    "        resto=x[:-D,:]\n",
    "    y=np.concatenate((cabecera,resto),axis=0)\n",
    "    \n",
    "    ### END SOLUTION\n",
    "    return y\n"
   ]
  },
  {
   "cell_type": "code",
   "execution_count": 3,
   "id": "bc9ab0ad-84c4-4db7-852c-e9432be4b321",
   "metadata": {
    "nbgrader": {
     "grade": true,
     "grade_id": "cell-de6ce0f3eebf5839",
     "locked": true,
     "points": 1,
     "schema_version": 3,
     "solution": false,
     "task": false
    }
   },
   "outputs": [
    {
     "name": "stdout",
     "output_type": "stream",
     "text": [
      "x= [ 0.903  1.228  1.793 -1.26  -0.05  -1.4    0.923  0.282]\n",
      "y= [ 0.     0.     0.     0.903  1.228  1.793 -1.26  -0.05 ]\n"
     ]
    }
   ],
   "source": [
    "# Comprobacion por el estudiante: caso mono  Hay tests ocultos\n",
    "x=np.random.randn(8)\n",
    "### BEGIN TESTS\n",
    "mylogger.log(\"Testing retardo\")\n",
    "y=retardo(x,3)\n",
    "assert y is not None, \"Función no implementada\"\n",
    "assert len(x)==len(y), \"Tamaño de la salida incorrecto\"\n",
    "assert x[3]==y[6], \"Retardo incorrecto\"\n",
    "\n",
    "# Comprobacion si D==0\n",
    "z= retardo(x,0)\n",
    "assert np.max(np.abs(z-x))<1e-5, \"Si el retardo vale 0 no funciona bien\"\n",
    "### END TESTS\n",
    "\n",
    "print(\"x=\",x)\n",
    "print(\"y=\",y)\n",
    "\n",
    "### BEGIN HIDDEN TESTS\n",
    "def m_retardo(x,D):\n",
    "    '''\n",
    "    x: array de numpy con muestras de entrada. Señal mono o stereo\n",
    "    D: tamaño del promediador deslizante\n",
    "    Si \n",
    "       x=[1,3,4,3,2,1,5,6,7]\n",
    "    para D=2\n",
    "       y=[0,0,1,3,4,3,2,1,5]\n",
    "    '''\n",
    "    y=None\n",
    "    if D==0:\n",
    "        return y\n",
    "    if x.ndim ==1:\n",
    "        cabecera=np.zeros(D)\n",
    "        resto=x[:-D]\n",
    "    else:\n",
    "        cabecera=np.zeros((D,x.shape[1]))\n",
    "        resto=x[:-D,:]\n",
    "    y=np.concatenate((cabecera,resto),axis=0)\n",
    "    return y\n",
    "\n",
    "xx=np.random.randn(200)\n",
    "yy=retardo(xx,22)\n",
    "zz=m_retardo(xx,22)\n",
    "assert yy.shape == zz.shape\n",
    "assert np.max(np.abs(yy-zz))< 1e-5\n",
    "### END HIDDEN TESTS\n",
    "\n",
    "mylogger.log(\"Success: Testing retardo\")"
   ]
  },
  {
   "cell_type": "code",
   "execution_count": 4,
   "id": "5cb35429-35e1-4604-af07-102e03808de9",
   "metadata": {
    "nbgrader": {
     "grade": true,
     "grade_id": "cell-377b174dd86aa791",
     "locked": true,
     "points": 1,
     "schema_version": 3,
     "solution": false,
     "task": false
    }
   },
   "outputs": [
    {
     "name": "stdout",
     "output_type": "stream",
     "text": [
      "xstereo= [[ 0.263 -0.607]\n",
      " [ 0.097  0.311]\n",
      " [ 1.273  0.968]\n",
      " [-1.509 -0.366]\n",
      " [-0.757 -0.688]\n",
      " [-0.131 -2.256]]\n",
      "ystereo= [[ 0.     0.   ]\n",
      " [ 0.     0.   ]\n",
      " [ 0.263 -0.607]\n",
      " [ 0.097  0.311]\n",
      " [ 1.273  0.968]\n",
      " [-1.509 -0.366]]\n"
     ]
    }
   ],
   "source": [
    "# Comprobacion por el estudiante: caso stereo Hay tests ocultos\n",
    "xstereo=np.random.randn(6,2)\n",
    "ystereo=retardo(xstereo,2)\n",
    "mylogger.log(\"Testing retardo stereo\")\n",
    "### BEGIN TESTS\n",
    "assert ystereo is not None, \"Función no implementada\"\n",
    "assert xstereo.shape==ystereo.shape, \"Tamaño de la salida incorrecto\"\n",
    "assert np.max(np.abs(xstereo[1,:]-ystereo[3,:]))< 1e-5, \"Retardo incorrecto\"\n",
    "### END TESTS\n",
    "\n",
    "print(\"xstereo=\",xstereo)\n",
    "print(\"ystereo=\",ystereo)\n",
    "\n",
    "### BEGIN HIDDEN TESTS\n",
    "\n",
    "xx=np.random.randn(300,2)\n",
    "yy=retardo(xx,19)\n",
    "zz=m_retardo(xx,19)\n",
    "assert yy.shape == zz.shape\n",
    "assert np.max(np.abs(yy-zz))< 1e-5\n",
    "### END HIDDEN TESTS\n",
    "\n",
    "mylogger.log(\"Sucess: Testing retardo stereo\")"
   ]
  },
  {
   "cell_type": "markdown",
   "id": "d1ba8995-6148-42d3-9567-65cbedcea9c8",
   "metadata": {
    "nbgrader": {
     "grade": false,
     "grade_id": "cell-72ad52a15c6c2e4f",
     "locked": true,
     "schema_version": 3,
     "solution": false,
     "task": false
    }
   },
   "source": [
    "_____________________________________________-\n",
    "\n",
    "## Propagación simple\n",
    "\n",
    "El sistema que denominamos *propagación simple* no es más que la conexión en cascada de :\n",
    "\n",
    "* Un retardo\n",
    "\n",
    "* Un atenuador\n",
    "\n",
    "Implementaremos:\n",
    "* Una función \"atenuador\" que recibirá como parámetros la señal a atenuar (stereo o mono) y una atenuación **en dB** . La función internamente realizará una conversión de atenuación en dB a ganancia en amplitud\n",
    "* Una función llamada \"propagación simple\""
   ]
  },
  {
   "cell_type": "code",
   "execution_count": 5,
   "id": "85bd260e-fd3e-49db-83a9-701508b2c9ff",
   "metadata": {
    "nbgrader": {
     "grade": false,
     "grade_id": "cell-4eecd3087eebf7b7",
     "locked": false,
     "schema_version": 3,
     "solution": true,
     "task": false
    }
   },
   "outputs": [],
   "source": [
    "def atenuador(x,atenuacion_dB):\n",
    "    '''\n",
    "    x: array de numpy con muestras de la señal a atenuar (mono o stereo)\n",
    "    atenuacion_dB\n",
    "    '''\n",
    "\n",
    "    y=None\n",
    "    ### BEGIN SOLUTION\n",
    "    G= 10 ** (-atenuacion_dB/20)\n",
    "    y= G * x\n",
    "    ### END SOLUTION\n",
    "\n",
    "    return y"
   ]
  },
  {
   "cell_type": "code",
   "execution_count": 6,
   "id": "7bd91f85-8807-42a1-8487-f58458e7836d",
   "metadata": {
    "nbgrader": {
     "grade": true,
     "grade_id": "cell-311226d6868df7b1",
     "locked": true,
     "points": 0.5,
     "schema_version": 3,
     "solution": false,
     "task": false
    }
   },
   "outputs": [],
   "source": [
    "# Comprobacion atenuador \n",
    "mylogger.log(\"Testing atenuador\")\n",
    "x=np.random.randn(100,2)\n",
    "y=atenuador(x,40)\n",
    "### BEGIN TESTS\n",
    "assert y is not None, \"funcion no implementada\"\n",
    "assert x.shape == y.shape, \"Deben tener el mismo tamaño\"\n",
    "\n",
    "assert (np.mean(x**2)/np.mean(y**2) -10000) < 1e-3, \"No ha calculado bien la ganancia\"\n",
    "### END TESTS\n",
    "\n",
    "### BEGIN HIDDEN TESTS\n",
    "x=np.random.randn(1000,2)\n",
    "at=33\n",
    "y=atenuador(x,at)\n",
    "assert y is not None, \"funcion no implementada\"\n",
    "assert x.shape == y.shape, \"Deben tener el mismo tamaño\"\n",
    "\n",
    "assert np.max(np.abs(y-x/10**(at/20))) < 1e-3, \"No ha calculado bien la ganancia\"\n",
    "def m_atenuador(x,atenuacion_dB):\n",
    "    '''\n",
    "    x: array de numpy con muestras de la señal a atenuar (mono o stereo)\n",
    "    atenuacion_dB\n",
    "    '''\n",
    "\n",
    "    y=None\n",
    "\n",
    "    G= 10 ** (-atenuacion_dB/20)\n",
    "    y= G * x\n",
    "\n",
    "\n",
    "    return y\n",
    "### END HIDDEN TESTS\n",
    "\n",
    "mylogger.log(\"Sucess: Testing atenuador\")\n"
   ]
  },
  {
   "cell_type": "code",
   "execution_count": 7,
   "id": "7663e136-7e3c-480d-8ccb-c9a964cfb8e7",
   "metadata": {
    "nbgrader": {
     "grade": false,
     "grade_id": "cell-4a8fe9dd347fa5a3",
     "locked": false,
     "schema_version": 3,
     "solution": true,
     "task": false
    }
   },
   "outputs": [],
   "source": [
    "def propagacion_simple(x,D,atenuacion_dB):\n",
    "    '''\n",
    "    x: array de numpy con muestras de la señal a atenuar (mono o stereo)\n",
    "    D: retardo de propagacion en muestras. Debe ser un entero\n",
    "    atenuacion_dB\n",
    "    '''\n",
    "\n",
    "    assert isinstance(D,int), \"D debe ser entero\"\n",
    "    y= None\n",
    "\n",
    "    ## Se recomienda usar las funciones anteriores \n",
    "    \n",
    "    ### BEGIN SOLUTION\n",
    "    z=retardo(x,D)\n",
    "    y=atenuador(z,atenuacion_dB)\n",
    "    ### END SOLUTION\n",
    "\n",
    "    return y"
   ]
  },
  {
   "cell_type": "code",
   "execution_count": 8,
   "id": "fde9d0a8-8cc6-4e1d-9186-1a498c19b491",
   "metadata": {
    "nbgrader": {
     "grade": true,
     "grade_id": "cell-38d42d79ad5e130e",
     "locked": true,
     "points": 1,
     "schema_version": 3,
     "solution": false,
     "task": false
    }
   },
   "outputs": [
    {
     "name": "stdout",
     "output_type": "stream",
     "text": [
      " >>> Revise los valores que se imprimen para comprobar que hacen lo que se espera de un sistema que retarda dos muestras y atenua 20 dB\n",
      "x= [-0.294  0.226  1.049 -1.333  0.646  0.773 -0.906 -1.43 ]\n",
      "y= [ 0.     0.    -0.029  0.023  0.105 -0.133  0.065  0.077]\n",
      ">>>>>>>>>>>>>>>>>>>>>>>>\n"
     ]
    }
   ],
   "source": [
    "# Comprobacion propagacion simple . \n",
    "# \n",
    "mylogger.log(\"Testing propagacion simple\")\n",
    "x=np.random.randn(8)\n",
    "y=propagacion_simple(x,2,20)\n",
    "print(\" >>> Revise los valores que se imprimen para comprobar que hacen lo que se espera de un sistema que retarda dos muestras y atenua 20 dB\")\n",
    "print('x=',x)\n",
    "print('y=',y)\n",
    "print(\">>>>>>>>>>>>>>>>>>>>>>>>\" )    \n",
    "### BEGIN TESTS\n",
    "assert y is not None, \"funcion no implementada\"\n",
    "assert x.shape == y.shape, \"Deben tener el mismo tamaño\"\n",
    "\n",
    "### END TESTS\n",
    "\n",
    "### BEGIN HIDDEN TESTS\n",
    "x=np.random.randn(800,2)\n",
    "ret=21\n",
    "y=propagacion_simple(x,ret,19)\n",
    "\n",
    "assert y is not None, \"funcion no implementada\"\n",
    "assert x.shape == y.shape, \"Deben tener el mismo tamaño\"\n",
    "\n",
    "assert np.max(np.abs( x[:-ret,:]/10**(19/20) - y[ret:,:])) < 1e-5\n",
    "def m_propagacion_simple(x,D,atenuacion_dB):\n",
    "    '''\n",
    "    x: array de numpy con muestras de la señal a atenuar (mono o stereo)\n",
    "    D: retardo de propagacion en muestras. Debe ser un entero\n",
    "    atenuacion_dB\n",
    "    '''\n",
    "\n",
    "    assert isinstance(D,int), \"D debe ser entero\"\n",
    "    y= None\n",
    "\n",
    "    z=m_retardo(x,D)\n",
    "    y=m_atenuador(z,atenuacion_dB)\n",
    "\n",
    "    return y\n",
    "### END HIDDEN TESTS\n",
    "mylogger.log(\"Sucess: Testing propagacion simple\")\n"
   ]
  },
  {
   "cell_type": "markdown",
   "id": "03dcc21a-ccea-4660-99e0-769df98adcc0",
   "metadata": {
    "nbgrader": {
     "grade": false,
     "grade_id": "cell-f719bff18a0d127b",
     "locked": true,
     "schema_version": 3,
     "solution": false,
     "task": false
    }
   },
   "source": [
    "__________________________\n",
    "\n",
    "## Sistema Eco\n",
    "\n",
    "Para finalizar el ejercicio, implementará, básandose en las funciones anteriores una función que implemente un sistema ECO, cuya salida es la suma:\n",
    "* De la señal de entrada\n",
    "* El resultado de una propagación simple"
   ]
  },
  {
   "cell_type": "code",
   "execution_count": 9,
   "id": "f4139f20-82b7-4904-b05e-dcfd26edabf3",
   "metadata": {
    "nbgrader": {
     "grade": false,
     "grade_id": "cell-aeccca4c9fb04220",
     "locked": false,
     "schema_version": 3,
     "solution": true,
     "task": false
    }
   },
   "outputs": [],
   "source": [
    "def simula_eco(x,D,atenuacion_dB):\n",
    "    '''\n",
    "    Dada una señal x devuelve a la salida el resultado de atravesar un sistema eco con los parámetros dados\n",
    "    D: retardo debe ser entero positivo\n",
    "    x: array de numpy stereo o mono\n",
    "    '''\n",
    "\n",
    "    assert isinstance(D,int), \"El retardo debe ser entero\"\n",
    "    assert D >0, \"El retardo debe ser positivo\"\n",
    "\n",
    "    y = None\n",
    "\n",
    "    # Se sugiere usar las funciones anteriores\n",
    "    ### BEGIN SOLUTION\n",
    "    return x + propagacion_simple(x,D,atenuacion_dB)\n",
    "    ### END SOLUTION\n",
    "    return y"
   ]
  },
  {
   "cell_type": "code",
   "execution_count": 10,
   "id": "95ca55d2-915f-4ac4-ad89-821b629d182f",
   "metadata": {
    "nbgrader": {
     "grade": true,
     "grade_id": "cell-b5356b217a185c61",
     "locked": true,
     "points": 0.5,
     "schema_version": 3,
     "solution": false,
     "task": false
    }
   },
   "outputs": [
    {
     "name": "stdout",
     "output_type": "stream",
     "text": [
      " >>> Revise los valores que se imprimen para comprobar que hacen lo que se espera de un sistema que retarda dos muestras y atenua 20 dB\n",
      "x= [1. 0. 0. 0. 0. 0. 0. 0. 0. 0.]\n",
      "y= [1.    0.    0.    0.    0.501 0.    0.    0.    0.    0.   ]\n",
      "x2= [[1. 0.]\n",
      " [0. 1.]\n",
      " [0. 0.]\n",
      " [0. 0.]\n",
      " [0. 0.]\n",
      " [0. 0.]\n",
      " [0. 0.]\n",
      " [0. 0.]\n",
      " [0. 0.]\n",
      " [0. 0.]]\n",
      "y2= [[1.    0.   ]\n",
      " [0.    1.   ]\n",
      " [0.    0.   ]\n",
      " [0.501 0.   ]\n",
      " [0.    0.501]\n",
      " [0.    0.   ]\n",
      " [0.    0.   ]\n",
      " [0.    0.   ]\n",
      " [0.    0.   ]\n",
      " [0.    0.   ]]\n",
      ">>>>>>>>>>>>>>>>>>>>>>>>\n"
     ]
    }
   ],
   "source": [
    "x=np.zeros(10)\n",
    "x2=np.zeros((10,2))\n",
    "x[0]=1\n",
    "x2[0,0]=1\n",
    "x2[1,1]=1\n",
    "y=simula_eco(x,4,6)\n",
    "y2=simula_eco(x2,3,6)\n",
    "print(\" >>> Revise los valores que se imprimen para comprobar que hacen lo que se espera de un sistema que retarda dos muestras y atenua 20 dB\")\n",
    "print('x=',x)\n",
    "print('y=',y)\n",
    "print('x2=',x2)\n",
    "print('y2=',y2)\n",
    "print(\">>>>>>>>>>>>>>>>>>>>>>>>\" )    \n",
    "mylogger.log(\"Testing Eco\")\n",
    "### BEGIN TESTS\n",
    "assert y is not None\n",
    "assert x.shape == y.shape\n",
    "assert y2 is not None\n",
    "assert x2.shape is not None\n",
    "### END TESTS\n",
    "\n",
    "### BEGIN HIDDEN TESTS\n",
    "def m_simula_eco(x,D,atenuacion_dB):\n",
    "    '''\n",
    "    Dada una señal x devuelve a la salida el resultado de atravesar un sistema eco con los parámetros dados\n",
    "    retardo debe ser entero positivo\n",
    "    x: array de numpy stereo o mono\n",
    "    '''\n",
    "\n",
    "    assert isinstance(D,int), \"El retardo debe ser entero\"\n",
    "    assert D >0, \"El retardo debe ser positivo\"\n",
    "\n",
    "    y = None\n",
    "\n",
    "    # Se sugiere usar las funciones anteriores\n",
    "\n",
    "    return x + m_propagacion_simple(x,D,atenuacion_dB)\n",
    "\n",
    "    return y\n",
    "\n",
    "\n",
    "x3=np.random.randn(1000,2)\n",
    "D=int(102)\n",
    "y3=simula_eco(x3,D,13)\n",
    "z3=m_simula_eco(x3,D,13)\n",
    "assert y3 is not None\n",
    "assert y3.shape == x3.shape\n",
    "assert y3.shape == z3.shape\n",
    "assert np.max(np.abs(y3-z3))< 1e-6\n",
    "### END HIDDEN TESTS\n",
    "mylogger.log(\"Sucess: Testing Eco\")"
   ]
  },
  {
   "cell_type": "markdown",
   "id": "3fd6d3f4-5848-4164-b828-a776d18de2b1",
   "metadata": {
    "nbgrader": {
     "grade": false,
     "grade_id": "cell-e5a4a60a38008913",
     "locked": true,
     "schema_version": 3,
     "solution": false,
     "task": false
    }
   },
   "source": [
    "\n",
    "_______________________________________________\n",
    "\n",
    "La celda anterior debe devolver lo siguiente:\n",
    "\n",
    "![eco](images/eco.png) \n",
    "\n",
    "______________________________________________"
   ]
  },
  {
   "cell_type": "code",
   "execution_count": null,
   "id": "75c4bfcf-75ff-4f59-a249-0d2d32fcca5c",
   "metadata": {},
   "outputs": [],
   "source": []
  },
  {
   "cell_type": "code",
   "execution_count": null,
   "id": "1009546c-fa9b-4e75-8bff-a73951420aeb",
   "metadata": {},
   "outputs": [],
   "source": []
  }
 ],
 "metadata": {
  "kernelspec": {
   "display_name": "Python 3 (ipykernel)",
   "language": "python",
   "name": "python3"
  },
  "language_info": {
   "codemirror_mode": {
    "name": "ipython",
    "version": 3
   },
   "file_extension": ".py",
   "mimetype": "text/x-python",
   "name": "python",
   "nbconvert_exporter": "python",
   "pygments_lexer": "ipython3",
   "version": "3.12.8"
  }
 },
 "nbformat": 4,
 "nbformat_minor": 5
}
