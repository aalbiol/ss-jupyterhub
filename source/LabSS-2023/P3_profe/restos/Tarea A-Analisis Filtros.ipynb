{
 "cells": [
  {
   "cell_type": "markdown",
   "id": "usual-monitor",
   "metadata": {},
   "source": [
    "# Análisis de filtros\n",
    "\n",
    "En este cuaderno veremos cómo :\n",
    "\n",
    "* Dados los coeficientes de un filtro\n",
    "\n",
    "  * Determinar el tipo de filtro que es: paso-bajo, paso-banda, ...\n",
    "  \n",
    "  * Determinar el límite de la banda de paso, es decir el margen de frecuencias donde la atenuación es inferior a una tolerancia en dB.\n",
    "  \n",
    "  * Determinar el límite de la banda atenuada, es decir el margen de frecuencias donde la atenuación es mayor que un cierto valor mínimo.\n",
    "\n",
    "\n"
   ]
  },
  {
   "cell_type": "code",
   "execution_count": 2,
   "id": "breathing-tonight",
   "metadata": {},
   "outputs": [],
   "source": [
    "%matplotlib inline\n",
    "import numpy as np\n",
    "\n",
    "import matplotlib\n",
    "import matplotlib.pyplot as plt\n",
    "from scipy import signal\n",
    "\n",
    "#Hacer que las figuras por defecto salgan más grandes\n",
    "matplotlib.rcParams['figure.figsize'] = (10.0, 5.0)\n",
    "\n",
    "\n",
    "import math\n",
    "import cmath\n",
    "\n",
    "import warnings\n",
    "warnings.filterwarnings('ignore')\n",
    "\n"
   ]
  },
  {
   "cell_type": "markdown",
   "id": "8ddf4692",
   "metadata": {},
   "source": [
    "## Carga de los coeficientes del filtro a analizar"
   ]
  },
  {
   "cell_type": "code",
   "execution_count": 23,
   "id": "1707d568",
   "metadata": {},
   "outputs": [],
   "source": [
    "coeficientes=np.load('TareaAnalisis.npz')\n",
    "A=coeficientes['A']\n",
    "B=coeficientes['B']\n"
   ]
  },
  {
   "cell_type": "markdown",
   "id": "606bac51",
   "metadata": {},
   "source": [
    "## Dibujo de la respuesta en frecuencia\n",
    "Dibujar el módulo de la respuesta en frecuencia en escala lineal y **Determinar el tipo de filtro** (paso-bajo, baso-banda,....)"
   ]
  },
  {
   "cell_type": "code",
   "execution_count": null,
   "id": "announced-cancellation",
   "metadata": {},
   "outputs": [],
   "source": []
  },
  {
   "cell_type": "code",
   "execution_count": null,
   "id": "aec086d3",
   "metadata": {},
   "outputs": [],
   "source": []
  },
  {
   "cell_type": "code",
   "execution_count": null,
   "id": "09b4d136",
   "metadata": {},
   "outputs": [],
   "source": []
  },
  {
   "cell_type": "markdown",
   "id": "354a9349",
   "metadata": {},
   "source": [
    "## Determinar límite de la banda de paso\n",
    "Determinar el intervalo de frecuencias donde la atenuación es menor a 3 dB."
   ]
  },
  {
   "cell_type": "code",
   "execution_count": null,
   "id": "1755d6d2",
   "metadata": {},
   "outputs": [],
   "source": []
  },
  {
   "cell_type": "code",
   "execution_count": null,
   "id": "8fa0e638",
   "metadata": {},
   "outputs": [],
   "source": []
  },
  {
   "cell_type": "code",
   "execution_count": null,
   "id": "fa38e71e",
   "metadata": {},
   "outputs": [],
   "source": []
  },
  {
   "cell_type": "markdown",
   "id": "bb664665",
   "metadata": {},
   "source": [
    "## Determinar límites de la banda atenuada\n",
    "Determinar el intervalo de frecuencias donde la atenuación es mayor de 50 dB"
   ]
  },
  {
   "cell_type": "code",
   "execution_count": null,
   "id": "4eb36452",
   "metadata": {},
   "outputs": [],
   "source": []
  },
  {
   "cell_type": "code",
   "execution_count": null,
   "id": "5e101220",
   "metadata": {},
   "outputs": [],
   "source": []
  },
  {
   "cell_type": "code",
   "execution_count": null,
   "id": "fa0c433f",
   "metadata": {},
   "outputs": [],
   "source": []
  },
  {
   "cell_type": "code",
   "execution_count": null,
   "id": "1d7ec6aa",
   "metadata": {},
   "outputs": [],
   "source": []
  },
  {
   "cell_type": "markdown",
   "id": "f72266b8",
   "metadata": {},
   "source": []
  }
 ],
 "metadata": {
  "kernelspec": {
   "display_name": "Python 3",
   "language": "python",
   "name": "python3"
  },
  "language_info": {
   "codemirror_mode": {
    "name": "ipython",
    "version": 3
   },
   "file_extension": ".py",
   "mimetype": "text/x-python",
   "name": "python",
   "nbconvert_exporter": "python",
   "pygments_lexer": "ipython3",
   "version": "3.8.8"
  },
  "toc": {
   "base_numbering": 1,
   "nav_menu": {},
   "number_sections": true,
   "sideBar": true,
   "skip_h1_title": false,
   "title_cell": "Table of Contents",
   "title_sidebar": "Contents",
   "toc_cell": false,
   "toc_position": {},
   "toc_section_display": true,
   "toc_window_display": false
  },
  "varInspector": {
   "cols": {
    "lenName": 16,
    "lenType": 16,
    "lenVar": 40
   },
   "kernels_config": {
    "python": {
     "delete_cmd_postfix": "",
     "delete_cmd_prefix": "del ",
     "library": "var_list.py",
     "varRefreshCmd": "print(var_dic_list())"
    },
    "r": {
     "delete_cmd_postfix": ") ",
     "delete_cmd_prefix": "rm(",
     "library": "var_list.r",
     "varRefreshCmd": "cat(var_dic_list()) "
    }
   },
   "types_to_exclude": [
    "module",
    "function",
    "builtin_function_or_method",
    "instance",
    "_Feature"
   ],
   "window_display": false
  }
 },
 "nbformat": 4,
 "nbformat_minor": 5
}
