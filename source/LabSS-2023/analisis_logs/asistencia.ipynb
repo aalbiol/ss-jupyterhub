{
 "cells": [
  {
   "cell_type": "code",
   "execution_count": 3,
   "id": "a604d010-968c-4572-8027-78ed700038f7",
   "metadata": {},
   "outputs": [
    {
     "name": "stdout",
     "output_type": "stream",
     "text": [
      "The autoreload extension is already loaded. To reload it, use:\n",
      "  %reload_ext autoreload\n"
     ]
    }
   ],
   "source": [
    "%load_ext autoreload\n",
    "%autoreload 2\n",
    "import pandas as pd\n",
    "import numpy as np\n",
    "import matplotlib.pyplot as plt\n",
    "from datetime import datetime\n",
    "import loganalisis"
   ]
  },
  {
   "cell_type": "code",
   "execution_count": 4,
   "id": "d25b72aa-a7c5-4bc3-b881-f2145047bf07",
   "metadata": {},
   "outputs": [],
   "source": [
    "fichero = \"/srv/log/users/profesor.log\""
   ]
  },
  {
   "cell_type": "code",
   "execution_count": 5,
   "id": "cdc3b565-58b7-44ef-8c18-99b3fd108aee",
   "metadata": {},
   "outputs": [],
   "source": [
    "dias=[datetime(2024,6,1),\n",
    "      datetime(2024,6,2),\n",
    "      datetime(2024,6,3),\n",
    "      datetime(2024,6,4),\n",
    "      datetime(2024,9,20),\n",
    "      datetime(2024,9,27),\n",
    "      datetime(2024,10,4),\n",
    "      datetime(2024,10,11),\n",
    "      datetime(2024,10,18),\n",
    "      datetime(2024,10,25),\n",
    "      datetime(2024,11,8),\n",
    "      datetime(2024,11,8),\n",
    "      datetime(2024,11,15),\n",
    "      datetime(2024,11,22),\n",
    "      datetime(2024,11,28)]\n",
    "horario=[8,15]"
   ]
  },
  {
   "cell_type": "code",
   "execution_count": 6,
   "id": "6530a940-0848-45bb-b337-d3e4ba5668b7",
   "metadata": {},
   "outputs": [
    {
     "data": {
      "text/plain": [
       "{datetime.date(2024, 6, 1): 0,\n",
       " datetime.date(2024, 6, 2): 0,\n",
       " datetime.date(2024, 6, 3): 184,\n",
       " datetime.date(2024, 6, 4): 168,\n",
       " datetime.date(2024, 9, 20): 0,\n",
       " datetime.date(2024, 9, 27): 0,\n",
       " datetime.date(2024, 10, 4): 0,\n",
       " datetime.date(2024, 10, 11): 0,\n",
       " datetime.date(2024, 10, 18): 0,\n",
       " datetime.date(2024, 10, 25): 0,\n",
       " datetime.date(2024, 11, 8): 0,\n",
       " datetime.date(2024, 11, 15): 0,\n",
       " datetime.date(2024, 11, 22): 0,\n",
       " datetime.date(2024, 11, 28): 0}"
      ]
     },
     "execution_count": 6,
     "metadata": {},
     "output_type": "execute_result"
    }
   ],
   "source": [
    "loganalisis.asistencia(fichero,dias,horario)"
   ]
  },
  {
   "cell_type": "code",
   "execution_count": null,
   "id": "46306b17-b84a-4620-8773-e209124c4c8d",
   "metadata": {},
   "outputs": [],
   "source": []
  }
 ],
 "metadata": {
  "kernelspec": {
   "display_name": "Python 3 (ipykernel)",
   "language": "python",
   "name": "python3"
  },
  "language_info": {
   "codemirror_mode": {
    "name": "ipython",
    "version": 3
   },
   "file_extension": ".py",
   "mimetype": "text/x-python",
   "name": "python",
   "nbconvert_exporter": "python",
   "pygments_lexer": "ipython3",
   "version": "3.12.4"
  }
 },
 "nbformat": 4,
 "nbformat_minor": 5
}
