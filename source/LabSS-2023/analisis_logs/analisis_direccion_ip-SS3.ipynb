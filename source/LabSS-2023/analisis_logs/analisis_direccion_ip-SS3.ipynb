{
 "cells": [
  {
   "cell_type": "code",
   "execution_count": 1,
   "id": "45a1c555-8f41-4114-8cde-13cd5f1740c8",
   "metadata": {},
   "outputs": [],
   "source": [
    "from logjupyteranalysis import detecta_usuarios_dobles"
   ]
  },
  {
   "cell_type": "code",
   "execution_count": 2,
   "id": "9a1d1eaa-ee85-4112-b721-b683232b536a",
   "metadata": {},
   "outputs": [
    {
     "name": "stderr",
     "output_type": "stream",
     "text": [
      "100%|██████████| 916217/916217 [00:00<00:00, 4634167.45it/s]\n"
     ]
    },
    {
     "data": {
      "text/plain": [
       "{('2024-10-01', '158.42.32.114'): {'avaiksn', 'klaskev'},\n",
       " ('2024-10-01', '158.42.244.131'): {'avaiksn', 'ytarrui'},\n",
       " ('2024-10-02', '10.236.14.27'): {'avaiksn', 'klaskev'},\n",
       " ('2024-10-03', '10.236.14.27'): {'avaiksn', 'klaskev'}}"
      ]
     },
     "execution_count": 2,
     "metadata": {},
     "output_type": "execute_result"
    }
   ],
   "source": [
    "detecta_usuarios_dobles('/srv/log/jupyterhub.log' )"
   ]
  },
  {
   "cell_type": "code",
   "execution_count": null,
   "id": "33f0f6a1-66a0-4e61-b705-3c8f97218726",
   "metadata": {},
   "outputs": [],
   "source": []
  }
 ],
 "metadata": {
  "kernelspec": {
   "display_name": "Python 3 (ipykernel)",
   "language": "python",
   "name": "python3"
  },
  "language_info": {
   "codemirror_mode": {
    "name": "ipython",
    "version": 3
   },
   "file_extension": ".py",
   "mimetype": "text/x-python",
   "name": "python",
   "nbconvert_exporter": "python",
   "pygments_lexer": "ipython3",
   "version": "3.12.4"
  }
 },
 "nbformat": 4,
 "nbformat_minor": 5
}
