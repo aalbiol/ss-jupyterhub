{
 "cells": [
  {
   "cell_type": "markdown",
   "id": "191f197e-9369-4fc7-b8cb-01772f5bafb3",
   "metadata": {},
   "source": [
    "# Comprobación de si una función tiene bucles\n",
    "\n",
    "En este cuaderno se exploran métodos para comprobar si una función contiene bucles o no\n",
    "\n",
    "\n",
    "## Uso de *ast*"
   ]
  },
  {
   "cell_type": "code",
   "execution_count": 1,
   "id": "677befb2-2920-4a98-b506-b9e62d210e9e",
   "metadata": {},
   "outputs": [],
   "source": [
    "import ast\n",
    "import inspect\n",
    "from typing import Callable\n",
    "\n",
    "\n",
    "# Funciones a las que pasa una una función como argumento y comprueban si contiene bucles\n",
    "\n",
    "def uses_while(fn: Callable) -> bool:\n",
    "    nodes = ast.walk(ast.parse(inspect.getsource(fn)))\n",
    "    return any(isinstance(node, ast.While) for node in nodes)\n",
    "\n",
    "def uses_for(fn: Callable) -> bool:\n",
    "    nodes = ast.walk(ast.parse(inspect.getsource(fn)))\n",
    "    return any(isinstance(node, ast.For) for node in nodes)\n",
    "\n"
   ]
  },
  {
   "cell_type": "code",
   "execution_count": 14,
   "id": "643bcf6d-2900-4736-a76d-6dbcd74befdc",
   "metadata": {},
   "outputs": [
    {
     "name": "stdout",
     "output_type": "stream",
     "text": [
      "Uses while: True\n",
      "Uses for: False\n"
     ]
    }
   ],
   "source": [
    "def my_func_while(a,b):\n",
    "    res = 0\n",
    "    while (a<b):\n",
    "        a +=1\n",
    "    res = a\n",
    "\n",
    "print(\"Uses while:\",uses_while(my_func_while))\n",
    "print(\"Uses for:\", uses_for(my_func_while))"
   ]
  },
  {
   "cell_type": "code",
   "execution_count": 15,
   "id": "b6328f46-d43d-419c-b6e3-9b582159a760",
   "metadata": {},
   "outputs": [
    {
     "name": "stdout",
     "output_type": "stream",
     "text": [
      "Uses while: False\n",
      "Uses for: True\n"
     ]
    }
   ],
   "source": [
    "def my_func_for(N):\n",
    "    res = list()\n",
    "    for k in range(N):\n",
    "        res.append(k)\n",
    "    return res\n",
    "    \n",
    "print(\"Uses while:\",uses_while(my_func_for))\n",
    "print(\"Uses for:\", uses_for(my_func_for))"
   ]
  },
  {
   "cell_type": "markdown",
   "id": "c7a2aa3c-39db-4756-96cd-9bf175bcc177",
   "metadata": {},
   "source": [
    "## Comprehension lists\n",
    "Se mira a ver si esto se comporta como un *for*"
   ]
  },
  {
   "cell_type": "code",
   "execution_count": 10,
   "id": "9e7f581b-0304-42c7-a2f4-aa855537e1a9",
   "metadata": {},
   "outputs": [
    {
     "data": {
      "text/plain": [
       "False"
      ]
     },
     "execution_count": 10,
     "metadata": {},
     "output_type": "execute_result"
    }
   ],
   "source": [
    "def my_func_for2(N):\n",
    "    res = [k**2 for k in range(N)]\n",
    "    return res\n",
    "    \n",
    "uses_for(my_func_for2)"
   ]
  },
  {
   "cell_type": "markdown",
   "id": "caf51650-7d26-4d33-8973-5fc29ce3780f",
   "metadata": {},
   "source": [
    "## Sin AST\n",
    "\n",
    "Veremos otra forma de detectar *for* que **SI** permita detectar bucles en comprehension lists:"
   ]
  },
  {
   "cell_type": "code",
   "execution_count": 9,
   "id": "d554cc83-c6e6-47a0-995b-ea0ea5f48eeb",
   "metadata": {},
   "outputs": [
    {
     "name": "stdout",
     "output_type": "stream",
     "text": [
      "True\n"
     ]
    }
   ],
   "source": [
    "def uses_for_loop(func):\n",
    "    source_lines = inspect.getsourcelines(func)[0]\n",
    "    for line in source_lines:\n",
    "        if 'for ' in line:\n",
    "            return True\n",
    "    return False\n",
    "\n",
    "# Example function\n",
    "def my_function():\n",
    "    for i in range(10):\n",
    "        print(i)\n",
    "\n",
    "# Check if the function uses a for loop\n",
    "print(uses_for_loop(my_func_for2))  # Output: True\n"
   ]
  },
  {
   "cell_type": "code",
   "execution_count": null,
   "id": "f76f658d-b4ea-418d-9799-cd557910acbb",
   "metadata": {},
   "outputs": [],
   "source": []
  }
 ],
 "metadata": {
  "kernelspec": {
   "display_name": "Python 3 (ipykernel)",
   "language": "python",
   "name": "python3"
  },
  "language_info": {
   "codemirror_mode": {
    "name": "ipython",
    "version": 3
   },
   "file_extension": ".py",
   "mimetype": "text/x-python",
   "name": "python",
   "nbconvert_exporter": "python",
   "pygments_lexer": "ipython3",
   "version": "3.12.2"
  }
 },
 "nbformat": 4,
 "nbformat_minor": 5
}
