{
 "cells": [
  {
   "cell_type": "markdown",
   "id": "130eee24-d01f-4acb-8b9d-d6d1c552562f",
   "metadata": {},
   "source": [
    "# Respuesta en frecuencia\n",
    "\n",
    "## Introducción\n",
    "Implementar un filtro digital consiste en:\n",
    "* Realizar los cálculos necesarios para calcular una muestra de la salida cada vez que llega una nueva muestra de entrada.\n",
    "\n",
    "La manera normal de hacerlo es mediante una ecuación en diferencias\n",
    "\n",
    "$y[n] = b_0 x[n] + b_1 x[n-1] + \\cdots + b_M x[n-M]+ a_1 y[n-1]+ \\cdots +a_N y [n-N]$ \n",
    "\n",
    "Dando valores adecuados a $b_i$ y $a_i$ es posible lograr efectos tan diferentes como:\n",
    "\n",
    "* Aumentar o disminuir los agudos/graves\n",
    "* Realizar promediados con ponderaciones muy flexibles\n",
    "* Atenuar mucho ciertas frecuencias\n",
    "* ...\n",
    "\n",
    "De teoría sabemos que cualquier filtro (sistema LTI) queda totalmente caracterizado por:\n",
    "* Respuesta impulsional\n",
    "* Respuesta en frecuencia\n",
    "\n",
    "\n",
    "Los coeficientes de la ecuación en diferencias se suelen manejar empleando **vectores** de coeficientes.\n",
    "\n",
    "El vector de coeficientes B (no-recursivos) es simplemente  B=[b0, b1, ..., bM]\n",
    "\n",
    "El vector de los coeficientes A (recursivos) se obtiene poniendo todos los términos con \"y\" a la izquierda del \"=\":\n",
    "\n",
    "$y[n] - a_1 y[n-1]- \\cdots - a_N y [n-N] = b_0 x[n] + b_1 x[n-1] + \\cdots + b_M x[n-M]$ \n",
    "\n",
    "y poniendo en un vector los coeficientes con el signo que han quedado:\n",
    "\n",
    "A=[1, -a1, ..., -aN]\n",
    "\n",
    "\n",
    "## Objetivo del cuaderno\n",
    "En esta práctica veremos como dados unos coeficientes B, A, es posible obtener la respuesta impulsional y en frecuencia.\n",
    "\n",
    "Ambas están relacionadas por la transformada de Fourier por lo que conocida una de las dos es posible conocer la otra.\n",
    "\n",
    "Emplearemos estas funciones\n",
    "\n",
    "[Respuesta impulsional : scipy.signal.lfilter](https://docs.scipy.org/doc/scipy/reference/generated/scipy.signal.lfilter.html)\n",
    "\n",
    "[Respuesta en frecuencia: scipy.signal.freqz](https://docs.scipy.org/doc/scipy/reference/generated/scipy.signal.freqz.html)\n",
    "\n",
    "\n",
    "También veremos cómo filtrar una señal de audio usando los coeficientes, y la frecuencia de corte *analógica* equivalente.\n"
   ]
  },
  {
   "cell_type": "code",
   "execution_count": 2,
   "id": "published-sending",
   "metadata": {},
   "outputs": [],
   "source": [
    "%matplotlib inline\n",
    "import numpy as np\n",
    "\n",
    "import matplotlib\n",
    "import matplotlib.pyplot as plt\n",
    "from scipy import signal\n",
    "\n",
    "#Hacer que las figuras por defecto salgan más grandes\n",
    "matplotlib.rcParams['figure.figsize'] = (10.0, 5.0)\n",
    "\n",
    "\n",
    "import math\n",
    "import cmath\n",
    "\n",
    "import warnings\n",
    "warnings.filterwarnings('ignore')\n",
    "\n",
    "import upv_audio"
   ]
  },
  {
   "cell_type": "markdown",
   "id": "3d214cab",
   "metadata": {},
   "source": [
    "--------------\n",
    "\n",
    "**INCISO**: Esto es la manera en que se han generado los coeficientes que se les dan a ellos\n"
   ]
  },
  {
   "cell_type": "code",
   "execution_count": 3,
   "id": "20d0b826-5b08-458b-806c-63a6d5ba701c",
   "metadata": {},
   "outputs": [],
   "source": [
    "#Esto NO se les cuenta \n",
    "B1,A1=signal.butter(6,0.5)"
   ]
  },
  {
   "cell_type": "code",
   "execution_count": 4,
   "id": "structured-canyon",
   "metadata": {},
   "outputs": [],
   "source": [
    "#Esto NO se les cuenta ahora\n",
    "B2=signal.firwin(37,0.5)\n",
    "A2=1"
   ]
  },
  {
   "cell_type": "code",
   "execution_count": 5,
   "id": "brown-emission",
   "metadata": {},
   "outputs": [],
   "source": [
    "#Esto NO se les cuenta ahora\n",
    "np.savez('coeficientes',A1=A1,B1=B1,A2=A2,B2=B2)"
   ]
  },
  {
   "cell_type": "markdown",
   "id": "87163b0a",
   "metadata": {},
   "source": [
    "**FIN de inciso**\n",
    "\n",
    "----------------"
   ]
  },
  {
   "cell_type": "code",
   "execution_count": 6,
   "id": "neural-friday",
   "metadata": {},
   "outputs": [],
   "source": [
    "#Esto es lo que empiezan haciendo en clase\n",
    "coeficientes = np.load('coeficientes.npz')"
   ]
  },
  {
   "cell_type": "code",
   "execution_count": 7,
   "id": "helpful-straight",
   "metadata": {},
   "outputs": [
    {
     "name": "stdout",
     "output_type": "stream",
     "text": [
      "A1\n",
      "B1\n",
      "A2\n",
      "B2\n"
     ]
    }
   ],
   "source": [
    "# Lo que se lee es un diccionario. Para saber los campos disponibles\n",
    "for v in coeficientes:\n",
    "    print (v)"
   ]
  },
  {
   "cell_type": "code",
   "execution_count": 8,
   "id": "alpine-wyoming",
   "metadata": {},
   "outputs": [],
   "source": [
    "# Generamos las variables de coeficientes\n",
    "A1=coeficientes['A1']\n",
    "B1=coeficientes['B1']\n",
    "A2=coeficientes['A2']\n",
    "B2=coeficientes['B2']"
   ]
  },
  {
   "cell_type": "code",
   "execution_count": 9,
   "id": "worse-values",
   "metadata": {},
   "outputs": [
    {
     "name": "stdout",
     "output_type": "stream",
     "text": [
      "A1= [ 1.0000e+00 -4.9960e-16  7.7770e-01 -2.2730e-16  1.1420e-01 -1.3575e-17\n",
      "  1.7509e-03]\n",
      "B1= [0.0296 0.1775 0.4438 0.5918 0.4438 0.1775 0.0296]\n",
      "A2= 1\n",
      "B2= [ 1.5573e-18  1.6267e-03 -2.0973e-18 -3.0016e-03  3.6522e-18  5.9745e-03\n",
      " -6.0344e-18 -1.1059e-02  8.9566e-18  1.9074e-02 -1.2066e-17 -3.1669e-02\n",
      "  1.4989e-17  5.3133e-02 -1.7371e-17 -9.9436e-02  1.8926e-17  3.1568e-01\n",
      "  4.9936e-01  3.1568e-01  1.8926e-17 -9.9436e-02 -1.7371e-17  5.3133e-02\n",
      "  1.4989e-17 -3.1669e-02 -1.2066e-17  1.9074e-02  8.9566e-18 -1.1059e-02\n",
      " -6.0344e-18  5.9745e-03  3.6522e-18 -3.0016e-03 -2.0973e-18  1.6267e-03\n",
      "  1.5573e-18]\n"
     ]
    }
   ],
   "source": [
    "np.set_printoptions(precision=4)\n",
    "print('A1=',A1)\n",
    "print('B1=',B1)\n",
    "print('A2=',A2)\n",
    "print('B2=',B2)"
   ]
  },
  {
   "cell_type": "markdown",
   "id": "placed-mustang",
   "metadata": {},
   "source": [
    "# Respuesta impulsiva\n",
    "Para determinarla simplemente se genera un vector de señal de entrada que sea todo cero excepto la primera muestra y se filtra.\n",
    "\n",
    "Es decir, se genera una delta y se filtra (definición de respuesta impulsiva)\n",
    "\n",
    "Se suelen **emplear minúsculas para las respuesta impulsivas**"
   ]
  },
  {
   "cell_type": "code",
   "execution_count": 10,
   "id": "blank-japanese",
   "metadata": {},
   "outputs": [
    {
     "data": {
      "image/png": "[encoded data removed]",
      "text/plain": [
       "<Figure size 1000x500 with 1 Axes>"
      ]
     },
     "metadata": {},
     "output_type": "display_data"
    }
   ],
   "source": [
    "delta=np.zeros(50)\n",
    "delta[0]=1\n",
    "h1=signal.lfilter(B1,A1,delta)\n",
    "_=plt.stem(h1)\n",
    "_=plt.title('Respuesta impulsional del primer filtro digital')\n",
    "_=plt.title('n')"
   ]
  },
  {
   "cell_type": "markdown",
   "id": "emerging-cattle",
   "metadata": {},
   "source": [
    "**Observaciones**\n",
    "\n",
    "Se ve que va decreciendo exponencialmente hacia cero. \n",
    "\n",
    "Mencionar que como es infinita se llama IIR\n"
   ]
  },
  {
   "cell_type": "code",
   "execution_count": 11,
   "id": "comfortable-parliament",
   "metadata": {},
   "outputs": [
    {
     "data": {
      "image/png": "[encoded data removed]",
      "text/plain": [
       "<Figure size 1000x500 with 1 Axes>"
      ]
     },
     "metadata": {},
     "output_type": "display_data"
    }
   ],
   "source": [
    "h2=signal.lfilter(B2,A2,delta)\n",
    "_=plt.stem(h2)\n",
    "_=plt.title('Respuesta impulsional del segundo filtro digital')\n",
    "_=plt.title('n')"
   ]
  },
  {
   "cell_type": "markdown",
   "id": "distant-chase",
   "metadata": {},
   "source": [
    "**Observaciones**\n",
    "\n",
    "* Recuerda a una sinc truncada\n",
    "\n",
    "* Las últimas muestras son exactamente cero, es decir tiene duración infinita.\n",
    "\n",
    "* En realidad lo que vemos son las primeras 50 muestras de la respuesta impulsional.\n",
    "\n",
    "* Este tipo de filtros se llama FIR por tener respuesta impulsiva finita.\n",
    "\n",
    "  * Se reconocen porque el denominador A2==1\n",
    "  \n",
    "  * Tienen ciertas propiedades buenas:\n",
    "    * Retardo constante para todas las frecuencias (fase lineal) si son simétricos. Especialmente interesantes en imágenes.\n",
    "    * Estabilidad"
   ]
  },
  {
   "cell_type": "code",
   "execution_count": 12,
   "id": "lonely-defensive",
   "metadata": {},
   "outputs": [
    {
     "name": "stdout",
     "output_type": "stream",
     "text": [
      "[1.6267e-03 1.5573e-18 0.0000e+00 0.0000e+00 0.0000e+00 0.0000e+00\n",
      " 0.0000e+00 0.0000e+00 0.0000e+00 0.0000e+00 0.0000e+00 0.0000e+00\n",
      " 0.0000e+00 0.0000e+00 0.0000e+00]\n"
     ]
    }
   ],
   "source": [
    "#Comprobación de que son cero los últimos valores de h2\n",
    "\n",
    "print(h2[-15:])"
   ]
  },
  {
   "cell_type": "markdown",
   "id": "appointed-czech",
   "metadata": {},
   "source": [
    "______\n",
    "# Respuesta en frecuencia\n",
    "\n",
    "Cuando en un sistema LTI se introduce una sinusoide de una frecuencia $f_0$ a la salida se obtiene una sinusoide de la misma frecuencia:\n",
    "* Cuya amplitud es la misma de la entrada multiplicada por una ganancia (que depende de $f_0$)\n",
    "* Cuya fase es la de la entrada más un desfase (que también depende de $f_0$.\n",
    "\n",
    "Poder amplificar y desfasar de manera diferente unas frecuencias u otras es la base del filtrado. \n",
    "\n",
    "A la función que nos indica la ganancia/desfase para cada frecuencia se le llama **respuesta en frecuencia**\n",
    "\n"
   ]
  },
  {
   "cell_type": "markdown",
   "id": "amber-veteran",
   "metadata": {},
   "source": [
    "## Obtención de la respuesta en frecuencia introduciendo tonos como señal de entrada.\n",
    "Vamos a ver una primera forma de obtener la respuesta en frecuencia de un filtro digital.\n",
    "* Generaremos una señal que será un tono de frecuencia $f_0$ de amplitud 1.\n",
    "* Filtraremos dicha señal con el filtro del que deseamos conocer su respuesta en frecuencia usando *signal.lfilter()*\n",
    "* Determinaremos la amplitud de la señal. Para ello, como son sinusoides discretas mediremos la potencia de la señal de salida y diremos que $Pot = A_{out}^2 /2$\n",
    "* Como la entrada la generamos de amplitud $A_{in}=1$, $G(f_0)=A_{out}/A_{in}$\n",
    "* Repetiremos para distintas frecuencias $f_1$, $f_2$,..."
   ]
  },
  {
   "cell_type": "code",
   "execution_count": 13,
   "id": "seasonal-algorithm",
   "metadata": {},
   "outputs": [],
   "source": [
    "Ain =1\n",
    "f_0 = 0.1 # Son frecuencias digitales, por tanto menores que 0.5\n",
    "n=np.arange(50000) # Muchas muestras para estimar bien potencia de salida\n",
    "x=Ain*np.cos(2*math.pi*f_0*n)"
   ]
  },
  {
   "cell_type": "code",
   "execution_count": 14,
   "id": "spectacular-effectiveness",
   "metadata": {},
   "outputs": [
    {
     "name": "stdout",
     "output_type": "stream",
     "text": [
      "G( 0.1 )= 0.9999788021639348\n"
     ]
    }
   ],
   "source": [
    "y=signal.lfilter(B1,A1,x)\n",
    "Pot_out = np.mean(y**2)\n",
    "Aout=math.sqrt(Pot_out*2.0)\n",
    "print('G(',f_0,')=', Aout/Ain)"
   ]
  },
  {
   "cell_type": "markdown",
   "id": "running-portal",
   "metadata": {},
   "source": [
    "Vemos que es prácticamente uno, es decir este filtro apenas modifica amplitud de entrada.\n",
    "\n",
    "Vista la idea haremos un bucle para diferentes frecuencias para poder hacer gráfica"
   ]
  },
  {
   "cell_type": "code",
   "execution_count": 15,
   "id": "included-thesis",
   "metadata": {},
   "outputs": [],
   "source": [
    "frecs = np.arange(0,0.5,0.02)\n",
    "\n",
    "ganancias = np.zeros(frecs.shape)\n",
    "k=0\n",
    "for f in frecs:\n",
    "    x=Ain*np.cos(2*math.pi*f*n)\n",
    "    y=signal.lfilter(B1,A1,x)\n",
    "    if f!=0:\n",
    "        Pot_out = np.mean(y**2)\n",
    "        Aout=math.sqrt(Pot_out*2.0)\n",
    "    else:\n",
    "        Aout = np.mean(y)\n",
    "    ganancias[k]=Aout/Ain\n",
    "    k+=1\n",
    "    \n",
    "    "
   ]
  },
  {
   "cell_type": "code",
   "execution_count": 16,
   "id": "careful-coating",
   "metadata": {},
   "outputs": [
    {
     "data": {
      "image/png": "[encoded data removed]",
      "text/plain": [
       "<Figure size 1000x500 with 1 Axes>"
      ]
     },
     "metadata": {},
     "output_type": "display_data"
    }
   ],
   "source": [
    "_=plt.plot(frecs,ganancias)\n",
    "_=plt.grid()\n",
    "_=plt.xlabel('fd')\n",
    "_=plt.title('G(fd)= |H(f)|')"
   ]
  },
  {
   "cell_type": "markdown",
   "id": "comparative-atlantic",
   "metadata": {},
   "source": [
    "**Observaciones**\n",
    "Vemos que el filtro 1, dado por B1,A1 se corresponde con un filtro paso bajo que permite pasar las frecuencias por debajo de 0.2 y atenúa las que están por encima de 0.35\n",
    "\n",
    "Se podría también hacer algo para similar para estimar el desfase.\n",
    "\n",
    "## Obtención de la respuesta en frecuencia mediante signal.freqz\n",
    "\n",
    "Existe una función que permite calcular la respuesta en frecuencia de un filtro discreto en  un conjunto de frecuencias. Se llama *freqz()*\n",
    "\n",
    "Emplea otro método diferente al visto aquí internamente. No obstante los resultados son los mismos.\n",
    "\n",
    "La función devuelve dos vectores:\n",
    "* H que es un vector de complejos de modo que para cada valor\n",
    "  * El módulo sería la ganancia en amplitud vista\n",
    "  * El argumento es el desfase que introduce el filtro.\n",
    "* w es el vector de pulsaciones correspondiente"
   ]
  },
  {
   "cell_type": "code",
   "execution_count": 17,
   "id": "higher-fitness",
   "metadata": {},
   "outputs": [
    {
     "data": {
      "image/png": "[encoded data removed]",
      "text/plain": [
       "<Figure size 1000x500 with 1 Axes>"
      ]
     },
     "metadata": {},
     "output_type": "display_data"
    }
   ],
   "source": [
    "w,H=signal.freqz(B1,A1,512)#512 es el número de puntos de la gráfica\n",
    "f=w/math.pi/2.0\n",
    "\n",
    "_=plt.plot(f,np.absolute(H))# ¡OJO! en matlab se pone\n",
    "_=plt.grid()\n",
    "_=plt.xlabel('fd')\n",
    "_=plt.title('|H(f)|')"
   ]
  },
  {
   "cell_type": "code",
   "execution_count": 18,
   "id": "bearing-dispute",
   "metadata": {},
   "outputs": [
    {
     "data": {
      "image/png": "[encoded data removed]",
      "text/plain": [
       "<Figure size 1000x500 with 1 Axes>"
      ]
     },
     "metadata": {},
     "output_type": "display_data"
    }
   ],
   "source": [
    "w2,H2=signal.freqz(B2,A2,512)#512 es el número de puntos de la gráfica\n",
    "f2=w2/math.pi/2.0\n",
    "\n",
    "_=plt.plot(f2,np.absolute(H2))# ¡OJO! en matlab se pone\n",
    "_=plt.grid()\n",
    "_=plt.xlabel('fd')\n",
    "_=plt.title('|H2(f)|')"
   ]
  },
  {
   "cell_type": "markdown",
   "id": "oriental-powell",
   "metadata": {},
   "source": [
    "* Este método es más cómodo y rápido\n",
    "\n",
    "* El primer método es más fácil de entender y además permite interpretar el sentido físico de respuesta en frecuencia."
   ]
  },
  {
   "cell_type": "markdown",
   "id": "5c483177",
   "metadata": {},
   "source": [
    "## Determinación de los límites de la banda de paso y atenuada\n",
    "\n",
    "En este apartado, veremos cómo determinar los límites de la banda de paso (margen de frecuencias donde la atenuación es menor que $\\alpha _p$ dB ) y los de la banda atenuada (donde la atenuación es mayor de $\\alpha _s$ dB )\n",
    "\n",
    "La idea es no hacerlo \" a ojo \" sino mediante código.\n",
    "\n",
    "Consideraremos \n",
    "\n",
    "* $\\alpha _p$ = 3 dB\n",
    "\n",
    "* $\\alpha _s$ = 40 dB"
   ]
  },
  {
   "cell_type": "code",
   "execution_count": 22,
   "id": "94d54ff7",
   "metadata": {},
   "outputs": [],
   "source": [
    "# PASO 1: Determinar la atenuación en dB\n",
    "\n",
    "atenuacion = - 20 * np.log10(np.abs(H))\n",
    "alpha_p = 3\n",
    "alpha_s = 40\n"
   ]
  },
  {
   "cell_type": "code",
   "execution_count": 26,
   "id": "c17b391e",
   "metadata": {},
   "outputs": [],
   "source": [
    "indpaso = np.argwhere(atenuacion < alpha_p)\n",
    "indaten = np.argwhere(atenuacion > alpha_s)"
   ]
  },
  {
   "cell_type": "code",
   "execution_count": 27,
   "id": "f023a8d1",
   "metadata": {},
   "outputs": [
    {
     "name": "stdout",
     "output_type": "stream",
     "text": [
      "Limite B Paso= 0.2490234375\n",
      "Limite B Aten= 0.3623046875\n"
     ]
    }
   ],
   "source": [
    "fpaso = np.max(f[indpaso])\n",
    "faten = np.min(f[indaten])\n",
    "\n",
    "print('Limite B Paso=',fpaso)\n",
    "print('Limite B Aten=',faten)"
   ]
  },
  {
   "cell_type": "markdown",
   "id": "valid-truth",
   "metadata": {},
   "source": [
    "# Filtrado de señales genéricas\n",
    "En este punto veremos cómo filtrar señales de audio genéricas."
   ]
  },
  {
   "cell_type": "code",
   "execution_count": 15,
   "id": "individual-museum",
   "metadata": {},
   "outputs": [
    {
     "name": "stdout",
     "output_type": "stream",
     "text": [
      "44100 (7967855, 2)\n"
     ]
    }
   ],
   "source": [
    "fs1,x1=upv_audio.read('audios/elvis_44.wav')\n",
    "print(fs1,x1.shape)"
   ]
  },
  {
   "cell_type": "code",
   "execution_count": 16,
   "id": "unlikely-sustainability",
   "metadata": {},
   "outputs": [
    {
     "name": "stdout",
     "output_type": "stream",
     "text": [
      "16000 (2890832, 2)\n"
     ]
    }
   ],
   "source": [
    "fs2,x2=upv_audio.read('audios/elvis_16.wav')\n",
    "print(fs2,x2.shape)"
   ]
  },
  {
   "cell_type": "markdown",
   "id": "upset-testing",
   "metadata": {},
   "source": [
    "Son la misma canción a distintas frecuencias de muestreo. \n",
    "\n",
    "**¡OJO!** Son estereo\n",
    "\n",
    "Filtraremos cada una de ellas.\n",
    "\n",
    "De la documentación de lfilter\n",
    "* scipy.signal.lfilter(b, a, x, **axis=- 1**) Si no le ponemos opción *axis*, toma *-1*. ¿Qué quiere decir que axis=-1?\n",
    "\n",
    "Solución: El último eje!!\n"
   ]
  },
  {
   "cell_type": "code",
   "execution_count": 17,
   "id": "hybrid-christopher",
   "metadata": {},
   "outputs": [
    {
     "name": "stdout",
     "output_type": "stream",
     "text": [
      "(7967855, 2)\n"
     ]
    }
   ],
   "source": [
    "y1=signal.lfilter(B1,A1,x1,axis=0)\n",
    "print(y1.shape)"
   ]
  },
  {
   "cell_type": "code",
   "execution_count": 19,
   "id": "universal-richards",
   "metadata": {},
   "outputs": [
    {
     "name": "stdout",
     "output_type": "stream",
     "text": [
      "(2890832, 2)\n"
     ]
    }
   ],
   "source": [
    "# Ahora filtramos la otra señal. Es la misma canción con la mitad de la frecuencia de muestreo\n",
    "y1b=signal.lfilter(B1,A1,x2,axis=0)\n",
    "print(y1b.shape)"
   ]
  },
  {
   "cell_type": "code",
   "execution_count": 20,
   "id": "fourth-ozone",
   "metadata": {},
   "outputs": [],
   "source": [
    "upv_audio.write('audios_out/filtrada_44.wav',fs1,y1)\n",
    "upv_audio.write('audios_out/filtrada_16.wav',fs2,y1b)"
   ]
  },
  {
   "cell_type": "markdown",
   "id": "executive-terrace",
   "metadata": {},
   "source": [
    "Escuchar ambos audios y apreciar la diferencia. El uno es un filtrado a aprox. 11 Khz y el otro a 4 Khz\n",
    "\n",
    "La frecuencia de corte digital es aprox. 0.25 (ver gráficas) en AMBOS CASOS\n",
    "\n",
    "La frecuencia de corte digital es aprox 0.25 $f_s$\n",
    "* fs = 44.1 --> fcorte$\\approx$ 11\n",
    "* fs = 16 --> fcorte$\\approx$ 4\n",
    "\n",
    "Observar espectro en AUDACITY (ajustar rango vertical). Debe quedar algo como:\n",
    "\n",
    "<img src=\"images/s_filtradas.png\" width=900>"
   ]
  },
  {
   "cell_type": "code",
   "execution_count": null,
   "id": "supreme-lying",
   "metadata": {},
   "outputs": [],
   "source": []
  }
 ],
 "metadata": {
  "kernelspec": {
   "display_name": "Python 3 (ipykernel)",
   "language": "python",
   "name": "python3"
  },
  "language_info": {
   "codemirror_mode": {
    "name": "ipython",
    "version": 3
   },
   "file_extension": ".py",
   "mimetype": "text/x-python",
   "name": "python",
   "nbconvert_exporter": "python",
   "pygments_lexer": "ipython3",
   "version": "3.10.8"
  },
  "toc": {
   "base_numbering": 1,
   "nav_menu": {},
   "number_sections": true,
   "sideBar": true,
   "skip_h1_title": false,
   "title_cell": "Table of Contents",
   "title_sidebar": "Contents",
   "toc_cell": false,
   "toc_position": {},
   "toc_section_display": true,
   "toc_window_display": false
  },
  "varInspector": {
   "cols": {
    "lenName": 16,
    "lenType": 16,
    "lenVar": 40
   },
   "kernels_config": {
    "python": {
     "delete_cmd_postfix": "",
     "delete_cmd_prefix": "del ",
     "library": "var_list.py",
     "varRefreshCmd": "print(var_dic_list())"
    },
    "r": {
     "delete_cmd_postfix": ") ",
     "delete_cmd_prefix": "rm(",
     "library": "var_list.r",
     "varRefreshCmd": "cat(var_dic_list()) "
    }
   },
   "types_to_exclude": [
    "module",
    "function",
    "builtin_function_or_method",
    "instance",
    "_Feature"
   ],
   "window_display": false
  }
 },
 "nbformat": 4,
 "nbformat_minor": 5
}
