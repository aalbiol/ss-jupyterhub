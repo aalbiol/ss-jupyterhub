{
 "cells": [
  {
   "cell_type": "code",
   "execution_count": 1,
   "metadata": {},
   "outputs": [],
   "source": [
    "import pandas as pd\n",
    "import glob\n",
    "import os\n",
    "from pathlib import Path"
   ]
  },
  {
   "cell_type": "code",
   "execution_count": 2,
   "metadata": {},
   "outputs": [],
   "source": [
    "def fusiona_csvs_grupos(fich):\n",
    "    ruta1=\"/home/volumes/ss1/home/profesor/Curso/notas_limpias\"\n",
    "    ruta2=\"/home/volumes/ss2/home/profesor/Curso/notas_limpias\"\n",
    "    ruta3=\"/home/volumes/ss3/home/profesor/Curso/notas_limpias\"\n",
    "    lista_path=\"/home/volumes/ss2/home/profesor/listaSS_2024.csv\"\n",
    "\n",
    "    fich1=os.path.join(ruta1,fich)\n",
    "    fich2=os.path.join(ruta2,fich)\n",
    "    fich3=os.path.join(ruta3,fich)\n",
    "    columna=fich.replace(\".csv\",\"\")\n",
    "\n",
    "    # Lista DNIS email\n",
    "    dflista=pd.read_csv(lista_path,delimiter=\",\",header=None,encoding='latin1')\n",
    "    dflista.columns=['Apellidos','Nombre','DNI','E-mail']\n",
    "    dflista.index=dflista[\"E-mail\"]\n",
    "\n",
    "    dflista=dflista['DNI']\n",
    "    #print(dflista)\n",
    "\n",
    "    tabla={}\n",
    "    emails=[]\n",
    "    for index,val in dflista.items():\n",
    "        #print(index)\n",
    "        tabla[index]=val\n",
    "        emails.append(index)\n",
    "        \n",
    "    emails.sort()\n",
    "\n",
    "\n",
    "    ## Leer notas de cada grupo\n",
    "    grupo1=pd.read_csv(fich1,delimiter=\";\")\n",
    "    grupo2=pd.read_csv(fich2,delimiter=\";\")\n",
    "    grupo3=pd.read_csv(fich3,delimiter=\";\")\n",
    "\n",
    "    # Calcular la máxima de la que tengan en cada grupo\n",
    "    dnis=[]\n",
    "    for index , val in grupo1.iterrows():\n",
    "        dnis.append(val['DNI'])\n",
    "    for index , val in grupo2.iterrows():\n",
    "        dnis.append(val['DNI'])\n",
    "    for index , val in grupo3.iterrows():\n",
    "        dnis.append(val['DNI'])\n",
    "    dnis=list(set(dnis))\n",
    "\n",
    "    listas_por_dni={}\n",
    "    for dni in dnis:\n",
    "        listas_por_dni[dni]=[]\n",
    "\n",
    "    for index , val in grupo1.iterrows():\n",
    "        k=val['DNI']\n",
    "        listas_por_dni[k].append(val[columna])    \n",
    "        \n",
    "    for index , val in grupo2.iterrows():\n",
    "        k=val['DNI']\n",
    "        listas_por_dni[k].append(val[columna])   \n",
    "        \n",
    "    for index , val in grupo3.iterrows():\n",
    "        k=val['DNI']\n",
    "        listas_por_dni[k].append(val[columna])\n",
    "        \n",
    "    nota_por_dni={}\n",
    "    for k,v in listas_por_dni.items():\n",
    "        if len(v) ==0:\n",
    "            nota=0\n",
    "            print(k, \" sin notas en ningún grupo\")\n",
    "        else:\n",
    "            if len(v)>1:\n",
    "                print(k, \"está en \", len(v), \" grupos\")\n",
    "            nota=max(v)\n",
    "        if len(k) > 2:\n",
    "            nota_por_dni[k]=nota\n",
    "\n",
    "    # Crear tabla con notas fusionadas        \n",
    "    notas_fusionadas=pd.DataFrame.from_dict(nota_por_dni,orient='index',columns=[columna])\n",
    "    notas_fusionadas['DNI']=notas_fusionadas.index  \n",
    "    # Reordenar columnas\n",
    "    notas_fusionadas=notas_fusionadas[['DNI',columna]]\n",
    "\n",
    "    fileout=os.path.join(\"notas_grupos_juntos\", fich)\n",
    "    print (fileout, \" saved\")\n",
    "    notas_fusionadas.to_csv(fileout,header=True,index=False,sep=';')\n",
    "      "
   ]
  },
  {
   "cell_type": "code",
   "execution_count": null,
   "metadata": {},
   "outputs": [
    {
     "name": "stdout",
     "output_type": "stream",
     "text": [
      "20884616 está en  2  grupos\n",
      "26630518 está en  2  grupos\n",
      "23855955 está en  2  grupos\n",
      "53761214 está en  2  grupos\n",
      "48599138 está en  2  grupos\n",
      "Y1712772 está en  2  grupos\n",
      "20496960 está en  2  grupos\n",
      "23943265 está en  2  grupos\n",
      "23940978 está en  2  grupos\n",
      "20239067 está en  2  grupos\n",
      "23871998 está en  2  grupos\n",
      "notas_grupos_juntos/autonomos-multiplex_temporal.csv  saved\n"
     ]
    }
   ],
   "source": [
    "fusiona_csvs_grupos(\"autonomos-multiplex_temporal.csv\")"
   ]
  },
  {
   "cell_type": "code",
   "execution_count": 5,
   "metadata": {},
   "outputs": [
    {
     "name": "stdout",
     "output_type": "stream",
     "text": [
      "20884616 está en  2  grupos\n",
      "26630518 está en  2  grupos\n",
      "23855955 está en  2  grupos\n",
      "53761214 está en  2  grupos\n",
      "48599138 está en  2  grupos\n",
      "Y1712772 está en  2  grupos\n",
      "20496960 está en  2  grupos\n",
      "23943265 está en  2  grupos\n",
      "23940978 está en  2  grupos\n",
      "20239067 está en  2  grupos\n",
      "23871998 está en  2  grupos\n",
      "notas_grupos_juntos/P0-4.csv  saved\n"
     ]
    }
   ],
   "source": [
    "fusiona_csvs_grupos(\"P0-4.csv\")"
   ]
  },
  {
   "cell_type": "code",
   "execution_count": 9,
   "metadata": {},
   "outputs": [
    {
     "name": "stdout",
     "output_type": "stream",
     "text": [
      "20884616 está en  2  grupos\n",
      "26630518 está en  2  grupos\n",
      "23855955 está en  2  grupos\n",
      "53761214 está en  2  grupos\n",
      "48599138 está en  2  grupos\n",
      "Y1712772 está en  2  grupos\n",
      "20496960 está en  2  grupos\n",
      "23943265 está en  2  grupos\n",
      "23940978 está en  2  grupos\n",
      "20239067 está en  2  grupos\n",
      "23871998 está en  2  grupos\n",
      "notas_grupos_juntos/P1-1.csv  saved\n"
     ]
    }
   ],
   "source": [
    "fusiona_csvs_grupos(\"P1-1.csv\")"
   ]
  },
  {
   "cell_type": "code",
   "execution_count": 10,
   "metadata": {},
   "outputs": [
    {
     "name": "stdout",
     "output_type": "stream",
     "text": [
      "20884616 está en  2  grupos\n",
      "26630518 está en  2  grupos\n",
      "23855955 está en  2  grupos\n",
      "53761214 está en  2  grupos\n",
      "48599138 está en  2  grupos\n",
      "Y1712772 está en  2  grupos\n",
      "20496960 está en  2  grupos\n",
      "23943265 está en  2  grupos\n",
      "23940978 está en  2  grupos\n",
      "20239067 está en  2  grupos\n",
      "23871998 está en  2  grupos\n",
      "notas_grupos_juntos/P0-TRX_Digital.csv  saved\n"
     ]
    }
   ],
   "source": [
    "fusiona_csvs_grupos(\"P0-TRX_Digital.csv\")"
   ]
  },
  {
   "cell_type": "code",
   "execution_count": 3,
   "metadata": {},
   "outputs": [
    {
     "name": "stdout",
     "output_type": "stream",
     "text": [
      "Y1712772 está en  2  grupos\n",
      "23855955 está en  2  grupos\n",
      "26630518 está en  2  grupos\n",
      "23940978 está en  2  grupos\n",
      "20496960 está en  2  grupos\n",
      "20239067 está en  2  grupos\n",
      "23871998 está en  2  grupos\n",
      "53761214 está en  2  grupos\n",
      "20884616 está en  2  grupos\n",
      "48599138 está en  2  grupos\n",
      "23943265 está en  2  grupos\n",
      "notas_grupos_juntos/autonomos-crossfade.csv  saved\n"
     ]
    }
   ],
   "source": [
    "fusiona_csvs_grupos(\"autonomos-crossfade.csv\")"
   ]
  },
  {
   "cell_type": "code",
   "execution_count": 3,
   "metadata": {},
   "outputs": [
    {
     "name": "stdout",
     "output_type": "stream",
     "text": [
      "23943265 está en  2  grupos\n",
      "23855955 está en  2  grupos\n",
      "20884616 está en  2  grupos\n",
      "20239067 está en  2  grupos\n",
      "23940978 está en  2  grupos\n",
      "48599138 está en  2  grupos\n",
      "53761214 está en  2  grupos\n",
      "20496960 está en  2  grupos\n",
      "26630518 está en  2  grupos\n",
      "23871998 está en  2  grupos\n",
      "Y1712772 está en  2  grupos\n",
      "notas_grupos_juntos/P1-2.csv  saved\n"
     ]
    }
   ],
   "source": [
    "fusiona_csvs_grupos(\"P1-2.csv\")"
   ]
  },
  {
   "cell_type": "code",
   "execution_count": 4,
   "metadata": {},
   "outputs": [
    {
     "name": "stdout",
     "output_type": "stream",
     "text": [
      "23943265 está en  2  grupos\n",
      "23855955 está en  2  grupos\n",
      "20884616 está en  2  grupos\n",
      "20239067 está en  2  grupos\n",
      "23940978 está en  2  grupos\n",
      "48599138 está en  2  grupos\n",
      "53761214 está en  2  grupos\n",
      "20496960 está en  2  grupos\n",
      "26630518 está en  2  grupos\n",
      "23871998 está en  2  grupos\n",
      "Y1712772 está en  2  grupos\n",
      "notas_grupos_juntos/P1-3.csv  saved\n"
     ]
    }
   ],
   "source": [
    "fusiona_csvs_grupos(\"P1-3.csv\")"
   ]
  },
  {
   "cell_type": "code",
   "execution_count": 5,
   "metadata": {},
   "outputs": [
    {
     "name": "stdout",
     "output_type": "stream",
     "text": [
      "23943265 está en  2  grupos\n",
      "23855955 está en  2  grupos\n",
      "20884616 está en  2  grupos\n",
      "20239067 está en  2  grupos\n",
      "23940978 está en  2  grupos\n",
      "48599138 está en  2  grupos\n",
      "53761214 está en  2  grupos\n",
      "20496960 está en  2  grupos\n",
      "26630518 está en  2  grupos\n",
      "23871998 está en  2  grupos\n",
      "Y1712772 está en  2  grupos\n",
      "notas_grupos_juntos/P1-4.csv  saved\n"
     ]
    }
   ],
   "source": [
    "fusiona_csvs_grupos(\"P1-4.csv\")"
   ]
  },
  {
   "cell_type": "code",
   "execution_count": 6,
   "metadata": {},
   "outputs": [
    {
     "name": "stdout",
     "output_type": "stream",
     "text": [
      "23943265 está en  2  grupos\n",
      "23855955 está en  2  grupos\n",
      "20884616 está en  2  grupos\n",
      "20239067 está en  2  grupos\n",
      "23940978 está en  2  grupos\n",
      "48599138 está en  2  grupos\n",
      "53761214 está en  2  grupos\n",
      "20496960 está en  2  grupos\n",
      "26630518 está en  2  grupos\n",
      "23871998 está en  2  grupos\n",
      "Y1712772 está en  2  grupos\n",
      "notas_grupos_juntos/P2-1.csv  saved\n"
     ]
    }
   ],
   "source": [
    "fusiona_csvs_grupos(\"P2-1.csv\")"
   ]
  },
  {
   "cell_type": "code",
   "execution_count": 7,
   "metadata": {},
   "outputs": [
    {
     "name": "stdout",
     "output_type": "stream",
     "text": [
      "23943265 está en  2  grupos\n",
      "23855955 está en  2  grupos\n",
      "20884616 está en  2  grupos\n",
      "20239067 está en  2  grupos\n",
      "23940978 está en  2  grupos\n",
      "48599138 está en  2  grupos\n",
      "53761214 está en  2  grupos\n",
      "20496960 está en  2  grupos\n",
      "26630518 está en  2  grupos\n",
      "23871998 está en  2  grupos\n",
      "Y1712772 está en  2  grupos\n",
      "notas_grupos_juntos/P2-2.csv  saved\n"
     ]
    }
   ],
   "source": [
    "fusiona_csvs_grupos(\"P2-2.csv\")"
   ]
  },
  {
   "cell_type": "code",
   "execution_count": 8,
   "metadata": {},
   "outputs": [
    {
     "name": "stdout",
     "output_type": "stream",
     "text": [
      "23943265 está en  2  grupos\n",
      "23855955 está en  2  grupos\n",
      "20884616 está en  2  grupos\n",
      "20239067 está en  2  grupos\n",
      "23940978 está en  2  grupos\n",
      "48599138 está en  2  grupos\n",
      "53761214 está en  2  grupos\n",
      "20496960 está en  2  grupos\n",
      "26630518 está en  2  grupos\n",
      "23871998 está en  2  grupos\n",
      "Y1712772 está en  2  grupos\n",
      "notas_grupos_juntos/P2-3.csv  saved\n"
     ]
    }
   ],
   "source": [
    "fusiona_csvs_grupos(\"P2-3.csv\")"
   ]
  },
  {
   "cell_type": "code",
   "execution_count": 9,
   "metadata": {},
   "outputs": [
    {
     "name": "stdout",
     "output_type": "stream",
     "text": [
      "23943265 está en  2  grupos\n",
      "23855955 está en  2  grupos\n",
      "20884616 está en  2  grupos\n",
      "20239067 está en  2  grupos\n",
      "23940978 está en  2  grupos\n",
      "48599138 está en  2  grupos\n",
      "53761214 está en  2  grupos\n",
      "20496960 está en  2  grupos\n",
      "26630518 está en  2  grupos\n",
      "23871998 está en  2  grupos\n",
      "Y1712772 está en  2  grupos\n",
      "notas_grupos_juntos/autonomos-ReceptorDigitalCompleto.csv  saved\n"
     ]
    }
   ],
   "source": [
    "fusiona_csvs_grupos(\"autonomos-ReceptorDigitalCompleto.csv\")"
   ]
  },
  {
   "cell_type": "code",
   "execution_count": 10,
   "metadata": {},
   "outputs": [
    {
     "name": "stdout",
     "output_type": "stream",
     "text": [
      "23943265 está en  2  grupos\n",
      "23855955 está en  2  grupos\n",
      "20884616 está en  2  grupos\n",
      "20239067 está en  2  grupos\n",
      "23940978 está en  2  grupos\n",
      "48599138 está en  2  grupos\n",
      "53761214 está en  2  grupos\n",
      "20496960 está en  2  grupos\n",
      "26630518 está en  2  grupos\n",
      "23871998 está en  2  grupos\n",
      "Y1712772 está en  2  grupos\n",
      "notas_grupos_juntos/autonomos-PWM.csv  saved\n"
     ]
    }
   ],
   "source": [
    "fusiona_csvs_grupos(\"autonomos-PWM.csv\")\n"
   ]
  },
  {
   "cell_type": "code",
   "execution_count": 11,
   "metadata": {},
   "outputs": [
    {
     "name": "stdout",
     "output_type": "stream",
     "text": [
      "23943265 está en  2  grupos\n",
      "23855955 está en  2  grupos\n",
      "20884616 está en  2  grupos\n",
      "20239067 está en  2  grupos\n",
      "23940978 está en  2  grupos\n",
      "48599138 está en  2  grupos\n",
      "53761214 está en  2  grupos\n",
      "20496960 está en  2  grupos\n",
      "26630518 está en  2  grupos\n",
      "23871998 está en  2  grupos\n",
      "Y1712772 está en  2  grupos\n",
      "notas_grupos_juntos/P1-3b__RCX_Digital.csv  saved\n"
     ]
    }
   ],
   "source": [
    "\n",
    "fusiona_csvs_grupos(\"P1-3b__RCX_Digital.csv\")"
   ]
  },
  {
   "cell_type": "code",
   "execution_count": 12,
   "metadata": {},
   "outputs": [
    {
     "name": "stdout",
     "output_type": "stream",
     "text": [
      "23943265 está en  2  grupos\n",
      "23855955 está en  2  grupos\n",
      "20884616 está en  2  grupos\n",
      "20239067 está en  2  grupos\n",
      "23940978 está en  2  grupos\n",
      "48599138 está en  2  grupos\n",
      "53761214 está en  2  grupos\n",
      "20496960 está en  2  grupos\n",
      "26630518 está en  2  grupos\n",
      "23871998 está en  2  grupos\n",
      "Y1712772 está en  2  grupos\n",
      "notas_grupos_juntos/P1-4b__RCX_Digital2.csv  saved\n"
     ]
    }
   ],
   "source": [
    "fusiona_csvs_grupos(\"P1-4b__RCX_Digital2.csv\")"
   ]
  },
  {
   "cell_type": "code",
   "execution_count": 4,
   "metadata": {},
   "outputs": [
    {
     "name": "stdout",
     "output_type": "stream",
     "text": [
      "Y1712772 está en  2  grupos\n",
      "23940978 está en  2  grupos\n",
      "53761214 está en  2  grupos\n",
      "20239067 está en  2  grupos\n",
      "20496960 está en  2  grupos\n",
      "26630518 está en  2  grupos\n",
      "23871998 está en  2  grupos\n",
      "20884616 está en  2  grupos\n",
      "48599138 está en  2  grupos\n",
      "23943265 está en  2  grupos\n",
      "23855955 está en  2  grupos\n",
      "notas_grupos_juntos/ExEnero25-P1.csv  saved\n"
     ]
    }
   ],
   "source": [
    "fusiona_csvs_grupos(\"ExEnero25-P1.csv\")"
   ]
  },
  {
   "cell_type": "code",
   "execution_count": 6,
   "metadata": {},
   "outputs": [
    {
     "name": "stdout",
     "output_type": "stream",
     "text": [
      "Y1712772 está en  2  grupos\n",
      "23940978 está en  2  grupos\n",
      "53761214 está en  2  grupos\n",
      "20239067 está en  2  grupos\n",
      "20496960 está en  2  grupos\n",
      "26630518 está en  2  grupos\n",
      "23871998 está en  2  grupos\n",
      "20884616 está en  2  grupos\n",
      "48599138 está en  2  grupos\n",
      "23943265 está en  2  grupos\n",
      "23855955 está en  2  grupos\n",
      "notas_grupos_juntos/ExEnero25-P2.csv  saved\n"
     ]
    }
   ],
   "source": [
    "fusiona_csvs_grupos(\"ExEnero25-P2.csv\")"
   ]
  },
  {
   "cell_type": "code",
   "execution_count": null,
   "metadata": {},
   "outputs": [],
   "source": []
  }
 ],
 "metadata": {
  "kernelspec": {
   "display_name": "dnn2",
   "language": "python",
   "name": "python3"
  },
  "language_info": {
   "codemirror_mode": {
    "name": "ipython",
    "version": 3
   },
   "file_extension": ".py",
   "mimetype": "text/x-python",
   "name": "python",
   "nbconvert_exporter": "python",
   "pygments_lexer": "ipython3",
   "version": "3.10.9"
  }
 },
 "nbformat": 4,
 "nbformat_minor": 4
}
