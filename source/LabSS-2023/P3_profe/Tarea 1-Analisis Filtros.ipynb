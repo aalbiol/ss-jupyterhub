{
 "cells": [
  {
   "cell_type": "markdown",
   "id": "usual-monitor",
   "metadata": {},
   "source": [
    "# Análisis de filtros\n",
    "\n",
    "En este cuaderno veremos cómo :\n",
    "\n",
    "* Dados los coeficientes de un filtro\n",
    "\n",
    "  * Determinar el tipo de filtro que es: paso-bajo, paso-banda, ...\n",
    "  \n",
    "  * Determinar el límite de la banda de paso, es decir el margen de frecuencias donde la atenuación es inferior a una tolerancia en dB.\n",
    "  \n",
    "  * Determinar el límite de la banda atenuada, es decir el margen de frecuencias donde la atenuación es mayor que un cierto valor mínimo.\n",
    "\n",
    "\n"
   ]
  },
  {
   "cell_type": "code",
   "execution_count": 1,
   "id": "breathing-tonight",
   "metadata": {},
   "outputs": [],
   "source": [
    "%matplotlib inline\n",
    "import numpy as np\n",
    "\n",
    "import matplotlib\n",
    "import matplotlib.pyplot as plt\n",
    "from scipy import signal\n",
    "\n",
    "#Hacer que las figuras por defecto salgan más grandes\n",
    "matplotlib.rcParams['figure.figsize'] = (10.0, 5.0)\n",
    "\n",
    "\n",
    "import math\n",
    "import cmath\n",
    "\n",
    "import warnings\n",
    "warnings.filterwarnings('ignore')\n"
   ]
  },
  {
   "cell_type": "markdown",
   "id": "8ddf4692",
   "metadata": {},
   "source": [
    "## Carga de los coeficientes del filtro a analizar"
   ]
  },
  {
   "cell_type": "code",
   "execution_count": 5,
   "id": "1707d568",
   "metadata": {},
   "outputs": [
    {
     "name": "stdout",
     "output_type": "stream",
     "text": [
      "B= [ 4.82945079e-05  0.00000000e+00 -3.86356063e-04  0.00000000e+00\n",
      "  1.35224622e-03  0.00000000e+00 -2.70449244e-03  0.00000000e+00\n",
      "  3.38061555e-03  0.00000000e+00 -2.70449244e-03  0.00000000e+00\n",
      "  1.35224622e-03  0.00000000e+00 -3.86356063e-04  0.00000000e+00\n",
      "  4.82945079e-05]\n",
      "A= [ 1.00000000e+00 -5.93969318e-15  5.25653499e+00 -2.79776202e-14\n",
      "  1.35752852e+01 -7.14983628e-14  2.20152574e+01 -1.10134124e-13\n",
      "  2.43002923e+01 -1.04805054e-13  1.86182107e+01 -4.44089210e-14\n",
      "  9.66552829e+00 -1.59872116e-14  3.11856669e+00 -3.27515792e-15\n",
      "  4.83028581e-01]\n"
     ]
    }
   ],
   "source": [
    "coeficientes=np.load('TareaAnalisis.npz')\n",
    "A=coeficientes['A']\n",
    "B=coeficientes['B']\n",
    "print('B=',B)\n",
    "print('A=',A)"
   ]
  },
  {
   "cell_type": "markdown",
   "id": "606bac51",
   "metadata": {},
   "source": [
    "## Dibujo de la respuesta en frecuencia\n",
    "Dibujar el módulo de la respuesta en frecuencia en escala lineal y **Determinar el tipo de filtro** (paso-bajo, baso-banda,....)"
   ]
  },
  {
   "cell_type": "code",
   "execution_count": 11,
   "id": "announced-cancellation",
   "metadata": {},
   "outputs": [
    {
     "data": {
      "image/png": "[encoded data removed]",
      "text/plain": [
       "<Figure size 720x360 with 1 Axes>"
      ]
     },
     "metadata": {
      "needs_background": "light"
     },
     "output_type": "display_data"
    }
   ],
   "source": [
    "w,H=signal.freqz(B,A,512)#512 es el número de puntos de la gráfica\n",
    "f=w/math.pi/2.0\n",
    "\n",
    "_=plt.plot(f,np.abs(H))\n",
    "_=plt.grid()\n",
    "_=plt.title('|H(f)|')\n",
    "_=plt.xlabel('f')"
   ]
  },
  {
   "cell_type": "markdown",
   "id": "91296176",
   "metadata": {},
   "source": [
    "Como puede observarse es un filtro paso-banda"
   ]
  },
  {
   "cell_type": "code",
   "execution_count": null,
   "id": "09b4d136",
   "metadata": {},
   "outputs": [],
   "source": []
  },
  {
   "cell_type": "markdown",
   "id": "354a9349",
   "metadata": {},
   "source": [
    "## Determinar límite de la banda de paso\n",
    "Determinar el intervalo de frecuencias donde la atenuación es menor a 3 dB."
   ]
  },
  {
   "cell_type": "code",
   "execution_count": 7,
   "id": "1755d6d2",
   "metadata": {},
   "outputs": [],
   "source": [
    "atenuacion = -20 * np.log10(np.abs(H))"
   ]
  },
  {
   "cell_type": "code",
   "execution_count": 8,
   "id": "8fa0e638",
   "metadata": {},
   "outputs": [],
   "source": [
    "ind_bpaso=np.argwhere(atenuacion < 3)"
   ]
  },
  {
   "cell_type": "code",
   "execution_count": 9,
   "id": "fa38e71e",
   "metadata": {},
   "outputs": [
    {
     "name": "stdout",
     "output_type": "stream",
     "text": [
      "fmin_bpaso= 0.1669921875\n",
      "fmax_bpaso= 0.33300781249999994\n"
     ]
    }
   ],
   "source": [
    "fmin = f[np.min(ind_bpaso)]\n",
    "fmax = f[np.max(ind_bpaso)]\n",
    "\n",
    "print('fmin_bpaso=',fmin)\n",
    "print('fmax_bpaso=',fmax)"
   ]
  },
  {
   "cell_type": "markdown",
   "id": "24102251",
   "metadata": {},
   "source": [
    "### Comprobación\n",
    "Compruebe que los valores numéricos obtenidos coinciden con los de la gráfica. Recuerde que 3dB de atenuación corresponden con un valor del módulo de la respuesta en frecuencia de $1/\\sqrt{2} \\approx 0.7$"
   ]
  },
  {
   "cell_type": "markdown",
   "id": "bb664665",
   "metadata": {},
   "source": [
    "## Determinar límites de la banda atenuada\n",
    "Determinar el intervalo de frecuencias donde la atenuación es mayor de 50 dB"
   ]
  },
  {
   "cell_type": "code",
   "execution_count": 13,
   "id": "4eb36452",
   "metadata": {},
   "outputs": [],
   "source": [
    "ind_aten=np.argwhere(atenuacion < 50)"
   ]
  },
  {
   "cell_type": "code",
   "execution_count": 14,
   "id": "5e101220",
   "metadata": {},
   "outputs": [],
   "source": [
    "fmin = f[np.min(ind_aten)]\n",
    "fmax = f[np.max(ind_aten)]"
   ]
  },
  {
   "cell_type": "code",
   "execution_count": 15,
   "id": "fa0c433f",
   "metadata": {},
   "outputs": [
    {
     "name": "stdout",
     "output_type": "stream",
     "text": [
      "fmin_baten= 0.1435546875\n",
      "fmax_baten= 0.3564453125\n"
     ]
    }
   ],
   "source": [
    "print('fmin_baten=',fmin)\n",
    "print('fmax_baten=',fmax)"
   ]
  },
  {
   "cell_type": "code",
   "execution_count": null,
   "id": "1d7ec6aa",
   "metadata": {},
   "outputs": [],
   "source": []
  }
 ],
 "metadata": {
  "kernelspec": {
   "display_name": "Python 3 (ipykernel)",
   "language": "python",
   "name": "python3"
  },
  "language_info": {
   "codemirror_mode": {
    "name": "ipython",
    "version": 3
   },
   "file_extension": ".py",
   "mimetype": "text/x-python",
   "name": "python",
   "nbconvert_exporter": "python",
   "pygments_lexer": "ipython3",
   "version": "3.8.12"
  },
  "toc": {
   "base_numbering": 1,
   "nav_menu": {},
   "number_sections": true,
   "sideBar": true,
   "skip_h1_title": false,
   "title_cell": "Table of Contents",
   "title_sidebar": "Contents",
   "toc_cell": false,
   "toc_position": {},
   "toc_section_display": true,
   "toc_window_display": false
  },
  "varInspector": {
   "cols": {
    "lenName": 16,
    "lenType": 16,
    "lenVar": 40
   },
   "kernels_config": {
    "python": {
     "delete_cmd_postfix": "",
     "delete_cmd_prefix": "del ",
     "library": "var_list.py",
     "varRefreshCmd": "print(var_dic_list())"
    },
    "r": {
     "delete_cmd_postfix": ") ",
     "delete_cmd_prefix": "rm(",
     "library": "var_list.r",
     "varRefreshCmd": "cat(var_dic_list()) "
    }
   },
   "types_to_exclude": [
    "module",
    "function",
    "builtin_function_or_method",
    "instance",
    "_Feature"
   ],
   "window_display": false
  }
 },
 "nbformat": 4,
 "nbformat_minor": 5
}
