{
 "cells": [
  {
   "cell_type": "code",
   "execution_count": 1,
   "id": "87cbde7a-5a92-4848-9da9-49b821f32b19",
   "metadata": {
    "nbgrader": {
     "grade": false,
     "grade_id": "cell-3d294d58a0b81b30",
     "locked": true,
     "schema_version": 3,
     "solution": false,
     "task": false
    }
   },
   "outputs": [],
   "source": [
    "import numpy as np\n",
    "import matplotlib.pyplot as plt\n",
    "import upv_audio\n",
    "from IPython.display import Audio"
   ]
  },
  {
   "cell_type": "markdown",
   "id": "9afbee7b-ee16-42f4-8aa3-18a39c8ff93b",
   "metadata": {
    "nbgrader": {
     "grade": false,
     "grade_id": "cell-c546bb083ec9d6d4",
     "locked": true,
     "schema_version": 3,
     "solution": false,
     "task": false
    }
   },
   "source": [
    "# Tarea Cross-Fade\n",
    "\n",
    "## Introducción\n",
    "El objetivo de la tarea es crear una función que implemente el efecto llamado \"cross-fade\", que consiste en concatenar dos señales de audio de modo que exista un cierto solape entre las dos señales. En el intervalo de solape, la primera señal irá desapareciendo (*fade-out*) mientras que la segunda señal irá apareciendo (*fade-in*)\n",
    "\n",
    "## Especificaciones\n",
    "* La función a realizar recibirá como entrada:\n",
    "    \n",
    "    * Dos señales, *x1* y *x2* que son las que se pretende unir. La duración de las mismas será $N1$ y $N2$ respectivamente\n",
    "    \n",
    "    * La duración de la transición N. Se cumplirá que:\n",
    "        \n",
    "        * $N<N1$\n",
    "        * $N<N2$\n",
    "\n",
    "* Se supone que las señales a unir serán ambas stereo.\n",
    "\n",
    "* La función devolverá una señal de duración $Nout = N1 + N2 - N$\n",
    "\n",
    "\n"
   ]
  },
  {
   "cell_type": "code",
   "execution_count": 2,
   "id": "9f0949bb-f51c-47c6-9737-38a4f8e6a146",
   "metadata": {
    "nbgrader": {
     "grade": false,
     "grade_id": "cell-1de4246ad9c1f906",
     "locked": false,
     "schema_version": 3,
     "solution": true,
     "task": false
    }
   },
   "outputs": [],
   "source": [
    "def cross_fade(x1,x2,N):\n",
    "\n",
    "    # Comprobar que ambas son stereo\n",
    "    assert x1.ndim==2\n",
    "    assert x2.ndim==2\n",
    "    assert x1.shape[1]==2\n",
    "    assert x2.shape[1]==2\n",
    "    \n",
    "    N1=x1.shape[0]\n",
    "    N2=x2.shape[0]\n",
    "\n",
    "    assert N1>N\n",
    "    assert N2>N\n",
    "\n",
    "    ### BEGIN SOLUTION\n",
    "    rampin=np.linspace(0.0,1.0,N)\n",
    "    rampout=np.linspace(1.0,0.0,N)\n",
    "    \n",
    "    rampin=np.expand_dims(rampin,1)\n",
    "    rampout=np.expand_dims(rampout,1)\n",
    "\n",
    "    ini1=x1[:-N,:]\n",
    "    fin1=x1[-N:,:]\n",
    "    ini2=x2[:N,:]\n",
    "    fin2=x2[N:,:]\n",
    "    centro=fin1*rampout+ini2*rampin\n",
    "    out=np.concatenate((ini1,centro,fin2),axis=0)\n",
    "    return out\n",
    "    ### END SOLUTION\n",
    "    "
   ]
  },
  {
   "cell_type": "code",
   "execution_count": 3,
   "id": "f94f9c2e-c652-49ed-9623-a670989d5a78",
   "metadata": {
    "nbgrader": {
     "grade": false,
     "grade_id": "cell-f342bb1720fb2433",
     "locked": true,
     "schema_version": 3,
     "solution": false,
     "task": false
    }
   },
   "outputs": [
    {
     "data": {
      "image/png": "[encoded data removed]",
      "text/plain": [
       "<Figure size 640x480 with 2 Axes>"
      ]
     },
     "metadata": {},
     "output_type": "display_data"
    }
   ],
   "source": [
    "#Celda para verificar si el código es correcto\n",
    "x1=np.ones((7,2)) # Señal que es todo unos\n",
    "x2=2*np.ones((6,2)) # Señal que es todo doses\n",
    "N=4 # Duración de la transicion\n",
    "\n",
    "out=cross_fade(x1,x2,N) # Llamada a la función\n",
    "\n",
    "############## Gráficas para comparar #####\n",
    "_=plt.subplot(121)\n",
    "_=plt.plot(out[:,0])\n",
    "_=plt.plot(out[:,0],'*r')\n",
    "_=plt.title('Resultado Obtenido')\n",
    "\n",
    "# Cargar y representar el resultado esperado para comparar\n",
    "_=plt.subplot(122)\n",
    "esperado=np.load(\"res_esperado.npy\")\n",
    "_=plt.plot(esperado[:,0])\n",
    "_=plt.plot(esperado[:,0],'*r')\n",
    "_=plt.title('Resultado Esperado')"
   ]
  },
  {
   "cell_type": "markdown",
   "id": "a66df172-f2c3-477f-98fb-1ca1952d701a",
   "metadata": {
    "nbgrader": {
     "grade": false,
     "grade_id": "cell-6a57939c241270fd",
     "locked": true,
     "schema_version": 3,
     "solution": false,
     "task": false
    }
   },
   "source": [
    "* Revise el código observando especialmente:\n",
    "    * La cantidad de muestras de la primera señal (valen 1)\n",
    "    * La cantidad de muestras de la segunda señal (valen 2)\n",
    "    * El total de muestras\n",
    "    * Que la duración de la transición incluye tanto la primera como última muestra (N=4 en este ejemplo)"
   ]
  },
  {
   "cell_type": "code",
   "execution_count": 4,
   "id": "162b6abc-8bb1-4eb3-94d7-97ad5e12b069",
   "metadata": {
    "nbgrader": {
     "grade": true,
     "grade_id": "cell-de19881a276c156f",
     "locked": true,
     "points": 2,
     "schema_version": 3,
     "solution": false,
     "task": false
    }
   },
   "outputs": [],
   "source": [
    "#Celda para verificar si el código es correcto\n",
    "### BEGIN TESTS\n",
    "assert out is not None, \"Es posible que falte hacer un return\"\n",
    "assert type(out) == type(np.ones(3)), \"El resultado debe ser un array de numpy\"\n",
    "assert out.ndim ==2 , \"El resultado debe ser un array de numpy bidimensional\"\n",
    "assert out.shape[1]==2, \"El resultado debe tener dos columnas\"\n",
    "assert out.shape[0]==(x1.shape[0]+x2.shape[0]-N), \"Las dimensiones del resultado no son validas\"\n",
    "assert np.all(np.abs(out-esperado)<1e-7) , \"Las dimensiones del resultado son válidas, pero el resultado no es correcto\"\n",
    "### END TESTS"
   ]
  },
  {
   "cell_type": "code",
   "execution_count": 5,
   "id": "f2fe8639-6b7d-4fb3-b941-7364b8b21b7c",
   "metadata": {
    "nbgrader": {
     "grade": true,
     "grade_id": "cell-220bd40ce600637f",
     "locked": true,
     "points": 3,
     "schema_version": 3,
     "solution": false,
     "task": false
    }
   },
   "outputs": [],
   "source": [
    "# Celda para evaluar\n",
    "\n",
    "np.random.seed(2)\n",
    "x1=np.random.randn(200000,2)\n",
    "x2=np.cos(2*np.pi*0.02*np.arange(100000))\n",
    "x2=np.stack((x2,x2),axis=1)\n",
    "N=27414\n",
    "out=cross_fade(x1,x2,N)\n",
    "\n",
    "### BEGIN TESTS\n",
    "assert out.shape[0]== (x1.shape[0]+x2.shape[0] - N), \"Revisar la duración del resultado\"\n",
    "### END TESTS\n",
    "# TESTS OCULTOS\n",
    "### BEGIN HIDDEN TESTS\n",
    "\n",
    "def m_cross_fade(x1,x2,N):\n",
    "\n",
    "    # Comprobar que ambas son stereo\n",
    "    assert x1.ndim==2\n",
    "    assert x2.ndim==2\n",
    "    assert x1.shape[1]==2\n",
    "    assert x2.shape[1]==2\n",
    "    \n",
    "    N1=x1.shape[0]\n",
    "    N2=x2.shape[0]\n",
    "\n",
    "    assert N1>N\n",
    "    assert N2>N\n",
    "\n",
    "    rampin=np.linspace(0.0,1.0,N)\n",
    "    rampout=np.linspace(1.0,0.0,N)\n",
    "    \n",
    "    rampin=np.expand_dims(rampin,1)\n",
    "    rampout=np.expand_dims(rampout,1)\n",
    "\n",
    "    ini1=x1[:-N,:]\n",
    "    fin1=x1[-N:,:]\n",
    "    ini2=x2[:N,:]\n",
    "    fin2=x2[N:,:]\n",
    "    centro=fin1*rampout+ini2*rampin\n",
    "    out=np.concatenate((ini1,centro,fin2),axis=0)\n",
    "    return out\n",
    "\n",
    "ref=m_cross_fade(x1,x2,N)\n",
    "assert out is not None, \"Es posible que falte hacer un return\"\n",
    "assert type(out) == type(np.ones(3)), \"El resultado debe ser un array de numpy\"\n",
    "assert out.ndim ==2 , \"El resultado debe ser un array de numpy bidimensional\"\n",
    "assert out.shape[1]==2, \"El resultado debe tener dos columnas\"\n",
    "assert out.shape[0]==(x1.shape[0]+x2.shape[0]-N), \"Las dimensiones del resultado no son validas\"\n",
    "\n",
    "assert np.all(np.abs(out-ref)<1e-7),\"Las dimensiones son correctas pero no el resultado\"\n",
    "\n",
    "### END HIDDEN TESTS"
   ]
  },
  {
   "cell_type": "markdown",
   "id": "9c8f2b16-b57e-477c-8c9c-0e9761c581a8",
   "metadata": {
    "nbgrader": {
     "grade": false,
     "grade_id": "cell-b7ada5e83dc32df6",
     "locked": true,
     "schema_version": 3,
     "solution": false,
     "task": false
    }
   },
   "source": [
    "## Aplicación a señales de audio\n",
    "\n",
    "Ahora  aplicará la función desarrollada a dos señales de audio contenidas en ficheros, para comprobar auditivamente el efecto\n",
    "\n",
    "* Cargará dichos archivos como x1 y x2\n",
    "\n",
    "  * Elegirá los 10 últimos segundos de la señal x1, y lo pondrá en una variable llamada z1\n",
    "  * Elegirá los 10 primeros segundos de la señal x2 y lo pondrá en una variable llamada z2\n",
    "\n",
    "* La duración de la transición será **2 segundos**\n"
   ]
  },
  {
   "cell_type": "code",
   "execution_count": 9,
   "id": "72924c9b-4b69-4872-bcee-6d47071214ae",
   "metadata": {
    "nbgrader": {
     "grade": false,
     "grade_id": "cell-c06cbc012a650a08",
     "locked": false,
     "schema_version": 3,
     "solution": true,
     "task": false
    }
   },
   "outputs": [],
   "source": [
    "nombre_fichero_audio1= \"audios/elvis.wav\"\n",
    "nombre_fichero_audio2= \"audios/she.wav\"\n",
    "\n",
    "fs1,x1=upv_audio.read(nombre_fichero_audio1)\n",
    "fs2,x2=upv_audio.read(nombre_fichero_audio2)\n",
    "\n",
    "z1=None # 10 últimos segundos de x1\n",
    "z2=None # 10 primeros segundos de x2\n",
    "\n",
    "N=None # Duración en muestras de la transición\n",
    "### BEGIN SOLUTION\n",
    "N=int(2*fs1)\n",
    "N10=int(10*fs1)\n",
    "z1=x1[-N10:,:]\n",
    "z2=x2[:N10,:]\n",
    "N=2*fs1\n",
    "### END SOLUTION\n",
    "\n",
    "assert z1 is not None and z2 is not None, \"Debe completar z1 y z2\"\n",
    "assert N is not None"
   ]
  },
  {
   "cell_type": "code",
   "execution_count": 11,
   "id": "3b1c2415-bbcf-4cae-9f7d-82cf6f5f0110",
   "metadata": {
    "nbgrader": {
     "grade": true,
     "grade_id": "cell-110e7719083f8f8e",
     "locked": true,
     "points": 2,
     "schema_version": 3,
     "solution": false,
     "task": false
    }
   },
   "outputs": [],
   "source": [
    "# Comprobación de que las señales se han truncado correctamente, z1 y z2 y N está bien\n",
    "\n",
    "### BEGIN HIDDEN TESTS\n",
    "M10=int(10*fs1)\n",
    "assert N==2*fs1, \"El valor de N no es correcto\"\n",
    "assert type(x1)==type(z1), \"z1 debe ser un array de numpy\"\n",
    "assert type(x2)==type(z2), \"z2 debe ser un array de numpy\"\n",
    "assert z1.shape ==(10*fs1,2), \"Las dimensiones de z1 no son correctas\"\n",
    "assert z2.shape ==(10*fs1,2), \"Las dimensiones de z2 no son correctas\"\n",
    "assert np.allclose(z1,x1[-M10:,:]), \"Los valores de z1 no son correctos\"\n",
    "assert np.allclose(z2,x2[:M10,:]), \"Los valores de z2 no son correctos\"\n",
    "### END HIDDEN TESTS"
   ]
  },
  {
   "cell_type": "code",
   "execution_count": null,
   "id": "eae33dc0-7fac-4a57-a797-39d02b8b49f9",
   "metadata": {
    "nbgrader": {
     "grade": false,
     "grade_id": "cell-70245bffd2c6f31a",
     "locked": true,
     "schema_version": 3,
     "solution": false,
     "task": false
    }
   },
   "outputs": [],
   "source": [
    "## Escuche el resultado para ver si la transición es correcta\n",
    "# La transición debe producirse entre el segundo 8 y el segundo 10\n",
    "resultado=cross_fade(z1,z2,N)\n",
    "\n",
    "Audio(resultado.T,rate=fs1)\n"
   ]
  },
  {
   "cell_type": "code",
   "execution_count": null,
   "id": "f535e7f4-fc4f-448a-816c-37420659d9ab",
   "metadata": {},
   "outputs": [],
   "source": []
  }
 ],
 "metadata": {
  "kernelspec": {
   "display_name": "Python 3 (ipykernel)",
   "language": "python",
   "name": "python3"
  },
  "language_info": {
   "codemirror_mode": {
    "name": "ipython",
    "version": 3
   },
   "file_extension": ".py",
   "mimetype": "text/x-python",
   "name": "python",
   "nbconvert_exporter": "python",
   "pygments_lexer": "ipython3",
   "version": "3.12.7"
  }
 },
 "nbformat": 4,
 "nbformat_minor": 5
}
