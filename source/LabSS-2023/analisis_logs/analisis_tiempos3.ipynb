{
 "cells": [
  {
   "cell_type": "code",
   "execution_count": 1,
   "id": "a604d010-968c-4572-8027-78ed700038f7",
   "metadata": {},
   "outputs": [],
   "source": [
    "%load_ext autoreload\n",
    "%autoreload 2\n",
    "import pandas as pd\n",
    "import numpy as np\n",
    "import matplotlib.pyplot as plt\n",
    "from datetime import datetime\n",
    "import loganalisis\n",
    "from glob import glob"
   ]
  },
  {
   "cell_type": "code",
   "execution_count": 2,
   "id": "4dc4f30a-2495-46d4-92b7-b5d94d104960",
   "metadata": {},
   "outputs": [],
   "source": [
    "ficheros=glob(\"/srv/log/users/*.log\")"
   ]
  },
  {
   "cell_type": "code",
   "execution_count": 3,
   "id": "03eb7d0e-b618-42c8-b989-b35050993363",
   "metadata": {},
   "outputs": [
    {
     "name": "stdout",
     "output_type": "stream",
     "text": [
      "gargagu #############################################\n",
      "azabolo #############################################\n",
      "slin3 #############################################\n",
      "sdiamen #############################################\n",
      "cbencan #############################################\n",
      "dsorcol #############################################\n",
      "nchudic #############################################\n",
      "vpercol #############################################\n",
      "solilop #############################################\n",
      "mgardia #############################################\n",
      "dji #############################################\n",
      "allirtap #############################################\n",
      "jcresub #############################################\n",
      "gvidtar #############################################\n",
      "rjimalb #############################################\n",
      "ytarrui #############################################\n",
      "balbben #############################################\n",
      "pgarmar5 #############################################\n",
      "rfguelop #############################################\n",
      "clase #############################################\n",
      "dcamrui #############################################\n",
      "cclabot #############################################\n",
      "fbegbeg #############################################\n",
      "avaiksn #############################################\n",
      "arobsal #############################################\n",
      "ddielaf #############################################\n",
      "jperalv #############################################\n",
      "nterala #############################################\n",
      "pbosram #############################################\n",
      "klaskev #############################################\n",
      "sripcig #############################################\n",
      "profesor #############################################\n",
      "cgimmat #############################################\n",
      "igompic #############################################\n",
      "gmuoqui #############################################\n",
      "ngomtro #############################################\n",
      "atabgar #############################################\n",
      "pferrui #############################################\n",
      "xhu2 #############################################\n",
      "nherrub #############################################\n",
      "cferalo #############################################\n",
      "bfercol1 #############################################\n",
      "mastoica #############################################\n",
      "ppalmed #############################################\n",
      "gpagchi #############################################\n"
     ]
    }
   ],
   "source": [
    "tiempos={}\n",
    "\n",
    "for f in ficheros:\n",
    "    user=f.split(\"/\")[-1]\n",
    "    user=user.split(\".\")[0]\n",
    "    print(user,\"#############################################\")\n",
    "    res=loganalisis.resumen(f)\n",
    "    tiempos[user]={}\n",
    "    for k,v in res.items():\n",
    "        #print(k, ' : ')\n",
    "        #print(v)\n",
    "        tiempos[user][k]=v['min_totales']\n",
    "        #print(\"==========================\")"
   ]
  },
  {
   "cell_type": "code",
   "execution_count": 4,
   "id": "e590d1f8-7115-49f6-b4af-c541dc0da70c",
   "metadata": {},
   "outputs": [],
   "source": [
    "tiempos_df=pd.DataFrame(tiempos).T"
   ]
  },
  {
   "cell_type": "code",
   "execution_count": 5,
   "id": "7bacd829-2383-41b2-814f-89c3c074a29d",
   "metadata": {},
   "outputs": [],
   "source": [
    "tiempos_df=tiempos_df.sort_index()\n",
    "tiempos_df=tiempos_df[sorted(tiempos_df)]"
   ]
  },
  {
   "cell_type": "code",
   "execution_count": 6,
   "id": "d71e9216-83bf-4baa-bb67-85f4b96fb0f8",
   "metadata": {},
   "outputs": [
    {
     "data": {
      "text/plain": [
       "Index(['01-Basic Params', '01-read_and_info', '02-Analisis Bloques',\n",
       "       '02-slicing', '03-Promedios Deslizantes', '03-juntando',\n",
       "       '03b-Receptor Digital', '04-operaciones_matem',\n",
       "       '05-Seleccionando elementos', 'transmisor_digital'],\n",
       "      dtype='object')"
      ]
     },
     "execution_count": 6,
     "metadata": {},
     "output_type": "execute_result"
    }
   ],
   "source": [
    "tiempos_df.columns"
   ]
  },
  {
   "cell_type": "code",
   "execution_count": 7,
   "id": "816e1bd0-900e-4c02-b17a-4b267a6eb91e",
   "metadata": {},
   "outputs": [],
   "source": [
    "tiempos_ordenados=tiempos_df.loc[:,['01-read_and_info','02-slicing','03-juntando', '04-operaciones_matem','05-Seleccionando elementos','01-Basic Params','02-Analisis Bloques','03-Promedios Deslizantes']]"
   ]
  },
  {
   "cell_type": "code",
   "execution_count": 8,
   "id": "29b6bc30-7a1b-40b4-8ef3-2ca03d15d279",
   "metadata": {},
   "outputs": [
    {
     "data": {
      "text/html": [
       "<div>\n",
       "<style scoped>\n",
       "    .dataframe tbody tr th:only-of-type {\n",
       "        vertical-align: middle;\n",
       "    }\n",
       "\n",
       "    .dataframe tbody tr th {\n",
       "        vertical-align: top;\n",
       "    }\n",
       "\n",
       "    .dataframe thead th {\n",
       "        text-align: right;\n",
       "    }\n",
       "</style>\n",
       "<table border=\"1\" class=\"dataframe\">\n",
       "  <thead>\n",
       "    <tr style=\"text-align: right;\">\n",
       "      <th></th>\n",
       "      <th>01-read_and_info</th>\n",
       "      <th>02-slicing</th>\n",
       "      <th>03-juntando</th>\n",
       "      <th>04-operaciones_matem</th>\n",
       "      <th>05-Seleccionando elementos</th>\n",
       "      <th>01-Basic Params</th>\n",
       "      <th>02-Analisis Bloques</th>\n",
       "      <th>03-Promedios Deslizantes</th>\n",
       "    </tr>\n",
       "  </thead>\n",
       "  <tbody>\n",
       "    <tr>\n",
       "      <th>allirtap</th>\n",
       "      <td>52.0</td>\n",
       "      <td>99.0</td>\n",
       "      <td>75.0</td>\n",
       "      <td>39.0</td>\n",
       "      <td>5.0</td>\n",
       "      <td>69.0</td>\n",
       "      <td>45.0</td>\n",
       "      <td>NaN</td>\n",
       "    </tr>\n",
       "    <tr>\n",
       "      <th>arobsal</th>\n",
       "      <td>53.0</td>\n",
       "      <td>86.0</td>\n",
       "      <td>19.0</td>\n",
       "      <td>77.0</td>\n",
       "      <td>79.0</td>\n",
       "      <td>83.0</td>\n",
       "      <td>88.0</td>\n",
       "      <td>NaN</td>\n",
       "    </tr>\n",
       "    <tr>\n",
       "      <th>atabgar</th>\n",
       "      <td>52.0</td>\n",
       "      <td>105.0</td>\n",
       "      <td>25.0</td>\n",
       "      <td>66.0</td>\n",
       "      <td>18.0</td>\n",
       "      <td>26.0</td>\n",
       "      <td>48.0</td>\n",
       "      <td>NaN</td>\n",
       "    </tr>\n",
       "    <tr>\n",
       "      <th>avaiksn</th>\n",
       "      <td>NaN</td>\n",
       "      <td>63.0</td>\n",
       "      <td>36.0</td>\n",
       "      <td>69.0</td>\n",
       "      <td>36.0</td>\n",
       "      <td>76.0</td>\n",
       "      <td>44.0</td>\n",
       "      <td>NaN</td>\n",
       "    </tr>\n",
       "    <tr>\n",
       "      <th>azabolo</th>\n",
       "      <td>81.0</td>\n",
       "      <td>62.0</td>\n",
       "      <td>29.0</td>\n",
       "      <td>66.0</td>\n",
       "      <td>45.0</td>\n",
       "      <td>20.0</td>\n",
       "      <td>66.0</td>\n",
       "      <td>NaN</td>\n",
       "    </tr>\n",
       "  </tbody>\n",
       "</table>\n",
       "</div>"
      ],
      "text/plain": [
       "          01-read_and_info  02-slicing  03-juntando  04-operaciones_matem  \\\n",
       "allirtap              52.0        99.0         75.0                  39.0   \n",
       "arobsal               53.0        86.0         19.0                  77.0   \n",
       "atabgar               52.0       105.0         25.0                  66.0   \n",
       "avaiksn                NaN        63.0         36.0                  69.0   \n",
       "azabolo               81.0        62.0         29.0                  66.0   \n",
       "\n",
       "          05-Seleccionando elementos  01-Basic Params  02-Analisis Bloques  \\\n",
       "allirtap                         5.0             69.0                 45.0   \n",
       "arobsal                         79.0             83.0                 88.0   \n",
       "atabgar                         18.0             26.0                 48.0   \n",
       "avaiksn                         36.0             76.0                 44.0   \n",
       "azabolo                         45.0             20.0                 66.0   \n",
       "\n",
       "          03-Promedios Deslizantes  \n",
       "allirtap                       NaN  \n",
       "arobsal                        NaN  \n",
       "atabgar                        NaN  \n",
       "avaiksn                        NaN  \n",
       "azabolo                        NaN  "
      ]
     },
     "execution_count": 8,
     "metadata": {},
     "output_type": "execute_result"
    }
   ],
   "source": [
    "tiempos_ordenados.head()"
   ]
  },
  {
   "cell_type": "code",
   "execution_count": 9,
   "id": "d100b469-b48f-445a-8afa-3139e36f8aeb",
   "metadata": {},
   "outputs": [
    {
     "data": {
      "text/plain": [
       "01-read_and_info               48.648649\n",
       "02-slicing                    111.232558\n",
       "03-juntando                    42.116279\n",
       "04-operaciones_matem           59.395349\n",
       "05-Seleccionando elementos     33.837209\n",
       "01-Basic Params                42.380952\n",
       "02-Analisis Bloques            44.846154\n",
       "03-Promedios Deslizantes        0.000000\n",
       "dtype: float64"
      ]
     },
     "execution_count": 9,
     "metadata": {},
     "output_type": "execute_result"
    }
   ],
   "source": [
    "tiempos_ordenados.mean(axis=0)"
   ]
  },
  {
   "cell_type": "code",
   "execution_count": 10,
   "id": "95a2a018-8bfc-4e60-80f4-3454131f4549",
   "metadata": {},
   "outputs": [],
   "source": [
    "to=tiempos_ordenados.iloc[:,:5].sum(axis=1)"
   ]
  },
  {
   "cell_type": "code",
   "execution_count": 11,
   "id": "7311ab30-ff9a-4f95-8050-a2ec3cf0338c",
   "metadata": {},
   "outputs": [
    {
     "data": {
      "text/plain": [
       "allirtap     -5.622222\n",
       "arobsal      38.377778\n",
       "atabgar      -9.622222\n",
       "avaiksn     -71.622222\n",
       "azabolo       7.377778\n",
       "balbben     156.377778\n",
       "bfercol1     83.377778\n",
       "cbencan    -152.622222\n",
       "cclabot    -114.622222\n",
       "cferalo     -16.622222\n",
       "cgimmat     137.377778\n",
       "clase       -75.622222\n",
       "dcamrui      12.377778\n",
       "ddielaf     -37.622222\n",
       "dji          63.377778\n",
       "dsorcol      35.377778\n",
       "fbegbeg     170.377778\n",
       "gargagu     -45.622222\n",
       "gmuoqui    -142.622222\n",
       "gpagchi      15.377778\n",
       "gvidtar      18.377778\n",
       "igompic      33.377778\n",
       "jcresub      84.377778\n",
       "jperalv     -51.622222\n",
       "klaskev     -94.622222\n",
       "mastoica    -72.622222\n",
       "mgardia      92.377778\n",
       "nchudic     -36.622222\n",
       "ngomtro      12.377778\n",
       "nherrub      50.377778\n",
       "nterala    -222.622222\n",
       "pbosram     -40.622222\n",
       "pferrui      -6.622222\n",
       "pgarmar5    222.377778\n",
       "ppalmed    -119.622222\n",
       "profesor   -210.622222\n",
       "rfguelop     81.377778\n",
       "rjimalb      72.377778\n",
       "sdiamen     100.377778\n",
       "slin3        50.377778\n",
       "solilop     114.377778\n",
       "sripcig    -183.622222\n",
       "vpercol     124.377778\n",
       "xhu2         -2.622222\n",
       "ytarrui     -62.622222\n",
       "dtype: float64"
      ]
     },
     "execution_count": 11,
     "metadata": {},
     "output_type": "execute_result"
    }
   ],
   "source": [
    "to - to.mean()"
   ]
  },
  {
   "cell_type": "code",
   "execution_count": 12,
   "id": "fa1e542e-3134-4df2-aade-de32f869d056",
   "metadata": {},
   "outputs": [
    {
     "data": {
      "text/plain": [
       "allirtap    270.0\n",
       "arobsal     314.0\n",
       "atabgar     266.0\n",
       "avaiksn     204.0\n",
       "azabolo     283.0\n",
       "balbben     432.0\n",
       "bfercol1    359.0\n",
       "cbencan     123.0\n",
       "cclabot     161.0\n",
       "cferalo     259.0\n",
       "cgimmat     413.0\n",
       "clase       200.0\n",
       "dcamrui     288.0\n",
       "ddielaf     238.0\n",
       "dji         339.0\n",
       "dsorcol     311.0\n",
       "fbegbeg     446.0\n",
       "gargagu     230.0\n",
       "gmuoqui     133.0\n",
       "gpagchi     291.0\n",
       "gvidtar     294.0\n",
       "igompic     309.0\n",
       "jcresub     360.0\n",
       "jperalv     224.0\n",
       "klaskev     181.0\n",
       "mastoica    203.0\n",
       "mgardia     368.0\n",
       "nchudic     239.0\n",
       "ngomtro     288.0\n",
       "nherrub     326.0\n",
       "nterala      53.0\n",
       "pbosram     235.0\n",
       "pferrui     269.0\n",
       "pgarmar5    498.0\n",
       "ppalmed     156.0\n",
       "profesor     65.0\n",
       "rfguelop    357.0\n",
       "rjimalb     348.0\n",
       "sdiamen     376.0\n",
       "slin3       326.0\n",
       "solilop     390.0\n",
       "sripcig      92.0\n",
       "vpercol     400.0\n",
       "xhu2        273.0\n",
       "ytarrui     213.0\n",
       "dtype: float64"
      ]
     },
     "execution_count": 12,
     "metadata": {},
     "output_type": "execute_result"
    }
   ],
   "source": [
    "to"
   ]
  },
  {
   "cell_type": "code",
   "execution_count": null,
   "id": "d050ba09-090c-4999-b820-3f7d44857ace",
   "metadata": {},
   "outputs": [],
   "source": []
  }
 ],
 "metadata": {
  "kernelspec": {
   "display_name": "Python 3 (ipykernel)",
   "language": "python",
   "name": "python3"
  },
  "language_info": {
   "codemirror_mode": {
    "name": "ipython",
    "version": 3
   },
   "file_extension": ".py",
   "mimetype": "text/x-python",
   "name": "python",
   "nbconvert_exporter": "python",
   "pygments_lexer": "ipython3",
   "version": "3.12.4"
  }
 },
 "nbformat": 4,
 "nbformat_minor": 5
}
