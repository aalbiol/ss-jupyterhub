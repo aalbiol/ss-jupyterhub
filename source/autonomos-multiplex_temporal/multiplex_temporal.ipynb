{
 "cells": [
  {
   "cell_type": "code",
   "execution_count": 1,
   "id": "5a062897-9781-44f1-a51a-b3cff1f5ed7c",
   "metadata": {
    "nbgrader": {
     "grade": false,
     "grade_id": "cell-b21e0bcc179d5dee",
     "locked": true,
     "schema_version": 3,
     "solution": false,
     "task": false
    }
   },
   "outputs": [],
   "source": [
    "import numpy as np\n",
    "import matplotlib.pyplot as plt"
   ]
  },
  {
   "cell_type": "markdown",
   "id": "e52c1d6a-1c84-4a97-838a-feca6f49e1ea",
   "metadata": {
    "nbgrader": {
     "grade": false,
     "grade_id": "cell-125ee2cdd588f0ff",
     "locked": true,
     "schema_version": 3,
     "solution": false,
     "task": false
    }
   },
   "source": [
    "# Enunciado\n",
    "\n",
    "## Introducción\n",
    "\n",
    "A menudo es necesario transmitir varias señales simultáneamente por un único canal. Para ello las señales deben *multiplexarse* . Existen varios tipos de multiplexación, pero los más usuales son:\n",
    "\n",
    "* Multiplexación en el tiempo: Donde las muestras de las señales se van alternando en el tiempo.\n",
    "\n",
    "* Multiplexación en la frecuencia: donde cada una de las señales se modula con una portadora de frecuencia diferente.\n",
    "\n",
    "## Multiplexación en el tiempo\n",
    "\n",
    "En este ejercicio se realizará un multiplexor de señales en el tiempo:\n",
    "\n",
    "* Cada una de las señales a multiplexar será un array de numpy de tamaño *(N,)* . Supondremos que todas las señales son de la misma duración.\n",
    "\n",
    "* Las señales a multiplexar estarán almacenadas en una lista. Supondremos que tenemos *S* señales.\n",
    "\n",
    "* La función devolverá un array de numpy con la señal multiplex de tamaño *(NxS,1)*\n",
    "\n",
    "La siguiente celda ilustra el funcionamiento esperado:"
   ]
  },
  {
   "cell_type": "code",
   "execution_count": 14,
   "id": "4d054f82-f820-4794-9874-6dbcc4213eaf",
   "metadata": {
    "nbgrader": {
     "grade": false,
     "grade_id": "cell-2edcce62aa7d708d",
     "locked": true,
     "schema_version": 3,
     "solution": false,
     "task": false
    }
   },
   "outputs": [
    {
     "name": "stdout",
     "output_type": "stream",
     "text": [
      "Senyales a multiplexar: [array([1, 2, 3, 4, 5]), array([11, 12, 13, 14, 15]), array([21, 22, 23, 24, 25])]\n",
      "Resultado esperado de la multiplexación: [ 1 11 21  2 12 22  3 13 23  4 14 24  5 15 25]\n"
     ]
    }
   ],
   "source": [
    "x1=np.array([1,2,3,4,5])\n",
    "x2=np.array([11,12,13,14,15])\n",
    "x3=np.array([21,22,23,24,25])\n",
    "senyales=[x1,x2,x3]\n",
    "print(\"Senyales a multiplexar:\",senyales)\n",
    "resultado_esperado=np.array([1,11,21, 2,12,22, 3,13,23, 4,14,24, 5,15,25])\n",
    "print(\"Resultado esperado de la multiplexación:\", resultado_esperado)"
   ]
  },
  {
   "cell_type": "code",
   "execution_count": 15,
   "id": "af125f93-5fbe-4dbd-ada3-ad4a80ce7813",
   "metadata": {
    "nbgrader": {
     "grade": false,
     "grade_id": "cell-ed1f77e16e374b6f",
     "locked": false,
     "schema_version": 3,
     "solution": true,
     "task": false
    }
   },
   "outputs": [],
   "source": [
    "def multiplex_temporal(lista_senyales):\n",
    "    ''' Multiplexación temporal de senyales'''\n",
    "    ### BEGIN SOLUTION\n",
    "    N=len(lista_senyales[0])\n",
    "    S=len(lista_senyales)\n",
    "    y=np.zeros(N*S)\n",
    "    for k in range(S):\n",
    "        y[k::S]=lista_senyales[k]\n",
    "    return y\n",
    "    ### END SOLUTION\n",
    "    \n",
    "    "
   ]
  },
  {
   "cell_type": "code",
   "execution_count": 20,
   "id": "a6986bfa-39f3-4714-b9c5-7b282ab59a7c",
   "metadata": {
    "nbgrader": {
     "grade": false,
     "grade_id": "cell-b10d391e9b71b593",
     "locked": true,
     "schema_version": 3,
     "solution": false,
     "task": false
    }
   },
   "outputs": [],
   "source": [
    "\"\"\" Verificación pre-envío de funcionamiento correcto\n",
    "Pruebe a ejecutar esta celda hasta que no haya errores\n",
    "\"\"\"\n",
    "assert multiplex_temporal(senyales) is not None, \"Probablemente falta return\"\n",
    "assert type(multiplex_temporal(senyales)) == type(x1), \"Debe devolver un array de numpy\"\n",
    "assert resultado_esperado.shape== multiplex_temporal(senyales).shape, \"El tamaño de la salida no es válido\"\n",
    "assert np.all(multiplex_temporal(senyales) == resultado_esperado), \"El resultado tiene el tamaño adecuado pero no los valores adecuados\"\n"
   ]
  },
  {
   "cell_type": "code",
   "execution_count": 29,
   "id": "e783587e-238c-419d-aa0d-129ec02c34b3",
   "metadata": {
    "nbgrader": {
     "grade": true,
     "grade_id": "cell-d5089a0373aa90d6",
     "locked": true,
     "points": 2,
     "schema_version": 3,
     "solution": false,
     "task": false
    }
   },
   "outputs": [],
   "source": [
    "\"\"\" Verificación de funcionamiento correcto\"\"\"\n",
    "\n",
    "### BEGIN HIDDEN TESTS\n",
    "SS=4\n",
    "lista=[]\n",
    "N=100\n",
    "for k in range(SS):\n",
    "    lista.append(np.random.rand(N))\n",
    "resultado=multiplex_temporal(lista)\n",
    "\n",
    "assert resultado is not None, \"Probablemente falta return\"\n",
    "assert type(resultado) == type(lista[0]), \"Debe devolver un array de numpy\"\n",
    "assert resultado.shape== (N*SS,), \"El tamaño de la salida no es válido\"\n",
    "for k in range(len(resultado)):\n",
    "    s=k%SS\n",
    "    n=k//SS\n",
    "    assert resultado[k]==lista[s][n], \"El resultado tiene el tamaño adecuado pero no los valores adecuados\"\n",
    "\n",
    "### END HIDDEN TESTS"
   ]
  },
  {
   "cell_type": "markdown",
   "id": "7109e8d9-fa72-45f9-9229-f152603ef6d4",
   "metadata": {
    "editable": true,
    "nbgrader": {
     "grade": false,
     "grade_id": "cell-c6f4c260319364eb",
     "locked": true,
     "schema_version": 3,
     "solution": false,
     "task": false
    },
    "slideshow": {
     "slide_type": ""
    },
    "tags": []
   },
   "source": [
    "## Demultiplexación\n",
    "\n",
    "Cuando las señales se transmiten multiplexadas, es normal tener que volver a separarlas en el receptor. A dicho proceso se le denomina demultiplexión.\n",
    "\n",
    "En este apartado, realizará una función para realizar la demultiplexión temporal:\n",
    "\n",
    "* Recibirá un array de numpy de tamaño (NxS,)\n",
    "\n",
    "* Recibirá el número de canales S\n",
    "\n",
    "* Devolverá una lista con L elementos cada uno de los cuales será un array de numpy de tamaño N\n",
    "\n",
    "La siguiente celda ilustra lo que se pretende: "
   ]
  },
  {
   "cell_type": "code",
   "execution_count": 30,
   "id": "9c87c82d-a693-4b34-a9d2-7181b5daa97f",
   "metadata": {
    "nbgrader": {
     "grade": false,
     "grade_id": "cell-684bba058d311fe8",
     "locked": true,
     "schema_version": 3,
     "solution": false,
     "task": false
    }
   },
   "outputs": [
    {
     "name": "stdout",
     "output_type": "stream",
     "text": [
      "Senyal multiplexada: [ 1 11 21  2 12 22  3 13 23  4 14 24  5 15 25]\n",
      "Resultado esperado demultiplexación : [array([1, 2, 3, 4, 5]), array([11, 12, 13, 14, 15]), array([21, 22, 23, 24, 25])]\n"
     ]
    }
   ],
   "source": [
    "senyal_multiplexada=np.array([1,11,21, 2,12,22, 3,13,23, 4,14,24, 5,15,25])\n",
    "print(\"Senyal multiplexada:\", resultado_esperado)\n",
    "resultado_esperado_demultiplex=[np.array([1,2,3,4,5]), \n",
    "                                np.array([11,12,13,14,15]),\n",
    "                                np.array([21,22,23,24,25])]\n",
    "\n",
    "print(\"Resultado esperado demultiplexación :\",resultado_esperado_demultiplex)\n"
   ]
  },
  {
   "cell_type": "markdown",
   "id": "014d8d0b-a8c2-448a-bcd0-e8a37e72bd65",
   "metadata": {
    "nbgrader": {
     "grade": false,
     "grade_id": "cell-84b8a4937d6eb24e",
     "locked": true,
     "schema_version": 3,
     "solution": false,
     "task": false
    }
   },
   "source": [
    "Por supuesto, la función realizada **deberá funcionar para cualquier cantidad de canales y duración de señales**"
   ]
  },
  {
   "cell_type": "code",
   "execution_count": 48,
   "id": "1aab76f0-ad7c-42d8-9d42-6c95ff843494",
   "metadata": {
    "nbgrader": {
     "grade": false,
     "grade_id": "cell-d0e3e704690478d8",
     "locked": false,
     "schema_version": 3,
     "solution": true,
     "task": false
    }
   },
   "outputs": [],
   "source": [
    "def demultiplex_temporal(multiplex, S):\n",
    "    ''' Demultiplexación temporal de senyales\n",
    "    \n",
    "    multiplex: muestras de la señal multiplexada\n",
    "    S: número de canales\n",
    "\n",
    "    Devuelve: lista de señales correspondientes a los canales.\n",
    "    '''\n",
    "\n",
    "    # Primero comprobamos que el tamaño de multiplex es múltiplo de S\n",
    "\n",
    "    assert multiplex.shape[0]%S == 0, \"La señal de entrada debe tener un tamaño múltiplo de S\"\n",
    "    \n",
    "    ### BEGIN SOLUTION\n",
    "    out=[]\n",
    "    for k in range(S):\n",
    "        out.append(multiplex[k::S])\n",
    "    return out\n",
    "    ### END SOLUTION"
   ]
  },
  {
   "cell_type": "code",
   "execution_count": 49,
   "id": "8f856383-210f-4bd6-847f-46952254f1a2",
   "metadata": {
    "nbgrader": {
     "grade": false,
     "grade_id": "cell-737670181fa48144",
     "locked": true,
     "schema_version": 3,
     "solution": false,
     "task": false
    }
   },
   "outputs": [],
   "source": [
    "\"\"\" Verificación pre-envío:\n",
    "Comprobar que las siguientes comprobaciones no dan errores\"\"\"\n",
    "multiplex=np.array([1,11,21, 2,12,22, 3,13,23, 4,14,24, 5,15,25])\n",
    "S=3\n",
    "resultado=demultiplex_temporal(multiplex,S)\n",
    "assert resultado is not None, \"Probablemente falta return\"\n",
    "assert type(resultado) == list, \"Debe devolver una lista\"\n",
    "assert len(resultado)==S, \"El resultado debe tener tantos elementos como canales\"\n",
    "for k in range(S):\n",
    "    assert len(resultado[k])==len(multiplex)//S, \"Las longitudes de las señales no son correctas. Deben coincidir con longitud de la señal múltiplex dividida por S\"\n",
    "x1=np.array([1,2,3,4,5])\n",
    "x2=np.array([11,12,13,14,15])\n",
    "x3=np.array([21,22,23,24,25])\n",
    "resultado_esperado=[x1,x2,x3]\n",
    "for k in range(S):\n",
    "    assert np.all(resultado[k] == resultado_esperado[k]), \"El resultado tiene el tamaño adecuado pero no los valores adecuados\"\n",
    "\n"
   ]
  },
  {
   "cell_type": "code",
   "execution_count": 54,
   "id": "d9f40ada-338f-4eee-9927-14b19074f736",
   "metadata": {
    "nbgrader": {
     "grade": true,
     "grade_id": "cell-0d3dc2e472854d71",
     "locked": true,
     "points": 2,
     "schema_version": 3,
     "solution": false,
     "task": false
    }
   },
   "outputs": [],
   "source": [
    "\"\"\" Verificación de funcionamiento correcto\"\"\"\n",
    "\n",
    "### BEGIN HIDDEN TESTS\n",
    "SS=7\n",
    "N=100\n",
    "multiplex1=np.random.randn(SS*N)\n",
    "resultado1=demultiplex_temporal(multiplex1,SS)\n",
    "\n",
    "\n",
    "\n",
    "assert resultado1 is not None, \"Probablemente falta return\"\n",
    "assert type(resultado1) == list, \"Debe devolver una lista\"\n",
    "assert len(resultado1)== SS, \"El tamaño de la lista no es válido\"\n",
    "for k in range(S):\n",
    "    assert len(resultado1[k])==len(multiplex1)//SS, \"Las longitudes de las señales no son correctas. Deben coincidir con longitud de la señal múltiplex dividida por S\"\n",
    "for k in range(len(multiplex1)):\n",
    "    s=k%SS\n",
    "    n=k//SS\n",
    "    assert multiplex1[k]==resultado1[s][n], \"El resultado tiene el tamaño adecuado pero no los valores adecuados\"\n",
    "\n",
    "### END HIDDEN TESTS"
   ]
  }
 ],
 "metadata": {
  "kernelspec": {
   "display_name": "Python 3 (ipykernel)",
   "language": "python",
   "name": "python3"
  },
  "language_info": {
   "codemirror_mode": {
    "name": "ipython",
    "version": 3
   },
   "file_extension": ".py",
   "mimetype": "text/x-python",
   "name": "python",
   "nbconvert_exporter": "python",
   "pygments_lexer": "ipython3",
   "version": "3.12.2"
  }
 },
 "nbformat": 4,
 "nbformat_minor": 5
}
