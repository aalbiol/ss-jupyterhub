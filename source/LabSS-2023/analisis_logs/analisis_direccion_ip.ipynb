{
 "cells": [
  {
   "cell_type": "code",
   "execution_count": 1,
   "id": "45a1c555-8f41-4114-8cde-13cd5f1740c8",
   "metadata": {},
   "outputs": [],
   "source": [
    "from logjupyteranalysis import detecta_usuarios_dobles"
   ]
  },
  {
   "cell_type": "code",
   "execution_count": 2,
   "id": "9a1d1eaa-ee85-4112-b721-b683232b536a",
   "metadata": {},
   "outputs": [
    {
     "name": "stderr",
     "output_type": "stream",
     "text": [
      "100%|██████████| 1170452/1170452 [00:00<00:00, 5532052.05it/s]\n"
     ]
    },
    {
     "data": {
      "text/plain": [
       "{('2024-06-13', '158.42.33.171'): {'gpinyero', 'teus'},\n",
       " ('2024-06-14', '158.42.33.171'): {'gpinyero', 'madeam2', 'teus'},\n",
       " ('2024-06-20', '158.42.33.171'): {'eblanov', 'gpinyero', 'teus'}}"
      ]
     },
     "execution_count": 2,
     "metadata": {},
     "output_type": "execute_result"
    }
   ],
   "source": [
    "detecta_usuarios_dobles('logs_alberto.txt')"
   ]
  },
  {
   "cell_type": "code",
   "execution_count": null,
   "id": "33f0f6a1-66a0-4e61-b705-3c8f97218726",
   "metadata": {},
   "outputs": [],
   "source": []
  }
 ],
 "metadata": {
  "kernelspec": {
   "display_name": "Python 3 (ipykernel)",
   "language": "python",
   "name": "python3"
  },
  "language_info": {
   "codemirror_mode": {
    "name": "ipython",
    "version": 3
   },
   "file_extension": ".py",
   "mimetype": "text/x-python",
   "name": "python",
   "nbconvert_exporter": "python",
   "pygments_lexer": "ipython3",
   "version": "3.12.4"
  }
 },
 "nbformat": 4,
 "nbformat_minor": 5
}
