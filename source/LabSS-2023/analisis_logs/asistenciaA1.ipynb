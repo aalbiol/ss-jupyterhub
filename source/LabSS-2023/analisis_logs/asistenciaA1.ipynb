{
 "cells": [
  {
   "cell_type": "code",
   "execution_count": 1,
   "id": "a604d010-968c-4572-8027-78ed700038f7",
   "metadata": {},
   "outputs": [],
   "source": [
    "%load_ext autoreload\n",
    "%autoreload 2\n",
    "import pandas as pd\n",
    "import numpy as np\n",
    "import matplotlib.pyplot as plt\n",
    "from datetime import datetime\n",
    "import loganalisis\n",
    "from glob import glob\n",
    "import os"
   ]
  },
  {
   "cell_type": "code",
   "execution_count": 2,
   "id": "cdc3b565-58b7-44ef-8c18-99b3fd108aee",
   "metadata": {},
   "outputs": [],
   "source": [
    "#Jueves\n",
    "diasA1=[datetime(2024,9,26),\n",
    "      datetime(2024,10,3),\n",
    "      datetime(2024,10,10),\n",
    "      datetime(2024,10,17),\n",
    "      datetime(2024,10,24),\n",
    "      datetime(2024,10,31),\n",
    "      datetime(2024,11,7),\n",
    "      datetime(2024,11,14),\n",
    "      datetime(2024,11,21),\n",
    "      datetime(2024,11,28),\n",
    "      datetime(2024,12,12),\n",
    "      datetime(2024,12,19),\n",
    "      datetime(2025,1,9)]\n",
    "\n",
    "#Viernes\n",
    "diasA1=[datetime(2024,9,27),\n",
    "      datetime(2024,10,4),\n",
    "      datetime(2024,10,11),\n",
    "      datetime(2024,10,18),\n",
    "      datetime(2024,10,25),\n",
    "      datetime(2024,11,8),\n",
    "      datetime(2024,11,15),\n",
    "      datetime(2024,11,22),\n",
    "      datetime(2024,11,29),\n",
    "      datetime(2024,12,5),# Es un jueves permiutado\n",
    "      datetime(2024,12,13),\n",
    "      datetime(2024,12,20),\n",
    "      datetime(2025,1,10)]\n",
    "\n",
    "#Martes\n",
    "diasA3=[datetime(2024,9,24),\n",
    "      datetime(2024,10,1),\n",
    "      datetime(2024,10,15),\n",
    "      datetime(2024,10,22),\n",
    "      datetime(2024,10,29),\n",
    "      datetime(2024,11,5),\n",
    "      datetime(2024,11,12),\n",
    "      datetime(2024,11,19),\n",
    "      datetime(2024,11,26),\n",
    "      datetime(2024,12,3),\n",
    "      datetime(2024,12,10),\n",
    "      datetime(2024,12,17),\n",
    "      datetime(2025,1,7)]\n",
    "horario=[17,20]\n",
    "\n",
    "excluidos=[\"profesor\", \"clase\"]"
   ]
  },
  {
   "cell_type": "code",
   "execution_count": 3,
   "id": "46306b17-b84a-4620-8773-e209124c4c8d",
   "metadata": {},
   "outputs": [
    {
     "name": "stdout",
     "output_type": "stream",
     "text": [
      "6\n"
     ]
    }
   ],
   "source": [
    "ficheros = glob(\"/srv/log/users/*.log\")\n",
    "print(len(ficheros))"
   ]
  },
  {
   "cell_type": "code",
   "execution_count": 4,
   "id": "8c1f9e9a-3078-4a27-9c82-1f6bfaec729f",
   "metadata": {},
   "outputs": [],
   "source": [
    "hoy = datetime.now().date()\n",
    "\n",
    "tabladict={}\n",
    "for f in ficheros:\n",
    "    usuario=os.path.basename(f).replace(\".log\",\"\")\n",
    "    if usuario in excluidos :\n",
    "        continue\n",
    "    res=loganalisis.asistencia(f,diasA1,horario)\n",
    "    hasta_hoy={}\n",
    "    for k,v in res.items():\n",
    "        if k > hoy:\n",
    "            continue\n",
    "        hasta_hoy[k]=v\n",
    "    serie=pd.Series(hasta_hoy)    \n",
    "    tabladict[usuario]=serie\n",
    "    #print(usuario,hasta_hoy)\n",
    "df=pd.DataFrame(tabladict).T\n",
    "\n",
    "df=df.sort_index()\n",
    "        "
   ]
  },
  {
   "cell_type": "code",
   "execution_count": 5,
   "id": "c67d1f6f-de33-4bbc-8bf0-978a4ffaa35c",
   "metadata": {},
   "outputs": [
    {
     "data": {
      "text/html": [
       "<div>\n",
       "<style scoped>\n",
       "    .dataframe tbody tr th:only-of-type {\n",
       "        vertical-align: middle;\n",
       "    }\n",
       "\n",
       "    .dataframe tbody tr th {\n",
       "        vertical-align: top;\n",
       "    }\n",
       "\n",
       "    .dataframe thead th {\n",
       "        text-align: right;\n",
       "    }\n",
       "</style>\n",
       "<table border=\"1\" class=\"dataframe\">\n",
       "  <thead>\n",
       "    <tr style=\"text-align: right;\">\n",
       "      <th></th>\n",
       "    </tr>\n",
       "  </thead>\n",
       "  <tbody>\n",
       "    <tr>\n",
       "      <th>cclabot</th>\n",
       "    </tr>\n",
       "    <tr>\n",
       "      <th>mastoica</th>\n",
       "    </tr>\n",
       "    <tr>\n",
       "      <th>mblamar</th>\n",
       "    </tr>\n",
       "    <tr>\n",
       "      <th>nchudic</th>\n",
       "    </tr>\n",
       "  </tbody>\n",
       "</table>\n",
       "</div>"
      ],
      "text/plain": [
       "Empty DataFrame\n",
       "Columns: []\n",
       "Index: [cclabot, mastoica, mblamar, nchudic]"
      ]
     },
     "execution_count": 5,
     "metadata": {},
     "output_type": "execute_result"
    }
   ],
   "source": [
    "df"
   ]
  },
  {
   "cell_type": "markdown",
   "id": "673f3674-46ee-420d-9345-de34a3e8e2c7",
   "metadata": {},
   "source": [
    "# Los del jueves que fueron el martes la primera seman"
   ]
  },
  {
   "cell_type": "code",
   "execution_count": 6,
   "id": "0e48bad3-3066-4f04-92c4-1982294aaf27",
   "metadata": {},
   "outputs": [],
   "source": [
    "hoy = datetime.now().date()\n",
    "\n",
    "tabladict={}\n",
    "for f in ficheros:\n",
    "    usuario=os.path.basename(f).replace(\".log\",\"\")\n",
    "    if usuario in excluidos :\n",
    "        continue\n",
    "    res=loganalisis.asistencia(f,diasA3,horario)\n",
    "    hasta_hoy={}\n",
    "    for k,v in res.items():\n",
    "        if k > hoy:\n",
    "            continue\n",
    "        hasta_hoy[k]=v\n",
    "    serie=pd.Series(hasta_hoy)    \n",
    "    tabladict[usuario]=serie\n",
    "    #print(usuario,hasta_hoy)\n",
    "df=pd.DataFrame(tabladict).T\n",
    "\n",
    "df=df.sort_index()"
   ]
  },
  {
   "cell_type": "code",
   "execution_count": 7,
   "id": "cb7b11a1-c57e-4862-bb83-6601ad703451",
   "metadata": {},
   "outputs": [
    {
     "data": {
      "text/html": [
       "<div>\n",
       "<style scoped>\n",
       "    .dataframe tbody tr th:only-of-type {\n",
       "        vertical-align: middle;\n",
       "    }\n",
       "\n",
       "    .dataframe tbody tr th {\n",
       "        vertical-align: top;\n",
       "    }\n",
       "\n",
       "    .dataframe thead th {\n",
       "        text-align: right;\n",
       "    }\n",
       "</style>\n",
       "<table border=\"1\" class=\"dataframe\">\n",
       "  <thead>\n",
       "    <tr style=\"text-align: right;\">\n",
       "      <th></th>\n",
       "      <th>2024-09-24</th>\n",
       "    </tr>\n",
       "  </thead>\n",
       "  <tbody>\n",
       "    <tr>\n",
       "      <th>cclabot</th>\n",
       "      <td>25</td>\n",
       "    </tr>\n",
       "    <tr>\n",
       "      <th>mastoica</th>\n",
       "      <td>55</td>\n",
       "    </tr>\n",
       "    <tr>\n",
       "      <th>mblamar</th>\n",
       "      <td>51</td>\n",
       "    </tr>\n",
       "    <tr>\n",
       "      <th>nchudic</th>\n",
       "      <td>30</td>\n",
       "    </tr>\n",
       "  </tbody>\n",
       "</table>\n",
       "</div>"
      ],
      "text/plain": [
       "          2024-09-24\n",
       "cclabot           25\n",
       "mastoica          55\n",
       "mblamar           51\n",
       "nchudic           30"
      ]
     },
     "execution_count": 7,
     "metadata": {},
     "output_type": "execute_result"
    }
   ],
   "source": [
    "df"
   ]
  },
  {
   "cell_type": "code",
   "execution_count": null,
   "id": "f9dd7398-00c3-4d4c-a368-78d04bf6a56f",
   "metadata": {},
   "outputs": [],
   "source": []
  }
 ],
 "metadata": {
  "kernelspec": {
   "display_name": "Python 3 (ipykernel)",
   "language": "python",
   "name": "python3"
  },
  "language_info": {
   "codemirror_mode": {
    "name": "ipython",
    "version": 3
   },
   "file_extension": ".py",
   "mimetype": "text/x-python",
   "name": "python",
   "nbconvert_exporter": "python",
   "pygments_lexer": "ipython3",
   "version": "3.12.4"
  }
 },
 "nbformat": 4,
 "nbformat_minor": 5
}
