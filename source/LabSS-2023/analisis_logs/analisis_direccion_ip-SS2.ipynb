{
 "cells": [
  {
   "cell_type": "code",
   "execution_count": 1,
   "id": "45a1c555-8f41-4114-8cde-13cd5f1740c8",
   "metadata": {},
   "outputs": [],
   "source": [
    "from logjupyteranalysis import detecta_usuarios_dobles\n",
    "from logjupyteranalysis import  detecta_usuarios_dobles_hora\n",
    "from logjupyteranalysis import carga_tabla"
   ]
  },
  {
   "cell_type": "code",
   "execution_count": 2,
   "id": "9a1d1eaa-ee85-4112-b721-b683232b536a",
   "metadata": {},
   "outputs": [
    {
     "name": "stderr",
     "output_type": "stream",
     "text": [
      "100%|██████████| 1298083/1298083 [00:00<00:00, 4552569.73it/s]\n",
      "/home/profesor/Curso/source/LabSS-2023/analisis_logs/logjupyteranalysis.py:60: UserWarning: Could not infer format, so each element will be parsed individually, falling back to `dateutil`. To ensure parsing is consistent and as-expected, please specify a format.\n",
      "  df['hora_dt']=pd.to_datetime(df['hora'])\n"
     ]
    },
    {
     "name": "stdout",
     "output_type": "stream",
     "text": [
      "=========================\n",
      "ajimcas 2024-10-17 21:21:23.430000 2024-10-17 21:44:38.985000\n",
      "sripcig 2024-10-17 14:18:26.032000 2024-10-17 14:41:17.167000\n",
      "=========================\n",
      "sruiper 2024-10-17 08:08:29.791000 2024-10-17 08:09:10.794000\n",
      "rrieagu 2024-10-17 08:07:42.744000 2024-10-17 08:09:42.854000\n",
      "=========================\n",
      "sruiper 2024-10-17 10:59:54.382000 2024-10-17 11:01:04.698000\n",
      "rrieagu 2024-10-17 10:57:18.233000 2024-10-17 10:59:20.971000\n",
      "amiqfus 2024-10-17 11:02:43.998000 2024-10-17 11:03:04.200000\n",
      "=========================\n",
      "sruiper 2024-10-17 14:06:15.480000 2024-10-17 14:06:25.544000\n",
      "rrieagu 2024-10-17 13:37:34.866000 2024-10-17 14:05:37.733000\n",
      "=========================\n",
      "sruiper 2024-10-17 16:09:26.667000 2024-10-17 16:09:27.639000\n",
      "rrieagu 2024-10-17 16:14:30.582000 2024-10-17 17:40:15.889000\n",
      "amiqfus 2024-10-17 16:10:28.192000 2024-10-17 17:16:00.867000\n",
      "=========================\n",
      "xblagon 2024-10-17 18:12:40.577000 2024-10-17 18:37:06.629000\n",
      "spuerob 2024-10-17 22:07:40.526000 2024-10-17 22:24:00.339000\n",
      "=========================\n",
      "alifriv 2024-10-17 19:49:22.465000 2024-10-17 20:05:42.240000\n",
      "jcotmar 2024-10-17 13:31:52.032000 2024-10-17 13:45:23.125000\n",
      "=========================\n",
      "sruiper 2024-10-17 21:27:33.039000 2024-10-17 21:27:33.875000\n",
      "rrieagu 2024-10-17 21:23:29.523000 2024-10-17 21:34:27.778000\n",
      "amiqfus 2024-10-17 21:33:47.403000 2024-10-17 21:34:07.495000\n",
      "=========================\n",
      "sruiper 2024-10-17 14:34:16.560000 2024-10-17 14:37:26.603000\n",
      "rrieagu 2024-10-17 14:33:50.327000 2024-10-17 14:39:29.137000\n"
     ]
    },
    {
     "data": {
      "text/plain": [
       "{('2024-10-06', '158.42.46.131'): {'ajimcas', 'sripcig'},\n",
       " ('2024-10-07', '158.42.36.15'): {'rrieagu', 'sruiper'},\n",
       " ('2024-10-08', '158.42.46.74'): {'amiqfus', 'rrieagu', 'sruiper'},\n",
       " ('2024-10-12', '158.42.46.134'): {'rrieagu', 'sruiper'},\n",
       " ('2024-10-12', '158.42.46.98'): {'amiqfus', 'rrieagu', 'sruiper'},\n",
       " ('2024-10-12', '158.42.36.135'): {'spuerob', 'xblagon'},\n",
       " ('2024-10-13', '158.42.36.112'): {'alifriv', 'jcotmar'},\n",
       " ('2024-10-13', '158.42.46.128'): {'amiqfus', 'rrieagu', 'sruiper'},\n",
       " ('2024-10-14', '158.42.36.101'): {'rrieagu', 'sruiper'}}"
      ]
     },
     "execution_count": 2,
     "metadata": {},
     "output_type": "execute_result"
    }
   ],
   "source": [
    "detecta_usuarios_dobles('/srv/log/jupyterhub.log' )"
   ]
  },
  {
   "cell_type": "code",
   "execution_count": 3,
   "id": "33f0f6a1-66a0-4e61-b705-3c8f97218726",
   "metadata": {},
   "outputs": [
    {
     "name": "stderr",
     "output_type": "stream",
     "text": [
      "100%|██████████| 1296266/1296266 [00:00<00:00, 4151196.14it/s]\n"
     ]
    },
    {
     "data": {
      "text/plain": [
       "{('2024-10-07', np.int64(8), '158.42.36.15'): {'rrieagu', 'sruiper'},\n",
       " ('2024-10-08', np.int64(10), '158.42.46.74'): {'rrieagu', 'sruiper'},\n",
       " ('2024-10-08', np.int64(11), '158.42.46.74'): {'amiqfus', 'sruiper'},\n",
       " ('2024-10-12', np.int64(14), '158.42.46.134'): {'rrieagu', 'sruiper'},\n",
       " ('2024-10-12', np.int64(16), '158.42.46.98'): {'amiqfus',\n",
       "  'rrieagu',\n",
       "  'sruiper'},\n",
       " ('2024-10-12', np.int64(17), '158.42.46.98'): {'amiqfus', 'rrieagu'},\n",
       " ('2024-10-13', np.int64(21), '158.42.46.128'): {'amiqfus',\n",
       "  'rrieagu',\n",
       "  'sruiper'},\n",
       " ('2024-10-14', np.int64(14), '158.42.36.101'): {'rrieagu', 'sruiper'}}"
      ]
     },
     "execution_count": 3,
     "metadata": {},
     "output_type": "execute_result"
    }
   ],
   "source": [
    "detecta_usuarios_dobles_hora('/srv/log/jupyterhub.log' )"
   ]
  },
  {
   "cell_type": "code",
   "execution_count": 5,
   "id": "ed4257e8-3a1b-45b3-a095-f7c970aa6372",
   "metadata": {},
   "outputs": [],
   "source": [
    "import datetime"
   ]
  },
  {
   "cell_type": "code",
   "execution_count": 4,
   "id": "3d501a6e-830d-4f64-8768-cd2e04c54fbe",
   "metadata": {},
   "outputs": [],
   "source": [
    "ahora=datetime.datetime.now()"
   ]
  },
  {
   "cell_type": "code",
   "execution_count": 5,
   "id": "cb7561a9-06cf-4fdf-b485-198ae60254dc",
   "metadata": {},
   "outputs": [
    {
     "data": {
      "text/plain": [
       "datetime.datetime(2024, 10, 17, 19, 44, 40, 894592)"
      ]
     },
     "execution_count": 5,
     "metadata": {},
     "output_type": "execute_result"
    }
   ],
   "source": [
    "ahora"
   ]
  },
  {
   "cell_type": "code",
   "execution_count": 2,
   "id": "240654e5-866d-4dfa-9308-bb4cac99600d",
   "metadata": {},
   "outputs": [
    {
     "name": "stderr",
     "output_type": "stream",
     "text": [
      "100%|██████████| 1297330/1297330 [00:00<00:00, 4548647.09it/s]\n",
      "/home/profesor/Curso/source/LabSS-2023/analisis_logs/logjupyteranalysis.py:60: UserWarning: Could not infer format, so each element will be parsed individually, falling back to `dateutil`. To ensure parsing is consistent and as-expected, please specify a format.\n",
      "  df['hora_dt']=pd.to_datetime(df['hora'])\n"
     ]
    }
   ],
   "source": [
    "df=carga_tabla('/srv/log/jupyterhub.log' )"
   ]
  },
  {
   "cell_type": "code",
   "execution_count": 3,
   "id": "31e0b66f-b99e-41c9-bb03-2039715e2e0e",
   "metadata": {},
   "outputs": [
    {
     "data": {
      "text/html": [
       "<div>\n",
       "<style scoped>\n",
       "    .dataframe tbody tr th:only-of-type {\n",
       "        vertical-align: middle;\n",
       "    }\n",
       "\n",
       "    .dataframe tbody tr th {\n",
       "        vertical-align: top;\n",
       "    }\n",
       "\n",
       "    .dataframe thead th {\n",
       "        text-align: right;\n",
       "    }\n",
       "</style>\n",
       "<table border=\"1\" class=\"dataframe\">\n",
       "  <thead>\n",
       "    <tr style=\"text-align: right;\">\n",
       "      <th></th>\n",
       "      <th>fecha</th>\n",
       "      <th>hora</th>\n",
       "      <th>usuario</th>\n",
       "      <th>ip</th>\n",
       "      <th>hora_dt</th>\n",
       "    </tr>\n",
       "  </thead>\n",
       "  <tbody>\n",
       "    <tr>\n",
       "      <th>0</th>\n",
       "      <td>2024-08-30</td>\n",
       "      <td>07:58:11.786</td>\n",
       "      <td>malmmer</td>\n",
       "      <td>158.42.188.60</td>\n",
       "      <td>2024-10-17 07:58:11.786</td>\n",
       "    </tr>\n",
       "    <tr>\n",
       "      <th>1</th>\n",
       "      <td>2024-08-30</td>\n",
       "      <td>07:58:12.329</td>\n",
       "      <td>malmmer</td>\n",
       "      <td>158.42.188.60</td>\n",
       "      <td>2024-10-17 07:58:12.329</td>\n",
       "    </tr>\n",
       "    <tr>\n",
       "      <th>2</th>\n",
       "      <td>2024-08-30</td>\n",
       "      <td>07:58:21.944</td>\n",
       "      <td>malmmer</td>\n",
       "      <td>158.42.188.60</td>\n",
       "      <td>2024-10-17 07:58:21.944</td>\n",
       "    </tr>\n",
       "    <tr>\n",
       "      <th>3</th>\n",
       "      <td>2024-08-30</td>\n",
       "      <td>07:58:32.041</td>\n",
       "      <td>malmmer</td>\n",
       "      <td>158.42.188.60</td>\n",
       "      <td>2024-10-17 07:58:32.041</td>\n",
       "    </tr>\n",
       "    <tr>\n",
       "      <th>4</th>\n",
       "      <td>2024-08-30</td>\n",
       "      <td>07:58:42.136</td>\n",
       "      <td>malmmer</td>\n",
       "      <td>158.42.188.60</td>\n",
       "      <td>2024-10-17 07:58:42.136</td>\n",
       "    </tr>\n",
       "  </tbody>\n",
       "</table>\n",
       "</div>"
      ],
      "text/plain": [
       "        fecha          hora  usuario             ip                 hora_dt\n",
       "0  2024-08-30  07:58:11.786  malmmer  158.42.188.60 2024-10-17 07:58:11.786\n",
       "1  2024-08-30  07:58:12.329  malmmer  158.42.188.60 2024-10-17 07:58:12.329\n",
       "2  2024-08-30  07:58:21.944  malmmer  158.42.188.60 2024-10-17 07:58:21.944\n",
       "3  2024-08-30  07:58:32.041  malmmer  158.42.188.60 2024-10-17 07:58:32.041\n",
       "4  2024-08-30  07:58:42.136  malmmer  158.42.188.60 2024-10-17 07:58:42.136"
      ]
     },
     "execution_count": 3,
     "metadata": {},
     "output_type": "execute_result"
    }
   ],
   "source": [
    "df.head()"
   ]
  },
  {
   "cell_type": "code",
   "execution_count": 7,
   "id": "3e34d14b-10a3-479f-80b1-61cbc7e9e95e",
   "metadata": {},
   "outputs": [
    {
     "data": {
      "text/plain": [
       "0        07:58:11.786000\n",
       "1        07:58:12.329000\n",
       "2        07:58:21.944000\n",
       "3        07:58:32.041000\n",
       "4        07:58:42.136000\n",
       "              ...       \n",
       "86845    20:06:25.099000\n",
       "86846    20:06:35.156000\n",
       "86847    20:06:45.199000\n",
       "86848    20:06:55.235000\n",
       "86849    20:07:05.287000\n",
       "Name: hora_dt, Length: 86850, dtype: object"
      ]
     },
     "execution_count": 7,
     "metadata": {},
     "output_type": "execute_result"
    }
   ],
   "source": [
    "df['hora_dt'].dt.time"
   ]
  },
  {
   "cell_type": "code",
   "execution_count": 12,
   "id": "d8eded3b-8a8e-4f4e-a32b-31fdf172715f",
   "metadata": {},
   "outputs": [
    {
     "data": {
      "text/plain": [
       "7"
      ]
     },
     "execution_count": 12,
     "metadata": {},
     "output_type": "execute_result"
    }
   ],
   "source": [
    "a.hour"
   ]
  },
  {
   "cell_type": "code",
   "execution_count": null,
   "id": "4b6203e5-cd6a-469c-8bbe-91656cd202e9",
   "metadata": {},
   "outputs": [],
   "source": [
    "a."
   ]
  }
 ],
 "metadata": {
  "kernelspec": {
   "display_name": "Python 3 (ipykernel)",
   "language": "python",
   "name": "python3"
  },
  "language_info": {
   "codemirror_mode": {
    "name": "ipython",
    "version": 3
   },
   "file_extension": ".py",
   "mimetype": "text/x-python",
   "name": "python",
   "nbconvert_exporter": "python",
   "pygments_lexer": "ipython3",
   "version": "3.12.4"
  }
 },
 "nbformat": 4,
 "nbformat_minor": 5
}
